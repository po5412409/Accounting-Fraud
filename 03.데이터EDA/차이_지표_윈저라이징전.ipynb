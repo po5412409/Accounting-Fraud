{
 "cells": [
  {
   "cell_type": "code",
   "execution_count": 1,
   "metadata": {},
   "outputs": [],
   "source": [
    "import pandas as pd\n",
    "\n",
    "\n",
    "# CSV 파일 읽기\n",
    "df1 = pd.read_csv(r'C:\\Users\\gagag\\OneDrive\\바탕 화면\\가상Accounting-Fraud\\data\\기초통계량\\재무지표\\윈저라이징_전_정상기업.csv')\n",
    "df2 = pd.read_csv(r'C:\\Users\\gagag\\OneDrive\\바탕 화면\\가상Accounting-Fraud\\data\\기초통계량\\재무지표\\윈저라이징_전_분식기업.csv')\n",
    "\n",
    "\n",
    "# 기초 통계량 저장할 딕셔너리 초기화\n",
    "difference_dict = {}\n",
    "\n",
    "# 모든 컬럼에 대해 반복\n",
    "for column in df1.columns:\n",
    "    if column in df2.columns:\n",
    "        # 두 데이터프레임에서 수치형 데이터만 선택\n",
    "        if pd.api.types.is_numeric_dtype(df1[column]) and pd.api.types.is_numeric_dtype(df2[column]):\n",
    "            # 기초 통계량 계산\n",
    "            stats1 = df1[column].describe()\n",
    "            stats2 = df2[column].describe()\n",
    "\n",
    "            # 차이 계산\n",
    "            difference = stats1 - stats2\n",
    "            \n",
    "            # 차이를 딕셔너리에 저장\n",
    "            difference_dict[column] = difference\n",
    "\n",
    "# 딕셔너리를 데이터프레임으로 변환\n",
    "difference_df = pd.DataFrame(difference_dict)\n",
    "\n",
    "# 인덱스를 컬럼명으로 설정\n",
    "difference_df.index.name = 'Statistics'\n",
    "\n",
    "difference_df.to_csv('difference_statistics.csv', encoding='euc-kr')\n",
    "\n",
    "# 차이 데이터를 CSV 파일로 저장\n",
    "difference_df.to_csv('차이_지표_윈저라이징전.csv')\n",
    "difference_df.to_excel('차이_지표_윈저라이징전.xlsx', index=True)\n",
    "\n"
   ]
  },
  {
   "cell_type": "code",
   "execution_count": null,
   "metadata": {},
   "outputs": [],
   "source": []
  }
 ],
 "metadata": {
  "kernelspec": {
   "display_name": "Python 3",
   "language": "python",
   "name": "python3"
  },
  "language_info": {
   "codemirror_mode": {
    "name": "ipython",
    "version": 3
   },
   "file_extension": ".py",
   "mimetype": "text/x-python",
   "name": "python",
   "nbconvert_exporter": "python",
   "pygments_lexer": "ipython3",
   "version": "3.12.2"
  }
 },
 "nbformat": 4,
 "nbformat_minor": 2
}
