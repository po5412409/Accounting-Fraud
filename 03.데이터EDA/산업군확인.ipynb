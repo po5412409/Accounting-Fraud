{
 "cells": [
  {
   "cell_type": "code",
   "execution_count": 1,
   "metadata": {},
   "outputs": [],
   "source": [
    "0zimport pandas as pd\n",
    "import seaborn as sns\n",
    "import matplotlib.pyplot as plt"
   ]
  },
  {
   "cell_type": "code",
   "execution_count": 4,
   "metadata": {},
   "outputs": [],
   "source": [
    "df = pd.read_csv(\"../data/processed_data/재무비율_재무지표_concat.csv\", index_col=0)"
   ]
  },
  {
   "cell_type": "code",
   "execution_count": 6,
   "metadata": {},
   "outputs": [
    {
     "data": {
      "text/plain": [
       "Index(['회사명', '거래소코드', '회계년도', '소속코드_df1', '통계청 한국표준산업분류 코드 10차(대분류)_df1',\n",
       "       '산업코드_df1', '산업명_df1', '상장일_df1', '상장폐지일_df1', '현금및현금성자산(IFRS)',\n",
       "       ...\n",
       "       '자본분배율(IFRS)', '이윤분배율(IFRS)', '법인세비용차감전(계속사업)손익(IFRS)(백만원)',\n",
       "       '인건비(IFRS)(백만원)', '금융비용(IFRS)(백만원)', '임차료(IFRS)(백만원)',\n",
       "       '세금과공과(IFRS)(백만원)', '감가상각비(IFRS)(백만원)', '종업원수(IFRS)', 'label_df2'],\n",
       "      dtype='object', length=204)"
      ]
     },
     "execution_count": 6,
     "metadata": {},
     "output_type": "execute_result"
    }
   ],
   "source": [
    "df.columns"
   ]
  },
  {
   "cell_type": "code",
   "execution_count": 9,
   "metadata": {},
   "outputs": [],
   "source": [
    "def 산업군_분류(코드):\n",
    "    if 코드 in [1,2,3]:\n",
    "        return \"농업\"\n",
    "    elif 코드 in [5,6,7,8]:\n",
    "        return \"광업\"\n",
    "    elif (코드 >= 10)&(코드 <= 34):\n",
    "        return \"제조업\"\n",
    "    elif (코드 == 35):\n",
    "        return \"전기, 가스, 증기 및 공기 조절 공급액\" \n",
    "    elif (코드 >= 36)&(코드 <= 39):\n",
    "        return \"수도, 하수 및 폐기물 처리, 원료재생업\"\n",
    "    elif 코드 in [41, 42]:\n",
    "        return \"건설업\"\n",
    "    elif (코드 >= 45)&(코드 <= 47):\n",
    "        return \"도매 및 소매업\"\n",
    "    elif (코드 >= 49)&(코드 <= 52):\n",
    "        return \"운수 및 창고업\"\n",
    "    elif (코드 >= 55)&(코드 <= 56):\n",
    "        return \"숙박 및 음식점업\"\n",
    "    elif (코드 >= 58)&(코드 <= 63):\n",
    "        return \"정보통신업\"\n",
    "    elif (코드 >= 64)&(코드 <= 66):\n",
    "        return \"금융 및 보험업\"\n",
    "    elif (코드 == 68):\n",
    "        return \"부동산업\"\n",
    "    elif (코드 >= 70)&(코드 <= 73):\n",
    "        return \"천문, 과학 및 기술 서비스업\"\n",
    "    elif (코드 >= 74)&(코드 <= 76):\n",
    "        return \"사업시설 관리, 사업 지원 및 임대 서비스업\"\n",
    "    elif (코드 == 84):\n",
    "        return \"공공 행정, 국방 및 사회보장 행정\"\n",
    "    elif (코드 == 85):\n",
    "        return \"교육 서비스업\"\n",
    "    elif (코드 >= 86)&(코드 <= 87):\n",
    "        return \"보건업 및 사회복지 서비스업\"\n",
    "    elif (코드 >= 90)&(코드 <= 91):\n",
    "        return \"예술, 스포츠 및 여가관련 서비스업\"\n",
    "    elif (코드 >= 94)&(코드 <= 96):\n",
    "        return \"협회 및 단체, 수리 및 기타 개인 서비스업\"                \n",
    "    elif (코드 >= 97)&(코드 <= 98):\n",
    "        return \"가구 내 고용활동 및 달리 분류되지 않은 자가 소비 생산활동\"\n",
    "    elif (코드 == 99):\n",
    "        return \"국제 및 외국기관\"\n",
    "    else:\n",
    "        return \"기타산업\"\n",
    "\n",
    "df['산업군'] = df['통계청 한국표준산업분류 코드 10차(대분류)_df1'].apply(산업군_분류)"
   ]
  },
  {
   "cell_type": "code",
   "execution_count": 8,
   "metadata": {},
   "outputs": [
    {
     "data": {
      "text/plain": [
       "통계청 한국표준산업분류 코드 10차(대분류)_df1\n",
       "29    55\n",
       "26    44\n",
       "46    36\n",
       "21    29\n",
       "20    26\n",
       "58    22\n",
       "41    18\n",
       "24    17\n",
       "22    15\n",
       "71    15\n",
       "30    11\n",
       "31    11\n",
       "28     8\n",
       "12     7\n",
       "91     6\n",
       "85     6\n",
       "27     6\n",
       "45     6\n",
       "61     5\n",
       "38     5\n",
       "55     4\n",
       "25     4\n",
       "35     4\n",
       "18     4\n",
       "60     4\n",
       "72     3\n",
       "74     3\n",
       "13     2\n",
       "17     2\n",
       "51     2\n",
       "63     2\n",
       "49     2\n",
       "23     2\n",
       "42     1\n",
       "10     1\n",
       "70     1\n",
       "Name: count, dtype: int64"
      ]
     },
     "execution_count": 8,
     "metadata": {},
     "output_type": "execute_result"
    }
   ],
   "source": [
    "df['통계청 한국표준산업분류 코드 10차(대분류)_df1'].value_counts()"
   ]
  },
  {
   "cell_type": "code",
   "execution_count": 11,
   "metadata": {},
   "outputs": [
    {
     "data": {
      "text/plain": [
       "Index(['회사명', '거래소코드', '회계년도', '소속코드_df1', '통계청 한국표준산업분류 코드 10차(대분류)_df1',\n",
       "       '산업코드_df1', '산업명_df1', '상장일_df1', '상장폐지일_df1', '현금및현금성자산(IFRS)',\n",
       "       ...\n",
       "       '이윤분배율(IFRS)', '법인세비용차감전(계속사업)손익(IFRS)(백만원)', '인건비(IFRS)(백만원)',\n",
       "       '금융비용(IFRS)(백만원)', '임차료(IFRS)(백만원)', '세금과공과(IFRS)(백만원)',\n",
       "       '감가상각비(IFRS)(백만원)', '종업원수(IFRS)', 'label_df2', '산업군'],\n",
       "      dtype='object', length=205)"
      ]
     },
     "execution_count": 11,
     "metadata": {},
     "output_type": "execute_result"
    }
   ],
   "source": [
    "df.columns"
   ]
  },
  {
   "cell_type": "code",
   "execution_count": 10,
   "metadata": {},
   "outputs": [
    {
     "data": {
      "text/plain": [
       "산업군\n",
       "제조업                         244\n",
       "도매 및 소매업                     42\n",
       "정보통신업                        33\n",
       "건설업                          19\n",
       "천문, 과학 및 기술 서비스업             19\n",
       "교육 서비스업                       6\n",
       "예술, 스포츠 및 여가관련 서비스업           6\n",
       "수도, 하수 및 폐기물 처리, 원료재생업        5\n",
       "운수 및 창고업                      4\n",
       "숙박 및 음식점업                     4\n",
       "전기, 가스, 증기 및 공기 조절 공급액        4\n",
       "사업시설 관리, 사업 지원 및 임대 서비스업      3\n",
       "Name: count, dtype: int64"
      ]
     },
     "execution_count": 10,
     "metadata": {},
     "output_type": "execute_result"
    }
   ],
   "source": [
    "df['산업군'].value_counts()"
   ]
  },
  {
   "cell_type": "code",
   "execution_count": 13,
   "metadata": {},
   "outputs": [
    {
     "data": {
      "text/plain": [
       "산업군\n",
       "제조업                         193\n",
       "도매 및 소매업                     32\n",
       "정보통신업                        19\n",
       "천문, 과학 및 기술 서비스업             15\n",
       "건설업                          11\n",
       "교육 서비스업                       6\n",
       "예술, 스포츠 및 여가관련 서비스업           6\n",
       "숙박 및 음식점업                     4\n",
       "전기, 가스, 증기 및 공기 조절 공급액        4\n",
       "수도, 하수 및 폐기물 처리, 원료재생업        3\n",
       "사업시설 관리, 사업 지원 및 임대 서비스업      3\n",
       "Name: count, dtype: int64"
      ]
     },
     "execution_count": 13,
     "metadata": {},
     "output_type": "execute_result"
    }
   ],
   "source": [
    "df[df['label_df2']==1]['산업군'].value_counts()"
   ]
  },
  {
   "cell_type": "code",
   "execution_count": 19,
   "metadata": {},
   "outputs": [
    {
     "data": {
      "text/plain": [
       "8           (주)서연\n",
       "35     (주)에이치에스애드\n",
       "36     (주)에이치에스애드\n",
       "37     (주)에이치에스애드\n",
       "38     (주)에이치에스애드\n",
       "39     (주)에이치에스애드\n",
       "40     (주)에이치에스애드\n",
       "41     (주)에이치에스애드\n",
       "44      (주)예스코홀딩스\n",
       "45          (주)웅진\n",
       "46          (주)웅진\n",
       "47          (주)웅진\n",
       "48          (주)웅진\n",
       "105     한국전력기술(주)\n",
       "106     한국전력기술(주)\n",
       "107     한국전력기술(주)\n",
       "116      한솔홀딩스(주)\n",
       "117      한솔홀딩스(주)\n",
       "158        (주)메지온\n",
       "Name: 회사명, dtype: object"
      ]
     },
     "execution_count": 19,
     "metadata": {},
     "output_type": "execute_result"
    }
   ],
   "source": [
    "df[df['산업군']=='천문, 과학 및 기술 서비스업']['회사명']"
   ]
  },
  {
   "cell_type": "code",
   "execution_count": null,
   "metadata": {},
   "outputs": [],
   "source": []
  }
 ],
 "metadata": {
  "kernelspec": {
   "display_name": "Python 3",
   "language": "python",
   "name": "python3"
  },
  "language_info": {
   "codemirror_mode": {
    "name": "ipython",
    "version": 3
   },
   "file_extension": ".py",
   "mimetype": "text/x-python",
   "name": "python",
   "nbconvert_exporter": "python",
   "pygments_lexer": "ipython3",
   "version": "3.8.7"
  }
 },
 "nbformat": 4,
 "nbformat_minor": 2
}
