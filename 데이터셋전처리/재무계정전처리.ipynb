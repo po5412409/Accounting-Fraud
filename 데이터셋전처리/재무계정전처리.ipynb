{
 "cells": [
  {
   "cell_type": "code",
   "execution_count": 1,
   "metadata": {},
   "outputs": [],
   "source": [
    "import pandas as pd"
   ]
  },
  {
   "cell_type": "code",
   "execution_count": 2,
   "metadata": {},
   "outputs": [],
   "source": [
    "kospi_values = pd.read_excel('../data/raw_data/코스피_논문.xlsx')\n",
    "kosdaq_values = pd.read_excel('../data/raw_data/코스닥_논문.xlsx')"
   ]
  },
  {
   "cell_type": "code",
   "execution_count": 3,
   "metadata": {},
   "outputs": [],
   "source": [
    "listed = pd.concat([kospi_values, kosdaq_values], ignore_index=True)"
   ]
  },
  {
   "cell_type": "code",
   "execution_count": 4,
   "metadata": {},
   "outputs": [
    {
     "data": {
      "text/html": [
       "<div>\n",
       "<style scoped>\n",
       "    .dataframe tbody tr th:only-of-type {\n",
       "        vertical-align: middle;\n",
       "    }\n",
       "\n",
       "    .dataframe tbody tr th {\n",
       "        vertical-align: top;\n",
       "    }\n",
       "\n",
       "    .dataframe thead th {\n",
       "        text-align: right;\n",
       "    }\n",
       "</style>\n",
       "<table border=\"1\" class=\"dataframe\">\n",
       "  <thead>\n",
       "    <tr style=\"text-align: right;\">\n",
       "      <th></th>\n",
       "      <th>회사명</th>\n",
       "      <th>거래소코드</th>\n",
       "      <th>회계년도</th>\n",
       "      <th>소속코드</th>\n",
       "      <th>통계청 한국표준산업분류 코드 10차(대분류)</th>\n",
       "      <th>산업코드</th>\n",
       "      <th>산업명</th>\n",
       "      <th>상장일</th>\n",
       "      <th>상장폐지일</th>\n",
       "      <th>현금및현금성자산(*)(IFRS연결)(천원)</th>\n",
       "      <th>...</th>\n",
       "      <th>재고자산감모손실(IFRS연결)(천원)</th>\n",
       "      <th>외환차손(IFRS연결)(천원).1</th>\n",
       "      <th>외화환산손실(IFRS연결)(천원).1</th>\n",
       "      <th>지분법적용투자주식손상차손(IFRS연결)(천원)</th>\n",
       "      <th>기부금(IFRS연결)(천원)</th>\n",
       "      <th>투자자산처분손실(IFRS연결)(천원)</th>\n",
       "      <th>보상비(IFRS연결)(천원)</th>\n",
       "      <th>법인세추납액(IFRS연결)(천원)</th>\n",
       "      <th>전기오류수정손실(IFRS연결)(천원)</th>\n",
       "      <th>법인세비용(IFRS연결)(천원)</th>\n",
       "    </tr>\n",
       "  </thead>\n",
       "  <tbody>\n",
       "    <tr>\n",
       "      <th>1444</th>\n",
       "      <td>(주)셀트리온</td>\n",
       "      <td>68270</td>\n",
       "      <td>2012/12</td>\n",
       "      <td>1</td>\n",
       "      <td>21</td>\n",
       "      <td>32101</td>\n",
       "      <td>의료용 물질 및 의약품 제조업</td>\n",
       "      <td>2018/02/09</td>\n",
       "      <td>NaN</td>\n",
       "      <td>5.315923e+07</td>\n",
       "      <td>...</td>\n",
       "      <td>0.0</td>\n",
       "      <td>537533.0</td>\n",
       "      <td>261983.0</td>\n",
       "      <td>0.0</td>\n",
       "      <td>0.0</td>\n",
       "      <td>0.0</td>\n",
       "      <td>0.0</td>\n",
       "      <td>0.0</td>\n",
       "      <td>0.0</td>\n",
       "      <td>13135596.0</td>\n",
       "    </tr>\n",
       "    <tr>\n",
       "      <th>1445</th>\n",
       "      <td>(주)셀트리온</td>\n",
       "      <td>68270</td>\n",
       "      <td>2013/12</td>\n",
       "      <td>1</td>\n",
       "      <td>21</td>\n",
       "      <td>32101</td>\n",
       "      <td>의료용 물질 및 의약품 제조업</td>\n",
       "      <td>2018/02/09</td>\n",
       "      <td>NaN</td>\n",
       "      <td>8.075387e+07</td>\n",
       "      <td>...</td>\n",
       "      <td>0.0</td>\n",
       "      <td>1700561.0</td>\n",
       "      <td>730.0</td>\n",
       "      <td>0.0</td>\n",
       "      <td>0.0</td>\n",
       "      <td>0.0</td>\n",
       "      <td>0.0</td>\n",
       "      <td>0.0</td>\n",
       "      <td>0.0</td>\n",
       "      <td>13209769.0</td>\n",
       "    </tr>\n",
       "    <tr>\n",
       "      <th>1446</th>\n",
       "      <td>(주)셀트리온</td>\n",
       "      <td>68270</td>\n",
       "      <td>2014/12</td>\n",
       "      <td>1</td>\n",
       "      <td>21</td>\n",
       "      <td>32101</td>\n",
       "      <td>의료용 물질 및 의약품 제조업</td>\n",
       "      <td>2018/02/09</td>\n",
       "      <td>NaN</td>\n",
       "      <td>1.087524e+08</td>\n",
       "      <td>...</td>\n",
       "      <td>0.0</td>\n",
       "      <td>2541254.0</td>\n",
       "      <td>17669.0</td>\n",
       "      <td>0.0</td>\n",
       "      <td>0.0</td>\n",
       "      <td>0.0</td>\n",
       "      <td>0.0</td>\n",
       "      <td>0.0</td>\n",
       "      <td>0.0</td>\n",
       "      <td>31629576.0</td>\n",
       "    </tr>\n",
       "    <tr>\n",
       "      <th>1447</th>\n",
       "      <td>(주)셀트리온</td>\n",
       "      <td>68270</td>\n",
       "      <td>2015/12</td>\n",
       "      <td>1</td>\n",
       "      <td>21</td>\n",
       "      <td>32101</td>\n",
       "      <td>의료용 물질 및 의약품 제조업</td>\n",
       "      <td>2018/02/09</td>\n",
       "      <td>NaN</td>\n",
       "      <td>1.499261e+08</td>\n",
       "      <td>...</td>\n",
       "      <td>0.0</td>\n",
       "      <td>3096701.0</td>\n",
       "      <td>21271.0</td>\n",
       "      <td>0.0</td>\n",
       "      <td>0.0</td>\n",
       "      <td>0.0</td>\n",
       "      <td>0.0</td>\n",
       "      <td>0.0</td>\n",
       "      <td>0.0</td>\n",
       "      <td>4829113.0</td>\n",
       "    </tr>\n",
       "    <tr>\n",
       "      <th>1448</th>\n",
       "      <td>(주)셀트리온</td>\n",
       "      <td>68270</td>\n",
       "      <td>2016/12</td>\n",
       "      <td>1</td>\n",
       "      <td>21</td>\n",
       "      <td>32101</td>\n",
       "      <td>의료용 물질 및 의약품 제조업</td>\n",
       "      <td>2018/02/09</td>\n",
       "      <td>NaN</td>\n",
       "      <td>2.684081e+08</td>\n",
       "      <td>...</td>\n",
       "      <td>0.0</td>\n",
       "      <td>2888315.0</td>\n",
       "      <td>215635.0</td>\n",
       "      <td>0.0</td>\n",
       "      <td>0.0</td>\n",
       "      <td>0.0</td>\n",
       "      <td>0.0</td>\n",
       "      <td>0.0</td>\n",
       "      <td>0.0</td>\n",
       "      <td>48014632.0</td>\n",
       "    </tr>\n",
       "    <tr>\n",
       "      <th>1449</th>\n",
       "      <td>(주)셀트리온</td>\n",
       "      <td>68270</td>\n",
       "      <td>2017/12</td>\n",
       "      <td>1</td>\n",
       "      <td>21</td>\n",
       "      <td>32101</td>\n",
       "      <td>의료용 물질 및 의약품 제조업</td>\n",
       "      <td>2018/02/09</td>\n",
       "      <td>NaN</td>\n",
       "      <td>4.192057e+08</td>\n",
       "      <td>...</td>\n",
       "      <td>0.0</td>\n",
       "      <td>2528208.0</td>\n",
       "      <td>151133.0</td>\n",
       "      <td>0.0</td>\n",
       "      <td>0.0</td>\n",
       "      <td>0.0</td>\n",
       "      <td>0.0</td>\n",
       "      <td>0.0</td>\n",
       "      <td>0.0</td>\n",
       "      <td>105346399.0</td>\n",
       "    </tr>\n",
       "    <tr>\n",
       "      <th>1450</th>\n",
       "      <td>(주)셀트리온</td>\n",
       "      <td>68270</td>\n",
       "      <td>2018/12</td>\n",
       "      <td>1</td>\n",
       "      <td>21</td>\n",
       "      <td>32101</td>\n",
       "      <td>의료용 물질 및 의약품 제조업</td>\n",
       "      <td>2018/02/09</td>\n",
       "      <td>NaN</td>\n",
       "      <td>4.105476e+08</td>\n",
       "      <td>...</td>\n",
       "      <td>0.0</td>\n",
       "      <td>7376642.0</td>\n",
       "      <td>417839.0</td>\n",
       "      <td>0.0</td>\n",
       "      <td>0.0</td>\n",
       "      <td>0.0</td>\n",
       "      <td>0.0</td>\n",
       "      <td>0.0</td>\n",
       "      <td>0.0</td>\n",
       "      <td>64162718.0</td>\n",
       "    </tr>\n",
       "    <tr>\n",
       "      <th>1451</th>\n",
       "      <td>(주)셀트리온</td>\n",
       "      <td>68270</td>\n",
       "      <td>2019/12</td>\n",
       "      <td>1</td>\n",
       "      <td>21</td>\n",
       "      <td>32101</td>\n",
       "      <td>의료용 물질 및 의약품 제조업</td>\n",
       "      <td>2018/02/09</td>\n",
       "      <td>NaN</td>\n",
       "      <td>5.461376e+08</td>\n",
       "      <td>...</td>\n",
       "      <td>0.0</td>\n",
       "      <td>3354249.0</td>\n",
       "      <td>2168770.0</td>\n",
       "      <td>0.0</td>\n",
       "      <td>0.0</td>\n",
       "      <td>0.0</td>\n",
       "      <td>0.0</td>\n",
       "      <td>0.0</td>\n",
       "      <td>0.0</td>\n",
       "      <td>80588584.0</td>\n",
       "    </tr>\n",
       "    <tr>\n",
       "      <th>1452</th>\n",
       "      <td>(주)셀트리온</td>\n",
       "      <td>68270</td>\n",
       "      <td>2020/12</td>\n",
       "      <td>1</td>\n",
       "      <td>21</td>\n",
       "      <td>32101</td>\n",
       "      <td>의료용 물질 및 의약품 제조업</td>\n",
       "      <td>2018/02/09</td>\n",
       "      <td>NaN</td>\n",
       "      <td>6.842939e+08</td>\n",
       "      <td>...</td>\n",
       "      <td>0.0</td>\n",
       "      <td>7322427.0</td>\n",
       "      <td>4431102.0</td>\n",
       "      <td>0.0</td>\n",
       "      <td>0.0</td>\n",
       "      <td>0.0</td>\n",
       "      <td>0.0</td>\n",
       "      <td>0.0</td>\n",
       "      <td>0.0</td>\n",
       "      <td>131449106.0</td>\n",
       "    </tr>\n",
       "    <tr>\n",
       "      <th>1453</th>\n",
       "      <td>(주)셀트리온</td>\n",
       "      <td>68270</td>\n",
       "      <td>2021/12</td>\n",
       "      <td>1</td>\n",
       "      <td>21</td>\n",
       "      <td>32101</td>\n",
       "      <td>의료용 물질 및 의약품 제조업</td>\n",
       "      <td>2018/02/09</td>\n",
       "      <td>NaN</td>\n",
       "      <td>1.188326e+09</td>\n",
       "      <td>...</td>\n",
       "      <td>0.0</td>\n",
       "      <td>7751877.0</td>\n",
       "      <td>1913004.0</td>\n",
       "      <td>0.0</td>\n",
       "      <td>0.0</td>\n",
       "      <td>0.0</td>\n",
       "      <td>0.0</td>\n",
       "      <td>0.0</td>\n",
       "      <td>0.0</td>\n",
       "      <td>155530434.0</td>\n",
       "    </tr>\n",
       "    <tr>\n",
       "      <th>1454</th>\n",
       "      <td>(주)셀트리온</td>\n",
       "      <td>68270</td>\n",
       "      <td>2022/12</td>\n",
       "      <td>1</td>\n",
       "      <td>21</td>\n",
       "      <td>32101</td>\n",
       "      <td>의료용 물질 및 의약품 제조업</td>\n",
       "      <td>2018/02/09</td>\n",
       "      <td>NaN</td>\n",
       "      <td>5.511867e+08</td>\n",
       "      <td>...</td>\n",
       "      <td>0.0</td>\n",
       "      <td>23704271.0</td>\n",
       "      <td>1644512.0</td>\n",
       "      <td>0.0</td>\n",
       "      <td>0.0</td>\n",
       "      <td>0.0</td>\n",
       "      <td>0.0</td>\n",
       "      <td>0.0</td>\n",
       "      <td>0.0</td>\n",
       "      <td>94826673.0</td>\n",
       "    </tr>\n",
       "    <tr>\n",
       "      <th>1455</th>\n",
       "      <td>(주)셀트리온</td>\n",
       "      <td>68270</td>\n",
       "      <td>2023/12</td>\n",
       "      <td>1</td>\n",
       "      <td>21</td>\n",
       "      <td>32101</td>\n",
       "      <td>의료용 물질 및 의약품 제조업</td>\n",
       "      <td>2018/02/09</td>\n",
       "      <td>NaN</td>\n",
       "      <td>5.646117e+08</td>\n",
       "      <td>...</td>\n",
       "      <td>0.0</td>\n",
       "      <td>16415776.0</td>\n",
       "      <td>3347883.0</td>\n",
       "      <td>0.0</td>\n",
       "      <td>0.0</td>\n",
       "      <td>0.0</td>\n",
       "      <td>0.0</td>\n",
       "      <td>0.0</td>\n",
       "      <td>0.0</td>\n",
       "      <td>131389280.0</td>\n",
       "    </tr>\n",
       "    <tr>\n",
       "      <th>13127</th>\n",
       "      <td>(주)셀트리온</td>\n",
       "      <td>68270</td>\n",
       "      <td>2012/12</td>\n",
       "      <td>4</td>\n",
       "      <td>21</td>\n",
       "      <td>32101</td>\n",
       "      <td>의료용 물질 및 의약품 제조업</td>\n",
       "      <td>2005/07/15</td>\n",
       "      <td>2018/02/09</td>\n",
       "      <td>5.315923e+07</td>\n",
       "      <td>...</td>\n",
       "      <td>0.0</td>\n",
       "      <td>537533.0</td>\n",
       "      <td>261983.0</td>\n",
       "      <td>0.0</td>\n",
       "      <td>0.0</td>\n",
       "      <td>0.0</td>\n",
       "      <td>0.0</td>\n",
       "      <td>0.0</td>\n",
       "      <td>0.0</td>\n",
       "      <td>13135596.0</td>\n",
       "    </tr>\n",
       "    <tr>\n",
       "      <th>13128</th>\n",
       "      <td>(주)셀트리온</td>\n",
       "      <td>68270</td>\n",
       "      <td>2013/12</td>\n",
       "      <td>4</td>\n",
       "      <td>21</td>\n",
       "      <td>32101</td>\n",
       "      <td>의료용 물질 및 의약품 제조업</td>\n",
       "      <td>2005/07/15</td>\n",
       "      <td>2018/02/09</td>\n",
       "      <td>8.075387e+07</td>\n",
       "      <td>...</td>\n",
       "      <td>0.0</td>\n",
       "      <td>1700561.0</td>\n",
       "      <td>730.0</td>\n",
       "      <td>0.0</td>\n",
       "      <td>0.0</td>\n",
       "      <td>0.0</td>\n",
       "      <td>0.0</td>\n",
       "      <td>0.0</td>\n",
       "      <td>0.0</td>\n",
       "      <td>13209769.0</td>\n",
       "    </tr>\n",
       "    <tr>\n",
       "      <th>13129</th>\n",
       "      <td>(주)셀트리온</td>\n",
       "      <td>68270</td>\n",
       "      <td>2014/12</td>\n",
       "      <td>4</td>\n",
       "      <td>21</td>\n",
       "      <td>32101</td>\n",
       "      <td>의료용 물질 및 의약품 제조업</td>\n",
       "      <td>2005/07/15</td>\n",
       "      <td>2018/02/09</td>\n",
       "      <td>1.087524e+08</td>\n",
       "      <td>...</td>\n",
       "      <td>0.0</td>\n",
       "      <td>2541254.0</td>\n",
       "      <td>17669.0</td>\n",
       "      <td>0.0</td>\n",
       "      <td>0.0</td>\n",
       "      <td>0.0</td>\n",
       "      <td>0.0</td>\n",
       "      <td>0.0</td>\n",
       "      <td>0.0</td>\n",
       "      <td>31629576.0</td>\n",
       "    </tr>\n",
       "    <tr>\n",
       "      <th>13130</th>\n",
       "      <td>(주)셀트리온</td>\n",
       "      <td>68270</td>\n",
       "      <td>2015/12</td>\n",
       "      <td>4</td>\n",
       "      <td>21</td>\n",
       "      <td>32101</td>\n",
       "      <td>의료용 물질 및 의약품 제조업</td>\n",
       "      <td>2005/07/15</td>\n",
       "      <td>2018/02/09</td>\n",
       "      <td>1.499261e+08</td>\n",
       "      <td>...</td>\n",
       "      <td>0.0</td>\n",
       "      <td>3096701.0</td>\n",
       "      <td>21271.0</td>\n",
       "      <td>0.0</td>\n",
       "      <td>0.0</td>\n",
       "      <td>0.0</td>\n",
       "      <td>0.0</td>\n",
       "      <td>0.0</td>\n",
       "      <td>0.0</td>\n",
       "      <td>4829113.0</td>\n",
       "    </tr>\n",
       "    <tr>\n",
       "      <th>13131</th>\n",
       "      <td>(주)셀트리온</td>\n",
       "      <td>68270</td>\n",
       "      <td>2016/12</td>\n",
       "      <td>4</td>\n",
       "      <td>21</td>\n",
       "      <td>32101</td>\n",
       "      <td>의료용 물질 및 의약품 제조업</td>\n",
       "      <td>2005/07/15</td>\n",
       "      <td>2018/02/09</td>\n",
       "      <td>2.684081e+08</td>\n",
       "      <td>...</td>\n",
       "      <td>0.0</td>\n",
       "      <td>2888315.0</td>\n",
       "      <td>215635.0</td>\n",
       "      <td>0.0</td>\n",
       "      <td>0.0</td>\n",
       "      <td>0.0</td>\n",
       "      <td>0.0</td>\n",
       "      <td>0.0</td>\n",
       "      <td>0.0</td>\n",
       "      <td>48883293.0</td>\n",
       "    </tr>\n",
       "  </tbody>\n",
       "</table>\n",
       "<p>17 rows × 193 columns</p>\n",
       "</div>"
      ],
      "text/plain": [
       "           회사명  거래소코드     회계년도  소속코드  통계청 한국표준산업분류 코드 10차(대분류)   산업코드  \\\n",
       "1444   (주)셀트리온  68270  2012/12     1                        21  32101   \n",
       "1445   (주)셀트리온  68270  2013/12     1                        21  32101   \n",
       "1446   (주)셀트리온  68270  2014/12     1                        21  32101   \n",
       "1447   (주)셀트리온  68270  2015/12     1                        21  32101   \n",
       "1448   (주)셀트리온  68270  2016/12     1                        21  32101   \n",
       "1449   (주)셀트리온  68270  2017/12     1                        21  32101   \n",
       "1450   (주)셀트리온  68270  2018/12     1                        21  32101   \n",
       "1451   (주)셀트리온  68270  2019/12     1                        21  32101   \n",
       "1452   (주)셀트리온  68270  2020/12     1                        21  32101   \n",
       "1453   (주)셀트리온  68270  2021/12     1                        21  32101   \n",
       "1454   (주)셀트리온  68270  2022/12     1                        21  32101   \n",
       "1455   (주)셀트리온  68270  2023/12     1                        21  32101   \n",
       "13127  (주)셀트리온  68270  2012/12     4                        21  32101   \n",
       "13128  (주)셀트리온  68270  2013/12     4                        21  32101   \n",
       "13129  (주)셀트리온  68270  2014/12     4                        21  32101   \n",
       "13130  (주)셀트리온  68270  2015/12     4                        21  32101   \n",
       "13131  (주)셀트리온  68270  2016/12     4                        21  32101   \n",
       "\n",
       "                       산업명         상장일       상장폐지일  현금및현금성자산(*)(IFRS연결)(천원)  \\\n",
       "1444     의료용 물질 및 의약품 제조업   2018/02/09         NaN             5.315923e+07   \n",
       "1445     의료용 물질 및 의약품 제조업   2018/02/09         NaN             8.075387e+07   \n",
       "1446     의료용 물질 및 의약품 제조업   2018/02/09         NaN             1.087524e+08   \n",
       "1447     의료용 물질 및 의약품 제조업   2018/02/09         NaN             1.499261e+08   \n",
       "1448     의료용 물질 및 의약품 제조업   2018/02/09         NaN             2.684081e+08   \n",
       "1449     의료용 물질 및 의약품 제조업   2018/02/09         NaN             4.192057e+08   \n",
       "1450     의료용 물질 및 의약품 제조업   2018/02/09         NaN             4.105476e+08   \n",
       "1451     의료용 물질 및 의약품 제조업   2018/02/09         NaN             5.461376e+08   \n",
       "1452     의료용 물질 및 의약품 제조업   2018/02/09         NaN             6.842939e+08   \n",
       "1453     의료용 물질 및 의약품 제조업   2018/02/09         NaN             1.188326e+09   \n",
       "1454     의료용 물질 및 의약품 제조업   2018/02/09         NaN             5.511867e+08   \n",
       "1455     의료용 물질 및 의약품 제조업   2018/02/09         NaN             5.646117e+08   \n",
       "13127    의료용 물질 및 의약품 제조업   2005/07/15  2018/02/09             5.315923e+07   \n",
       "13128    의료용 물질 및 의약품 제조업   2005/07/15  2018/02/09             8.075387e+07   \n",
       "13129    의료용 물질 및 의약품 제조업   2005/07/15  2018/02/09             1.087524e+08   \n",
       "13130    의료용 물질 및 의약품 제조업   2005/07/15  2018/02/09             1.499261e+08   \n",
       "13131    의료용 물질 및 의약품 제조업   2005/07/15  2018/02/09             2.684081e+08   \n",
       "\n",
       "       ...  재고자산감모손실(IFRS연결)(천원)  외환차손(IFRS연결)(천원).1  외화환산손실(IFRS연결)(천원).1  \\\n",
       "1444   ...                   0.0            537533.0              261983.0   \n",
       "1445   ...                   0.0           1700561.0                 730.0   \n",
       "1446   ...                   0.0           2541254.0               17669.0   \n",
       "1447   ...                   0.0           3096701.0               21271.0   \n",
       "1448   ...                   0.0           2888315.0              215635.0   \n",
       "1449   ...                   0.0           2528208.0              151133.0   \n",
       "1450   ...                   0.0           7376642.0              417839.0   \n",
       "1451   ...                   0.0           3354249.0             2168770.0   \n",
       "1452   ...                   0.0           7322427.0             4431102.0   \n",
       "1453   ...                   0.0           7751877.0             1913004.0   \n",
       "1454   ...                   0.0          23704271.0             1644512.0   \n",
       "1455   ...                   0.0          16415776.0             3347883.0   \n",
       "13127  ...                   0.0            537533.0              261983.0   \n",
       "13128  ...                   0.0           1700561.0                 730.0   \n",
       "13129  ...                   0.0           2541254.0               17669.0   \n",
       "13130  ...                   0.0           3096701.0               21271.0   \n",
       "13131  ...                   0.0           2888315.0              215635.0   \n",
       "\n",
       "       지분법적용투자주식손상차손(IFRS연결)(천원)  기부금(IFRS연결)(천원)  투자자산처분손실(IFRS연결)(천원)  \\\n",
       "1444                         0.0              0.0                   0.0   \n",
       "1445                         0.0              0.0                   0.0   \n",
       "1446                         0.0              0.0                   0.0   \n",
       "1447                         0.0              0.0                   0.0   \n",
       "1448                         0.0              0.0                   0.0   \n",
       "1449                         0.0              0.0                   0.0   \n",
       "1450                         0.0              0.0                   0.0   \n",
       "1451                         0.0              0.0                   0.0   \n",
       "1452                         0.0              0.0                   0.0   \n",
       "1453                         0.0              0.0                   0.0   \n",
       "1454                         0.0              0.0                   0.0   \n",
       "1455                         0.0              0.0                   0.0   \n",
       "13127                        0.0              0.0                   0.0   \n",
       "13128                        0.0              0.0                   0.0   \n",
       "13129                        0.0              0.0                   0.0   \n",
       "13130                        0.0              0.0                   0.0   \n",
       "13131                        0.0              0.0                   0.0   \n",
       "\n",
       "       보상비(IFRS연결)(천원)  법인세추납액(IFRS연결)(천원)  전기오류수정손실(IFRS연결)(천원)  \\\n",
       "1444               0.0                 0.0                   0.0   \n",
       "1445               0.0                 0.0                   0.0   \n",
       "1446               0.0                 0.0                   0.0   \n",
       "1447               0.0                 0.0                   0.0   \n",
       "1448               0.0                 0.0                   0.0   \n",
       "1449               0.0                 0.0                   0.0   \n",
       "1450               0.0                 0.0                   0.0   \n",
       "1451               0.0                 0.0                   0.0   \n",
       "1452               0.0                 0.0                   0.0   \n",
       "1453               0.0                 0.0                   0.0   \n",
       "1454               0.0                 0.0                   0.0   \n",
       "1455               0.0                 0.0                   0.0   \n",
       "13127              0.0                 0.0                   0.0   \n",
       "13128              0.0                 0.0                   0.0   \n",
       "13129              0.0                 0.0                   0.0   \n",
       "13130              0.0                 0.0                   0.0   \n",
       "13131              0.0                 0.0                   0.0   \n",
       "\n",
       "       법인세비용(IFRS연결)(천원)  \n",
       "1444          13135596.0  \n",
       "1445          13209769.0  \n",
       "1446          31629576.0  \n",
       "1447           4829113.0  \n",
       "1448          48014632.0  \n",
       "1449         105346399.0  \n",
       "1450          64162718.0  \n",
       "1451          80588584.0  \n",
       "1452         131449106.0  \n",
       "1453         155530434.0  \n",
       "1454          94826673.0  \n",
       "1455         131389280.0  \n",
       "13127         13135596.0  \n",
       "13128         13209769.0  \n",
       "13129         31629576.0  \n",
       "13130          4829113.0  \n",
       "13131         48883293.0  \n",
       "\n",
       "[17 rows x 193 columns]"
      ]
     },
     "execution_count": 4,
     "metadata": {},
     "output_type": "execute_result"
    }
   ],
   "source": [
    "listed[listed['거래소코드'] == 68270]"
   ]
  },
  {
   "cell_type": "code",
   "execution_count": 5,
   "metadata": {},
   "outputs": [
    {
     "data": {
      "text/plain": [
       "(27695, 193)"
      ]
     },
     "execution_count": 5,
     "metadata": {},
     "output_type": "execute_result"
    }
   ],
   "source": [
    "listed.shape"
   ]
  },
  {
   "cell_type": "code",
   "execution_count": 6,
   "metadata": {},
   "outputs": [
    {
     "data": {
      "text/plain": [
       "(2707, 193)"
      ]
     },
     "execution_count": 6,
     "metadata": {},
     "output_type": "execute_result"
    }
   ],
   "source": [
    "listed.drop_duplicates('거래소코드').shape"
   ]
  },
  {
   "cell_type": "markdown",
   "metadata": {},
   "source": [
    "# 결산월이 12월인 기업만"
   ]
  },
  {
   "cell_type": "code",
   "execution_count": 7,
   "metadata": {},
   "outputs": [],
   "source": [
    "listed['회계년도'] = pd.to_datetime(listed['회계년도'], format='%Y/%m')\n",
    "listed = listed[listed['회계년도'].dt.month == 12]"
   ]
  },
  {
   "cell_type": "code",
   "execution_count": 8,
   "metadata": {},
   "outputs": [
    {
     "data": {
      "text/plain": [
       "(27516, 193)"
      ]
     },
     "execution_count": 8,
     "metadata": {},
     "output_type": "execute_result"
    }
   ],
   "source": [
    "listed.shape"
   ]
  },
  {
   "cell_type": "code",
   "execution_count": 9,
   "metadata": {},
   "outputs": [
    {
     "data": {
      "text/plain": [
       "(2706, 193)"
      ]
     },
     "execution_count": 9,
     "metadata": {},
     "output_type": "execute_result"
    }
   ],
   "source": [
    "listed.drop_duplicates('거래소코드').shape"
   ]
  },
  {
   "cell_type": "markdown",
   "metadata": {},
   "source": [
    "# 특수 목적 회사 drop\n",
    "- 1차 통계청 한국표준산업분류(KSIC) 기준으로 제거\n",
    "    - K. 금융및보험업(64~66)\n",
    "        - 64. 금융업\n",
    "        - 65. 보험및연금업\n",
    "        - 66. 금융및보험관련서비스업\n",
    "- 2차 키워드 제거\n",
    "    - 인베스트|투자|금융|보험|캐피탈|특수목적|프로젝트|문화산업"
   ]
  },
  {
   "cell_type": "code",
   "execution_count": 10,
   "metadata": {},
   "outputs": [],
   "source": [
    "listed = listed[~listed['통계청 한국표준산업분류 코드 10차(대분류)'].isin([64, 65, 66])]\n",
    "listed = listed[~listed['회사명'].str.contains('인베스트|투자|금융|보험|캐피탈|특수목적|프로젝트|문화산업')]"
   ]
  },
  {
   "cell_type": "code",
   "execution_count": 11,
   "metadata": {},
   "outputs": [
    {
     "data": {
      "text/plain": [
       "(27350, 193)"
      ]
     },
     "execution_count": 11,
     "metadata": {},
     "output_type": "execute_result"
    }
   ],
   "source": [
    "listed.shape"
   ]
  },
  {
   "cell_type": "code",
   "execution_count": 12,
   "metadata": {},
   "outputs": [
    {
     "data": {
      "text/plain": [
       "(2691, 193)"
      ]
     },
     "execution_count": 12,
     "metadata": {},
     "output_type": "execute_result"
    }
   ],
   "source": [
    "listed.drop_duplicates('거래소코드').shape"
   ]
  },
  {
   "cell_type": "markdown",
   "metadata": {},
   "source": [
    "# 이전 상장에 따른 중복 데이터 제거"
   ]
  },
  {
   "cell_type": "code",
   "execution_count": 13,
   "metadata": {},
   "outputs": [
    {
     "data": {
      "text/plain": [
       "Index([  3670,  22100,  26960,  30190,  34230,  35510,  35720,  36420,  66970,\n",
       "        68270,  90460,  97520, 100090, 108320, 178920, 192080],\n",
       "      dtype='int64', name='거래소코드')"
      ]
     },
     "execution_count": 13,
     "metadata": {},
     "output_type": "execute_result"
    }
   ],
   "source": [
    "# Step 1: 소속코드가 4와 1을 모두 가지는 거래소코드 찾기\n",
    "# 거래소코드별로 그룹화하여 소속코드를 집합으로 만든 후, 조건을 만족하는 거래소코드를 필터링합니다.\n",
    "grouped = listed.groupby('거래소코드')['소속코드'].apply(set)\n",
    "target_codes = grouped[grouped.apply(lambda x: {1, 4}.issubset(x))].index\n",
    "target_codes"
   ]
  },
  {
   "cell_type": "code",
   "execution_count": 14,
   "metadata": {},
   "outputs": [],
   "source": [
    "# Step 2: 소속코드가 4이고 상장폐지일이 존재하는 행 제거\n",
    "listed = listed[~((listed['거래소코드'].isin(target_codes)) & (listed['소속코드'] == 4) & (~listed['상장폐지일'].isna()))]"
   ]
  },
  {
   "cell_type": "code",
   "execution_count": 15,
   "metadata": {},
   "outputs": [
    {
     "data": {
      "text/plain": [
       "(27222, 193)"
      ]
     },
     "execution_count": 15,
     "metadata": {},
     "output_type": "execute_result"
    }
   ],
   "source": [
    "listed.shape"
   ]
  },
  {
   "cell_type": "code",
   "execution_count": 16,
   "metadata": {},
   "outputs": [
    {
     "data": {
      "text/plain": [
       "(2691, 193)"
      ]
     },
     "execution_count": 16,
     "metadata": {},
     "output_type": "execute_result"
    }
   ],
   "source": [
    "listed.drop_duplicates('거래소코드').shape"
   ]
  },
  {
   "cell_type": "markdown",
   "metadata": {},
   "source": [
    "# 상장 이전 데이터 제거"
   ]
  },
  {
   "cell_type": "code",
   "execution_count": 17,
   "metadata": {},
   "outputs": [
    {
     "name": "stdout",
     "output_type": "stream",
     "text": [
      "<class 'pandas.core.frame.DataFrame'>\n",
      "Index: 27222 entries, 0 to 27694\n",
      "Data columns (total 2 columns):\n",
      " #   Column  Non-Null Count  Dtype         \n",
      "---  ------  --------------  -----         \n",
      " 0   회계년도    27222 non-null  datetime64[ns]\n",
      " 1   상장일     27222 non-null  object        \n",
      "dtypes: datetime64[ns](1), object(1)\n",
      "memory usage: 638.0+ KB\n"
     ]
    }
   ],
   "source": [
    "listed[['회계년도', '상장일']].info()"
   ]
  },
  {
   "cell_type": "code",
   "execution_count": 18,
   "metadata": {},
   "outputs": [],
   "source": [
    "listed['상장일'] = pd.to_datetime(listed['상장일'], format='%Y/%m/%d')"
   ]
  },
  {
   "cell_type": "code",
   "execution_count": 19,
   "metadata": {},
   "outputs": [
    {
     "data": {
      "text/html": [
       "<div>\n",
       "<style scoped>\n",
       "    .dataframe tbody tr th:only-of-type {\n",
       "        vertical-align: middle;\n",
       "    }\n",
       "\n",
       "    .dataframe tbody tr th {\n",
       "        vertical-align: top;\n",
       "    }\n",
       "\n",
       "    .dataframe thead th {\n",
       "        text-align: right;\n",
       "    }\n",
       "</style>\n",
       "<table border=\"1\" class=\"dataframe\">\n",
       "  <thead>\n",
       "    <tr style=\"text-align: right;\">\n",
       "      <th></th>\n",
       "      <th>회사명</th>\n",
       "      <th>거래소코드</th>\n",
       "      <th>회계년도</th>\n",
       "      <th>상장일</th>\n",
       "    </tr>\n",
       "  </thead>\n",
       "  <tbody>\n",
       "    <tr>\n",
       "      <th>140</th>\n",
       "      <td>(주)경보제약</td>\n",
       "      <td>214390</td>\n",
       "      <td>2012-12-01</td>\n",
       "      <td>2015-06-29</td>\n",
       "    </tr>\n",
       "    <tr>\n",
       "      <th>141</th>\n",
       "      <td>(주)경보제약</td>\n",
       "      <td>214390</td>\n",
       "      <td>2013-12-01</td>\n",
       "      <td>2015-06-29</td>\n",
       "    </tr>\n",
       "    <tr>\n",
       "      <th>142</th>\n",
       "      <td>(주)경보제약</td>\n",
       "      <td>214390</td>\n",
       "      <td>2014-12-01</td>\n",
       "      <td>2015-06-29</td>\n",
       "    </tr>\n",
       "    <tr>\n",
       "      <th>224</th>\n",
       "      <td>(주)금호에이치티</td>\n",
       "      <td>214330</td>\n",
       "      <td>2012-12-01</td>\n",
       "      <td>2015-11-11</td>\n",
       "    </tr>\n",
       "    <tr>\n",
       "      <th>225</th>\n",
       "      <td>(주)금호에이치티</td>\n",
       "      <td>214330</td>\n",
       "      <td>2013-12-01</td>\n",
       "      <td>2015-11-11</td>\n",
       "    </tr>\n",
       "    <tr>\n",
       "      <th>...</th>\n",
       "      <td>...</td>\n",
       "      <td>...</td>\n",
       "      <td>...</td>\n",
       "      <td>...</td>\n",
       "    </tr>\n",
       "    <tr>\n",
       "      <th>27637</th>\n",
       "      <td>휴림네트웍스(주)</td>\n",
       "      <td>192410</td>\n",
       "      <td>2012-12-01</td>\n",
       "      <td>2014-08-14</td>\n",
       "    </tr>\n",
       "    <tr>\n",
       "      <th>27638</th>\n",
       "      <td>휴림네트웍스(주)</td>\n",
       "      <td>192410</td>\n",
       "      <td>2013-12-01</td>\n",
       "      <td>2014-08-14</td>\n",
       "    </tr>\n",
       "    <tr>\n",
       "      <th>27671</th>\n",
       "      <td>휴젤(주)</td>\n",
       "      <td>145020</td>\n",
       "      <td>2012-12-01</td>\n",
       "      <td>2015-12-24</td>\n",
       "    </tr>\n",
       "    <tr>\n",
       "      <th>27672</th>\n",
       "      <td>휴젤(주)</td>\n",
       "      <td>145020</td>\n",
       "      <td>2013-12-01</td>\n",
       "      <td>2015-12-24</td>\n",
       "    </tr>\n",
       "    <tr>\n",
       "      <th>27673</th>\n",
       "      <td>휴젤(주)</td>\n",
       "      <td>145020</td>\n",
       "      <td>2014-12-01</td>\n",
       "      <td>2015-12-24</td>\n",
       "    </tr>\n",
       "  </tbody>\n",
       "</table>\n",
       "<p>3929 rows × 4 columns</p>\n",
       "</div>"
      ],
      "text/plain": [
       "             회사명   거래소코드       회계년도        상장일\n",
       "140      (주)경보제약  214390 2012-12-01 2015-06-29\n",
       "141      (주)경보제약  214390 2013-12-01 2015-06-29\n",
       "142      (주)경보제약  214390 2014-12-01 2015-06-29\n",
       "224    (주)금호에이치티  214330 2012-12-01 2015-11-11\n",
       "225    (주)금호에이치티  214330 2013-12-01 2015-11-11\n",
       "...          ...     ...        ...        ...\n",
       "27637  휴림네트웍스(주)  192410 2012-12-01 2014-08-14\n",
       "27638  휴림네트웍스(주)  192410 2013-12-01 2014-08-14\n",
       "27671      휴젤(주)  145020 2012-12-01 2015-12-24\n",
       "27672      휴젤(주)  145020 2013-12-01 2015-12-24\n",
       "27673      휴젤(주)  145020 2014-12-01 2015-12-24\n",
       "\n",
       "[3929 rows x 4 columns]"
      ]
     },
     "execution_count": 19,
     "metadata": {},
     "output_type": "execute_result"
    }
   ],
   "source": [
    "# 회계년도가 상장년도 이전(미만)인 데이터 제거\n",
    "listed[listed['회계년도'].dt.year < listed['상장일'].dt.year][['회사명', '거래소코드', '회계년도', '상장일']]"
   ]
  },
  {
   "cell_type": "code",
   "execution_count": 20,
   "metadata": {},
   "outputs": [],
   "source": [
    "# 회계년도가 상장년도 이전(미만)인 데이터 제거\n",
    "listed = listed[listed['회계년도'].dt.year >= listed['상장일'].dt.year]"
   ]
  },
  {
   "cell_type": "code",
   "execution_count": 21,
   "metadata": {},
   "outputs": [
    {
     "data": {
      "text/plain": [
       "(23293, 193)"
      ]
     },
     "execution_count": 21,
     "metadata": {},
     "output_type": "execute_result"
    }
   ],
   "source": [
    "listed.shape"
   ]
  },
  {
   "cell_type": "code",
   "execution_count": 22,
   "metadata": {},
   "outputs": [
    {
     "data": {
      "text/plain": [
       "(2636, 193)"
      ]
     },
     "execution_count": 22,
     "metadata": {},
     "output_type": "execute_result"
    }
   ],
   "source": [
    "listed.drop_duplicates('거래소코드').shape"
   ]
  },
  {
   "cell_type": "markdown",
   "metadata": {},
   "source": [
    "# merge"
   ]
  },
  {
   "cell_type": "markdown",
   "metadata": {},
   "source": [
    "### 회계 감리 지적 기업 csv 불러오기"
   ]
  },
  {
   "cell_type": "code",
   "execution_count": 23,
   "metadata": {},
   "outputs": [],
   "source": [
    "fraud = pd.read_csv('../data/raw_data/회계 감리 지적 기업.csv')"
   ]
  },
  {
   "cell_type": "code",
   "execution_count": 24,
   "metadata": {},
   "outputs": [
    {
     "data": {
      "text/html": [
       "<div>\n",
       "<style scoped>\n",
       "    .dataframe tbody tr th:only-of-type {\n",
       "        vertical-align: middle;\n",
       "    }\n",
       "\n",
       "    .dataframe tbody tr th {\n",
       "        vertical-align: top;\n",
       "    }\n",
       "\n",
       "    .dataframe thead th {\n",
       "        text-align: right;\n",
       "    }\n",
       "</style>\n",
       "<table border=\"1\" class=\"dataframe\">\n",
       "  <thead>\n",
       "    <tr style=\"text-align: right;\">\n",
       "      <th></th>\n",
       "      <th>회사명</th>\n",
       "      <th>거래소코드</th>\n",
       "      <th>기업유형</th>\n",
       "      <th>회계년도</th>\n",
       "      <th>이익 과대계상 (비용 과소계상)</th>\n",
       "    </tr>\n",
       "  </thead>\n",
       "  <tbody>\n",
       "    <tr>\n",
       "      <th>0</th>\n",
       "      <td>(주)효성</td>\n",
       "      <td>4800</td>\n",
       "      <td>코스피</td>\n",
       "      <td>2013</td>\n",
       "      <td>1.0</td>\n",
       "    </tr>\n",
       "    <tr>\n",
       "      <th>1</th>\n",
       "      <td>(주)효성</td>\n",
       "      <td>4800</td>\n",
       "      <td>코스피</td>\n",
       "      <td>2014</td>\n",
       "      <td>1.0</td>\n",
       "    </tr>\n",
       "    <tr>\n",
       "      <th>2</th>\n",
       "      <td>(주)효성</td>\n",
       "      <td>4800</td>\n",
       "      <td>코스피</td>\n",
       "      <td>2015</td>\n",
       "      <td>1.0</td>\n",
       "    </tr>\n",
       "    <tr>\n",
       "      <th>3</th>\n",
       "      <td>(주)서연</td>\n",
       "      <td>7860</td>\n",
       "      <td>코스피</td>\n",
       "      <td>2012</td>\n",
       "      <td>0.0</td>\n",
       "    </tr>\n",
       "    <tr>\n",
       "      <th>4</th>\n",
       "      <td>한솔홀딩스(주)</td>\n",
       "      <td>4150</td>\n",
       "      <td>코스피</td>\n",
       "      <td>2012</td>\n",
       "      <td>1.0</td>\n",
       "    </tr>\n",
       "    <tr>\n",
       "      <th>...</th>\n",
       "      <td>...</td>\n",
       "      <td>...</td>\n",
       "      <td>...</td>\n",
       "      <td>...</td>\n",
       "      <td>...</td>\n",
       "    </tr>\n",
       "    <tr>\n",
       "      <th>493</th>\n",
       "      <td>참엔지니어링(주)</td>\n",
       "      <td>9310</td>\n",
       "      <td>코스피</td>\n",
       "      <td>2014</td>\n",
       "      <td>1.0</td>\n",
       "    </tr>\n",
       "    <tr>\n",
       "      <th>494</th>\n",
       "      <td>(주)씨씨에스충북방송</td>\n",
       "      <td>66790</td>\n",
       "      <td>코스닥</td>\n",
       "      <td>2014</td>\n",
       "      <td>1.0</td>\n",
       "    </tr>\n",
       "    <tr>\n",
       "      <th>495</th>\n",
       "      <td>(주)씨씨에스충북방송</td>\n",
       "      <td>66790</td>\n",
       "      <td>코스닥</td>\n",
       "      <td>2015</td>\n",
       "      <td>1.0</td>\n",
       "    </tr>\n",
       "    <tr>\n",
       "      <th>496</th>\n",
       "      <td>(주)씨씨에스충북방송</td>\n",
       "      <td>66790</td>\n",
       "      <td>코스닥</td>\n",
       "      <td>2016</td>\n",
       "      <td>1.0</td>\n",
       "    </tr>\n",
       "    <tr>\n",
       "      <th>497</th>\n",
       "      <td>(주)씨씨에스충북방송</td>\n",
       "      <td>66790</td>\n",
       "      <td>코스닥</td>\n",
       "      <td>2017</td>\n",
       "      <td>1.0</td>\n",
       "    </tr>\n",
       "  </tbody>\n",
       "</table>\n",
       "<p>498 rows × 5 columns</p>\n",
       "</div>"
      ],
      "text/plain": [
       "             회사명  거래소코드 기업유형  회계년도  이익 과대계상 (비용 과소계상)\n",
       "0          (주)효성   4800  코스피  2013                1.0\n",
       "1          (주)효성   4800  코스피  2014                1.0\n",
       "2          (주)효성   4800  코스피  2015                1.0\n",
       "3          (주)서연   7860  코스피  2012                0.0\n",
       "4       한솔홀딩스(주)   4150  코스피  2012                1.0\n",
       "..           ...    ...  ...   ...                ...\n",
       "493    참엔지니어링(주)   9310  코스피  2014                1.0\n",
       "494  (주)씨씨에스충북방송  66790  코스닥  2014                1.0\n",
       "495  (주)씨씨에스충북방송  66790  코스닥  2015                1.0\n",
       "496  (주)씨씨에스충북방송  66790  코스닥  2016                1.0\n",
       "497  (주)씨씨에스충북방송  66790  코스닥  2017                1.0\n",
       "\n",
       "[498 rows x 5 columns]"
      ]
     },
     "execution_count": 24,
     "metadata": {},
     "output_type": "execute_result"
    }
   ],
   "source": [
    "fraud"
   ]
  },
  {
   "cell_type": "code",
   "execution_count": 25,
   "metadata": {},
   "outputs": [
    {
     "name": "stdout",
     "output_type": "stream",
     "text": [
      "fraud 로우 수:  (498, 5)\n",
      "fraud 기업 수:  (138, 5)\n"
     ]
    }
   ],
   "source": [
    "print('fraud 로우 수: ', fraud.shape)\n",
    "print('fraud 기업 수: ', fraud.drop_duplicates('거래소코드').shape)"
   ]
  },
  {
   "cell_type": "code",
   "execution_count": 26,
   "metadata": {},
   "outputs": [],
   "source": [
    "# 중복 행 제거 후 인덱스 리셋\n",
    "fraud = fraud.drop_duplicates().reset_index(drop=True)"
   ]
  },
  {
   "cell_type": "code",
   "execution_count": 27,
   "metadata": {},
   "outputs": [
    {
     "name": "stdout",
     "output_type": "stream",
     "text": [
      "fraud 로우 수:  (445, 5)\n",
      "fraud 기업 수:  (138, 5)\n"
     ]
    }
   ],
   "source": [
    "print('fraud 로우 수: ', fraud.shape)\n",
    "print('fraud 기업 수: ', fraud.drop_duplicates('거래소코드').shape)"
   ]
  },
  {
   "cell_type": "markdown",
   "metadata": {},
   "source": [
    "### 기준이 되는 데이터 타입 맞추기"
   ]
  },
  {
   "cell_type": "code",
   "execution_count": 28,
   "metadata": {},
   "outputs": [
    {
     "name": "stdout",
     "output_type": "stream",
     "text": [
      "<class 'pandas.core.frame.DataFrame'>\n",
      "Index: 23293 entries, 0 to 27694\n",
      "Data columns (total 2 columns):\n",
      " #   Column  Non-Null Count  Dtype         \n",
      "---  ------  --------------  -----         \n",
      " 0   거래소코드   23293 non-null  int64         \n",
      " 1   회계년도    23293 non-null  datetime64[ns]\n",
      "dtypes: datetime64[ns](1), int64(1)\n",
      "memory usage: 545.9 KB\n"
     ]
    }
   ],
   "source": [
    "listed[['거래소코드', '회계년도']].info()"
   ]
  },
  {
   "cell_type": "code",
   "execution_count": 29,
   "metadata": {},
   "outputs": [
    {
     "name": "stdout",
     "output_type": "stream",
     "text": [
      "<class 'pandas.core.frame.DataFrame'>\n",
      "RangeIndex: 445 entries, 0 to 444\n",
      "Data columns (total 2 columns):\n",
      " #   Column  Non-Null Count  Dtype\n",
      "---  ------  --------------  -----\n",
      " 0   거래소코드   445 non-null    int64\n",
      " 1   회계년도    445 non-null    int64\n",
      "dtypes: int64(2)\n",
      "memory usage: 7.1 KB\n"
     ]
    }
   ],
   "source": [
    "fraud[['거래소코드', '회계년도']].info()"
   ]
  },
  {
   "cell_type": "code",
   "execution_count": 30,
   "metadata": {},
   "outputs": [],
   "source": [
    "listed['회계년도'] = listed['회계년도'].dt.year"
   ]
  },
  {
   "cell_type": "markdown",
   "metadata": {},
   "source": [
    "### pd.merge(listed, fraud, on=['거래소코드', '회계년도'])"
   ]
  },
  {
   "cell_type": "code",
   "execution_count": 31,
   "metadata": {},
   "outputs": [],
   "source": [
    "listed = pd.merge(listed, fraud, on=['거래소코드', '회계년도'])"
   ]
  },
  {
   "cell_type": "code",
   "execution_count": 32,
   "metadata": {},
   "outputs": [
    {
     "data": {
      "text/html": [
       "<div>\n",
       "<style scoped>\n",
       "    .dataframe tbody tr th:only-of-type {\n",
       "        vertical-align: middle;\n",
       "    }\n",
       "\n",
       "    .dataframe tbody tr th {\n",
       "        vertical-align: top;\n",
       "    }\n",
       "\n",
       "    .dataframe thead th {\n",
       "        text-align: right;\n",
       "    }\n",
       "</style>\n",
       "<table border=\"1\" class=\"dataframe\">\n",
       "  <thead>\n",
       "    <tr style=\"text-align: right;\">\n",
       "      <th></th>\n",
       "      <th>회사명_x</th>\n",
       "      <th>거래소코드</th>\n",
       "      <th>회계년도</th>\n",
       "      <th>소속코드</th>\n",
       "      <th>통계청 한국표준산업분류 코드 10차(대분류)</th>\n",
       "      <th>산업코드</th>\n",
       "      <th>산업명</th>\n",
       "      <th>상장일</th>\n",
       "      <th>상장폐지일</th>\n",
       "      <th>현금및현금성자산(*)(IFRS연결)(천원)</th>\n",
       "      <th>...</th>\n",
       "      <th>지분법적용투자주식손상차손(IFRS연결)(천원)</th>\n",
       "      <th>기부금(IFRS연결)(천원)</th>\n",
       "      <th>투자자산처분손실(IFRS연결)(천원)</th>\n",
       "      <th>보상비(IFRS연결)(천원)</th>\n",
       "      <th>법인세추납액(IFRS연결)(천원)</th>\n",
       "      <th>전기오류수정손실(IFRS연결)(천원)</th>\n",
       "      <th>법인세비용(IFRS연결)(천원)</th>\n",
       "      <th>회사명_y</th>\n",
       "      <th>기업유형</th>\n",
       "      <th>이익 과대계상 (비용 과소계상)</th>\n",
       "    </tr>\n",
       "  </thead>\n",
       "  <tbody>\n",
       "    <tr>\n",
       "      <th>0</th>\n",
       "      <td>(주)다이나믹디자인</td>\n",
       "      <td>145210</td>\n",
       "      <td>2015</td>\n",
       "      <td>1</td>\n",
       "      <td>29</td>\n",
       "      <td>32902</td>\n",
       "      <td>기타 기계 및 장비 제조업</td>\n",
       "      <td>2015-03-19</td>\n",
       "      <td>NaN</td>\n",
       "      <td>10376890.0</td>\n",
       "      <td>...</td>\n",
       "      <td>0.0</td>\n",
       "      <td>0.0</td>\n",
       "      <td>0.0</td>\n",
       "      <td>0.0</td>\n",
       "      <td>0.0</td>\n",
       "      <td>0.0</td>\n",
       "      <td>184992.0</td>\n",
       "      <td>(주)다이나믹디자인</td>\n",
       "      <td>코스피</td>\n",
       "      <td>1.0</td>\n",
       "    </tr>\n",
       "    <tr>\n",
       "      <th>1</th>\n",
       "      <td>(주)다이나믹디자인</td>\n",
       "      <td>145210</td>\n",
       "      <td>2016</td>\n",
       "      <td>1</td>\n",
       "      <td>29</td>\n",
       "      <td>32902</td>\n",
       "      <td>기타 기계 및 장비 제조업</td>\n",
       "      <td>2015-03-19</td>\n",
       "      <td>NaN</td>\n",
       "      <td>15192647.0</td>\n",
       "      <td>...</td>\n",
       "      <td>0.0</td>\n",
       "      <td>0.0</td>\n",
       "      <td>0.0</td>\n",
       "      <td>0.0</td>\n",
       "      <td>0.0</td>\n",
       "      <td>0.0</td>\n",
       "      <td>7248212.0</td>\n",
       "      <td>(주)다이나믹디자인</td>\n",
       "      <td>코스피</td>\n",
       "      <td>1.0</td>\n",
       "    </tr>\n",
       "    <tr>\n",
       "      <th>2</th>\n",
       "      <td>(주)다이나믹디자인</td>\n",
       "      <td>145210</td>\n",
       "      <td>2017</td>\n",
       "      <td>1</td>\n",
       "      <td>29</td>\n",
       "      <td>32902</td>\n",
       "      <td>기타 기계 및 장비 제조업</td>\n",
       "      <td>2015-03-19</td>\n",
       "      <td>NaN</td>\n",
       "      <td>6564156.0</td>\n",
       "      <td>...</td>\n",
       "      <td>0.0</td>\n",
       "      <td>0.0</td>\n",
       "      <td>0.0</td>\n",
       "      <td>0.0</td>\n",
       "      <td>0.0</td>\n",
       "      <td>0.0</td>\n",
       "      <td>-696299.0</td>\n",
       "      <td>(주)다이나믹디자인</td>\n",
       "      <td>코스피</td>\n",
       "      <td>1.0</td>\n",
       "    </tr>\n",
       "    <tr>\n",
       "      <th>3</th>\n",
       "      <td>(주)대우건설</td>\n",
       "      <td>47040</td>\n",
       "      <td>2012</td>\n",
       "      <td>1</td>\n",
       "      <td>41</td>\n",
       "      <td>64101</td>\n",
       "      <td>종합 건설업</td>\n",
       "      <td>2001-03-23</td>\n",
       "      <td>NaN</td>\n",
       "      <td>388440274.0</td>\n",
       "      <td>...</td>\n",
       "      <td>0.0</td>\n",
       "      <td>0.0</td>\n",
       "      <td>0.0</td>\n",
       "      <td>0.0</td>\n",
       "      <td>0.0</td>\n",
       "      <td>0.0</td>\n",
       "      <td>54918791.0</td>\n",
       "      <td>(주)대우건설</td>\n",
       "      <td>코스피</td>\n",
       "      <td>0.0</td>\n",
       "    </tr>\n",
       "    <tr>\n",
       "      <th>4</th>\n",
       "      <td>(주)대우건설</td>\n",
       "      <td>47040</td>\n",
       "      <td>2013</td>\n",
       "      <td>1</td>\n",
       "      <td>41</td>\n",
       "      <td>64101</td>\n",
       "      <td>종합 건설업</td>\n",
       "      <td>2001-03-23</td>\n",
       "      <td>NaN</td>\n",
       "      <td>409596263.0</td>\n",
       "      <td>...</td>\n",
       "      <td>0.0</td>\n",
       "      <td>0.0</td>\n",
       "      <td>0.0</td>\n",
       "      <td>0.0</td>\n",
       "      <td>0.0</td>\n",
       "      <td>0.0</td>\n",
       "      <td>-121688653.0</td>\n",
       "      <td>(주)대우건설</td>\n",
       "      <td>코스피</td>\n",
       "      <td>0.0</td>\n",
       "    </tr>\n",
       "    <tr>\n",
       "      <th>...</th>\n",
       "      <td>...</td>\n",
       "      <td>...</td>\n",
       "      <td>...</td>\n",
       "      <td>...</td>\n",
       "      <td>...</td>\n",
       "      <td>...</td>\n",
       "      <td>...</td>\n",
       "      <td>...</td>\n",
       "      <td>...</td>\n",
       "      <td>...</td>\n",
       "      <td>...</td>\n",
       "      <td>...</td>\n",
       "      <td>...</td>\n",
       "      <td>...</td>\n",
       "      <td>...</td>\n",
       "      <td>...</td>\n",
       "      <td>...</td>\n",
       "      <td>...</td>\n",
       "      <td>...</td>\n",
       "      <td>...</td>\n",
       "      <td>...</td>\n",
       "    </tr>\n",
       "    <tr>\n",
       "      <th>398</th>\n",
       "      <td>한솔아이원스(주)</td>\n",
       "      <td>114810</td>\n",
       "      <td>2017</td>\n",
       "      <td>5</td>\n",
       "      <td>29</td>\n",
       "      <td>32902</td>\n",
       "      <td>기타 기계 및 장비 제조업</td>\n",
       "      <td>2013-02-07</td>\n",
       "      <td>NaN</td>\n",
       "      <td>NaN</td>\n",
       "      <td>...</td>\n",
       "      <td>NaN</td>\n",
       "      <td>NaN</td>\n",
       "      <td>NaN</td>\n",
       "      <td>NaN</td>\n",
       "      <td>NaN</td>\n",
       "      <td>NaN</td>\n",
       "      <td>NaN</td>\n",
       "      <td>한솔아이원스(주)</td>\n",
       "      <td>코스닥</td>\n",
       "      <td>1.0</td>\n",
       "    </tr>\n",
       "    <tr>\n",
       "      <th>399</th>\n",
       "      <td>한솔아이원스(주)</td>\n",
       "      <td>114810</td>\n",
       "      <td>2018</td>\n",
       "      <td>5</td>\n",
       "      <td>29</td>\n",
       "      <td>32902</td>\n",
       "      <td>기타 기계 및 장비 제조업</td>\n",
       "      <td>2013-02-07</td>\n",
       "      <td>NaN</td>\n",
       "      <td>NaN</td>\n",
       "      <td>...</td>\n",
       "      <td>NaN</td>\n",
       "      <td>NaN</td>\n",
       "      <td>NaN</td>\n",
       "      <td>NaN</td>\n",
       "      <td>NaN</td>\n",
       "      <td>NaN</td>\n",
       "      <td>NaN</td>\n",
       "      <td>한솔아이원스(주)</td>\n",
       "      <td>코스닥</td>\n",
       "      <td>1.0</td>\n",
       "    </tr>\n",
       "    <tr>\n",
       "      <th>400</th>\n",
       "      <td>한솔아이원스(주)</td>\n",
       "      <td>114810</td>\n",
       "      <td>2019</td>\n",
       "      <td>5</td>\n",
       "      <td>29</td>\n",
       "      <td>32902</td>\n",
       "      <td>기타 기계 및 장비 제조업</td>\n",
       "      <td>2013-02-07</td>\n",
       "      <td>NaN</td>\n",
       "      <td>12310161.0</td>\n",
       "      <td>...</td>\n",
       "      <td>0.0</td>\n",
       "      <td>0.0</td>\n",
       "      <td>0.0</td>\n",
       "      <td>0.0</td>\n",
       "      <td>0.0</td>\n",
       "      <td>0.0</td>\n",
       "      <td>-2093131.0</td>\n",
       "      <td>한솔아이원스(주)</td>\n",
       "      <td>코스닥</td>\n",
       "      <td>1.0</td>\n",
       "    </tr>\n",
       "    <tr>\n",
       "      <th>401</th>\n",
       "      <td>한솔아이원스(주)</td>\n",
       "      <td>114810</td>\n",
       "      <td>2020</td>\n",
       "      <td>5</td>\n",
       "      <td>29</td>\n",
       "      <td>32902</td>\n",
       "      <td>기타 기계 및 장비 제조업</td>\n",
       "      <td>2013-02-07</td>\n",
       "      <td>NaN</td>\n",
       "      <td>9274990.0</td>\n",
       "      <td>...</td>\n",
       "      <td>0.0</td>\n",
       "      <td>0.0</td>\n",
       "      <td>0.0</td>\n",
       "      <td>0.0</td>\n",
       "      <td>0.0</td>\n",
       "      <td>0.0</td>\n",
       "      <td>2536049.0</td>\n",
       "      <td>한솔아이원스(주)</td>\n",
       "      <td>코스닥</td>\n",
       "      <td>1.0</td>\n",
       "    </tr>\n",
       "    <tr>\n",
       "      <th>402</th>\n",
       "      <td>한솔아이원스(주)</td>\n",
       "      <td>114810</td>\n",
       "      <td>2021</td>\n",
       "      <td>5</td>\n",
       "      <td>29</td>\n",
       "      <td>32902</td>\n",
       "      <td>기타 기계 및 장비 제조업</td>\n",
       "      <td>2013-02-07</td>\n",
       "      <td>NaN</td>\n",
       "      <td>16490063.0</td>\n",
       "      <td>...</td>\n",
       "      <td>0.0</td>\n",
       "      <td>0.0</td>\n",
       "      <td>0.0</td>\n",
       "      <td>0.0</td>\n",
       "      <td>0.0</td>\n",
       "      <td>0.0</td>\n",
       "      <td>10788434.0</td>\n",
       "      <td>한솔아이원스(주)</td>\n",
       "      <td>코스닥</td>\n",
       "      <td>1.0</td>\n",
       "    </tr>\n",
       "  </tbody>\n",
       "</table>\n",
       "<p>403 rows × 196 columns</p>\n",
       "</div>"
      ],
      "text/plain": [
       "          회사명_x   거래소코드  회계년도  소속코드  통계청 한국표준산업분류 코드 10차(대분류)   산업코드  \\\n",
       "0    (주)다이나믹디자인  145210  2015     1                        29  32902   \n",
       "1    (주)다이나믹디자인  145210  2016     1                        29  32902   \n",
       "2    (주)다이나믹디자인  145210  2017     1                        29  32902   \n",
       "3       (주)대우건설   47040  2012     1                        41  64101   \n",
       "4       (주)대우건설   47040  2013     1                        41  64101   \n",
       "..          ...     ...   ...   ...                       ...    ...   \n",
       "398   한솔아이원스(주)  114810  2017     5                        29  32902   \n",
       "399   한솔아이원스(주)  114810  2018     5                        29  32902   \n",
       "400   한솔아이원스(주)  114810  2019     5                        29  32902   \n",
       "401   한솔아이원스(주)  114810  2020     5                        29  32902   \n",
       "402   한솔아이원스(주)  114810  2021     5                        29  32902   \n",
       "\n",
       "                   산업명        상장일 상장폐지일  현금및현금성자산(*)(IFRS연결)(천원)  ...  \\\n",
       "0      기타 기계 및 장비 제조업  2015-03-19   NaN               10376890.0  ...   \n",
       "1      기타 기계 및 장비 제조업  2015-03-19   NaN               15192647.0  ...   \n",
       "2      기타 기계 및 장비 제조업  2015-03-19   NaN                6564156.0  ...   \n",
       "3              종합 건설업  2001-03-23   NaN              388440274.0  ...   \n",
       "4              종합 건설업  2001-03-23   NaN              409596263.0  ...   \n",
       "..                 ...        ...   ...                      ...  ...   \n",
       "398    기타 기계 및 장비 제조업  2013-02-07   NaN                      NaN  ...   \n",
       "399    기타 기계 및 장비 제조업  2013-02-07   NaN                      NaN  ...   \n",
       "400    기타 기계 및 장비 제조업  2013-02-07   NaN               12310161.0  ...   \n",
       "401    기타 기계 및 장비 제조업  2013-02-07   NaN                9274990.0  ...   \n",
       "402    기타 기계 및 장비 제조업  2013-02-07   NaN               16490063.0  ...   \n",
       "\n",
       "     지분법적용투자주식손상차손(IFRS연결)(천원)  기부금(IFRS연결)(천원)  투자자산처분손실(IFRS연결)(천원)  \\\n",
       "0                          0.0              0.0                   0.0   \n",
       "1                          0.0              0.0                   0.0   \n",
       "2                          0.0              0.0                   0.0   \n",
       "3                          0.0              0.0                   0.0   \n",
       "4                          0.0              0.0                   0.0   \n",
       "..                         ...              ...                   ...   \n",
       "398                        NaN              NaN                   NaN   \n",
       "399                        NaN              NaN                   NaN   \n",
       "400                        0.0              0.0                   0.0   \n",
       "401                        0.0              0.0                   0.0   \n",
       "402                        0.0              0.0                   0.0   \n",
       "\n",
       "     보상비(IFRS연결)(천원)  법인세추납액(IFRS연결)(천원)  전기오류수정손실(IFRS연결)(천원)  \\\n",
       "0                0.0                 0.0                   0.0   \n",
       "1                0.0                 0.0                   0.0   \n",
       "2                0.0                 0.0                   0.0   \n",
       "3                0.0                 0.0                   0.0   \n",
       "4                0.0                 0.0                   0.0   \n",
       "..               ...                 ...                   ...   \n",
       "398              NaN                 NaN                   NaN   \n",
       "399              NaN                 NaN                   NaN   \n",
       "400              0.0                 0.0                   0.0   \n",
       "401              0.0                 0.0                   0.0   \n",
       "402              0.0                 0.0                   0.0   \n",
       "\n",
       "     법인세비용(IFRS연결)(천원)       회사명_y  기업유형  이익 과대계상 (비용 과소계상)  \n",
       "0             184992.0  (주)다이나믹디자인   코스피                1.0  \n",
       "1            7248212.0  (주)다이나믹디자인   코스피                1.0  \n",
       "2            -696299.0  (주)다이나믹디자인   코스피                1.0  \n",
       "3           54918791.0     (주)대우건설   코스피                0.0  \n",
       "4         -121688653.0     (주)대우건설   코스피                0.0  \n",
       "..                 ...         ...   ...                ...  \n",
       "398                NaN   한솔아이원스(주)   코스닥                1.0  \n",
       "399                NaN   한솔아이원스(주)   코스닥                1.0  \n",
       "400         -2093131.0   한솔아이원스(주)   코스닥                1.0  \n",
       "401          2536049.0   한솔아이원스(주)   코스닥                1.0  \n",
       "402         10788434.0   한솔아이원스(주)   코스닥                1.0  \n",
       "\n",
       "[403 rows x 196 columns]"
      ]
     },
     "execution_count": 32,
     "metadata": {},
     "output_type": "execute_result"
    }
   ],
   "source": [
    "listed"
   ]
  },
  {
   "cell_type": "code",
   "execution_count": 33,
   "metadata": {},
   "outputs": [
    {
     "data": {
      "text/plain": [
       "(403, 196)"
      ]
     },
     "execution_count": 33,
     "metadata": {},
     "output_type": "execute_result"
    }
   ],
   "source": [
    "listed.shape"
   ]
  },
  {
   "cell_type": "code",
   "execution_count": 34,
   "metadata": {},
   "outputs": [
    {
     "data": {
      "text/plain": [
       "(132, 196)"
      ]
     },
     "execution_count": 34,
     "metadata": {},
     "output_type": "execute_result"
    }
   ],
   "source": [
    "listed.drop_duplicates('거래소코드').shape"
   ]
  },
  {
   "cell_type": "code",
   "execution_count": 35,
   "metadata": {},
   "outputs": [
    {
     "name": "stdout",
     "output_type": "stream",
     "text": [
      "(128, 196)\n",
      "(275, 196)\n"
     ]
    }
   ],
   "source": [
    "print(listed[listed['기업유형'] == '코스피'].shape)\n",
    "print(listed[listed['기업유형'] == '코스닥'].shape)"
   ]
  },
  {
   "cell_type": "code",
   "execution_count": 36,
   "metadata": {},
   "outputs": [
    {
     "name": "stdout",
     "output_type": "stream",
     "text": [
      "(40, 196)\n",
      "(92, 196)\n"
     ]
    }
   ],
   "source": [
    "print(listed[listed['기업유형'] == '코스피'].drop_duplicates('거래소코드').shape)\n",
    "print(listed[listed['기업유형'] == '코스닥'].drop_duplicates('거래소코드').shape)"
   ]
  },
  {
   "cell_type": "markdown",
   "metadata": {},
   "source": [
    "# 정리"
   ]
  },
  {
   "cell_type": "code",
   "execution_count": 37,
   "metadata": {},
   "outputs": [
    {
     "data": {
      "text/plain": [
       "Index(['회사명_x', '거래소코드', '회계년도', '소속코드', '통계청 한국표준산업분류 코드 10차(대분류)', '산업코드',\n",
       "       '산업명', '상장일', '상장폐지일', '현금및현금성자산(*)(IFRS연결)(천원)',\n",
       "       ...\n",
       "       '지분법적용투자주식손상차손(IFRS연결)(천원)', '기부금(IFRS연결)(천원)', '투자자산처분손실(IFRS연결)(천원)',\n",
       "       '보상비(IFRS연결)(천원)', '법인세추납액(IFRS연결)(천원)', '전기오류수정손실(IFRS연결)(천원)',\n",
       "       '법인세비용(IFRS연결)(천원)', '회사명_y', '기업유형', '이익 과대계상 (비용 과소계상)'],\n",
       "      dtype='object', length=196)"
      ]
     },
     "execution_count": 37,
     "metadata": {},
     "output_type": "execute_result"
    }
   ],
   "source": [
    "listed.columns"
   ]
  },
  {
   "cell_type": "code",
   "execution_count": 38,
   "metadata": {},
   "outputs": [
    {
     "data": {
      "text/plain": [
       "Index(['회사명_x', '거래소코드', '회계년도', '소속코드', '통계청 한국표준산업분류 코드 10차(대분류)', '산업코드',\n",
       "       '산업명', '상장일', '상장폐지일', '현금및현금성자산(*)(IFRS연결)(천원)',\n",
       "       ...\n",
       "       '외화환산손실(IFRS연결)(천원).1', '지분법적용투자주식손상차손(IFRS연결)(천원)', '기부금(IFRS연결)(천원)',\n",
       "       '투자자산처분손실(IFRS연결)(천원)', '보상비(IFRS연결)(천원)', '법인세추납액(IFRS연결)(천원)',\n",
       "       '전기오류수정손실(IFRS연결)(천원)', '법인세비용(IFRS연결)(천원)', '기업유형',\n",
       "       '이익 과대계상 (비용 과소계상)'],\n",
       "      dtype='object', length=195)"
      ]
     },
     "execution_count": 38,
     "metadata": {},
     "output_type": "execute_result"
    }
   ],
   "source": [
    "listed = listed.drop(columns = '회사명_y')\n",
    "listed.columns"
   ]
  },
  {
   "cell_type": "code",
   "execution_count": 39,
   "metadata": {},
   "outputs": [
    {
     "data": {
      "text/plain": [
       "Index(['회사명', '거래소코드', '회계년도', '소속코드', '통계청 한국표준산업분류 코드 10차(대분류)', '산업코드',\n",
       "       '산업명', '상장일', '상장폐지일', '현금및현금성자산(*)(IFRS연결)(천원)',\n",
       "       ...\n",
       "       '외화환산손실(IFRS연결)(천원).1', '지분법적용투자주식손상차손(IFRS연결)(천원)', '기부금(IFRS연결)(천원)',\n",
       "       '투자자산처분손실(IFRS연결)(천원)', '보상비(IFRS연결)(천원)', '법인세추납액(IFRS연결)(천원)',\n",
       "       '전기오류수정손실(IFRS연결)(천원)', '법인세비용(IFRS연결)(천원)', '기업유형', 'label'],\n",
       "      dtype='object', length=195)"
      ]
     },
     "execution_count": 39,
     "metadata": {},
     "output_type": "execute_result"
    }
   ],
   "source": [
    "listed = listed.rename(columns={'회사명_x': '회사명', '이익 과대계상 (비용 과소계상)': 'label'})\n",
    "listed.columns"
   ]
  },
  {
   "cell_type": "code",
   "execution_count": 40,
   "metadata": {},
   "outputs": [],
   "source": [
    "listed_describe = listed.iloc[:, 8:-1].describe()"
   ]
  },
  {
   "cell_type": "markdown",
   "metadata": {},
   "source": [
    "# csv로 저장"
   ]
  },
  {
   "cell_type": "code",
   "execution_count": 41,
   "metadata": {},
   "outputs": [],
   "source": [
    "# listed.to_csv('../data/processed_data/재무계정.csv', index=False, encoding='UTF-8-sig')"
   ]
  },
  {
   "cell_type": "code",
   "execution_count": 42,
   "metadata": {},
   "outputs": [],
   "source": [
    "# listed_describe.to_csv('../data/processed_data/재무계정_기초통계량.csv', index=False, encoding='UTF-8-sig')"
   ]
  },
  {
   "cell_type": "code",
   "execution_count": null,
   "metadata": {},
   "outputs": [],
   "source": []
  }
 ],
 "metadata": {
  "kernelspec": {
   "display_name": "base",
   "language": "python",
   "name": "python3"
  },
  "language_info": {
   "codemirror_mode": {
    "name": "ipython",
    "version": 3
   },
   "file_extension": ".py",
   "mimetype": "text/x-python",
   "name": "python",
   "nbconvert_exporter": "python",
   "pygments_lexer": "ipython3",
   "version": "3.10.9"
  }
 },
 "nbformat": 4,
 "nbformat_minor": 2
}
