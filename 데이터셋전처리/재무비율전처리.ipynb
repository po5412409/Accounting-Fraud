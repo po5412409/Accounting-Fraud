{
 "cells": [
  {
   "cell_type": "code",
   "execution_count": 1,
   "metadata": {},
   "outputs": [],
   "source": [
    "import pandas as pd"
   ]
  },
  {
   "cell_type": "code",
   "execution_count": 2,
   "metadata": {},
   "outputs": [],
   "source": [
    "kospi_ratio = pd.read_excel('../data/raw_data/코스피_재무비율.xlsx')\n",
    "kosdaq_ratio = pd.read_excel('../data/raw_data/코스닥_재무비율.xlsx')"
   ]
  },
  {
   "cell_type": "code",
   "execution_count": 3,
   "metadata": {},
   "outputs": [],
   "source": [
    "listed = pd.concat([kospi_ratio, kosdaq_ratio], ignore_index=True)"
   ]
  },
  {
   "cell_type": "code",
   "execution_count": 4,
   "metadata": {},
   "outputs": [
    {
     "data": {
      "text/html": [
       "<div>\n",
       "<style scoped>\n",
       "    .dataframe tbody tr th:only-of-type {\n",
       "        vertical-align: middle;\n",
       "    }\n",
       "\n",
       "    .dataframe tbody tr th {\n",
       "        vertical-align: top;\n",
       "    }\n",
       "\n",
       "    .dataframe thead th {\n",
       "        text-align: right;\n",
       "    }\n",
       "</style>\n",
       "<table border=\"1\" class=\"dataframe\">\n",
       "  <thead>\n",
       "    <tr style=\"text-align: right;\">\n",
       "      <th></th>\n",
       "      <th>회사명</th>\n",
       "      <th>거래소코드</th>\n",
       "      <th>회계년도</th>\n",
       "      <th>소속코드</th>\n",
       "      <th>통계청 한국표준산업분류 코드 10차(대분류)</th>\n",
       "      <th>산업코드</th>\n",
       "      <th>산업명</th>\n",
       "      <th>상장일</th>\n",
       "      <th>상장폐지일</th>\n",
       "      <th>총자본증가율(IFRS연결)</th>\n",
       "      <th>...</th>\n",
       "      <th>인건비(IFRS연결)(백만원)</th>\n",
       "      <th>금융비용(IFRS연결)(백만원)</th>\n",
       "      <th>임차료(IFRS연결)(백만원)</th>\n",
       "      <th>세금과공과(IFRS연결)(백만원)</th>\n",
       "      <th>감가상각비(IFRS연결)(백만원)</th>\n",
       "      <th>종업원1인당 부가가치(IFRS연결)(백만원).1</th>\n",
       "      <th>총자본투자효율(IFRS연결).1</th>\n",
       "      <th>기계투자효율(IFRS연결).1</th>\n",
       "      <th>부가가치율(IFRS연결).1</th>\n",
       "      <th>종업원수(IFRS연결)</th>\n",
       "    </tr>\n",
       "  </thead>\n",
       "  <tbody>\n",
       "    <tr>\n",
       "      <th>1394</th>\n",
       "      <td>(주)셀트리온</td>\n",
       "      <td>68270</td>\n",
       "      <td>2012/12</td>\n",
       "      <td>1</td>\n",
       "      <td>21</td>\n",
       "      <td>32101</td>\n",
       "      <td>의료용 물질 및 의약품 제조업</td>\n",
       "      <td>2018/02/09</td>\n",
       "      <td>NaN</td>\n",
       "      <td>0.00</td>\n",
       "      <td>...</td>\n",
       "      <td>56122.23</td>\n",
       "      <td>9244.68</td>\n",
       "      <td>1026.32</td>\n",
       "      <td>946.04</td>\n",
       "      <td>36679.19</td>\n",
       "      <td>NaN</td>\n",
       "      <td>16.82</td>\n",
       "      <td>2440.15</td>\n",
       "      <td>83.21</td>\n",
       "      <td>NaN</td>\n",
       "    </tr>\n",
       "    <tr>\n",
       "      <th>1395</th>\n",
       "      <td>(주)셀트리온</td>\n",
       "      <td>68270</td>\n",
       "      <td>2013/12</td>\n",
       "      <td>1</td>\n",
       "      <td>21</td>\n",
       "      <td>32101</td>\n",
       "      <td>의료용 물질 및 의약품 제조업</td>\n",
       "      <td>2018/02/09</td>\n",
       "      <td>NaN</td>\n",
       "      <td>14.17</td>\n",
       "      <td>...</td>\n",
       "      <td>47863.33</td>\n",
       "      <td>21608.50</td>\n",
       "      <td>1044.44</td>\n",
       "      <td>1100.75</td>\n",
       "      <td>47710.47</td>\n",
       "      <td>NaN</td>\n",
       "      <td>11.87</td>\n",
       "      <td>2214.09</td>\n",
       "      <td>103.78</td>\n",
       "      <td>NaN</td>\n",
       "    </tr>\n",
       "    <tr>\n",
       "      <th>1396</th>\n",
       "      <td>(주)셀트리온</td>\n",
       "      <td>68270</td>\n",
       "      <td>2014/12</td>\n",
       "      <td>1</td>\n",
       "      <td>21</td>\n",
       "      <td>32101</td>\n",
       "      <td>의료용 물질 및 의약품 제조업</td>\n",
       "      <td>2018/02/09</td>\n",
       "      <td>NaN</td>\n",
       "      <td>17.38</td>\n",
       "      <td>...</td>\n",
       "      <td>75196.20</td>\n",
       "      <td>28158.55</td>\n",
       "      <td>1898.77</td>\n",
       "      <td>2093.42</td>\n",
       "      <td>76278.81</td>\n",
       "      <td>NaN</td>\n",
       "      <td>14.33</td>\n",
       "      <td>2358.47</td>\n",
       "      <td>70.64</td>\n",
       "      <td>NaN</td>\n",
       "    </tr>\n",
       "    <tr>\n",
       "      <th>1397</th>\n",
       "      <td>(주)셀트리온</td>\n",
       "      <td>68270</td>\n",
       "      <td>2015/12</td>\n",
       "      <td>1</td>\n",
       "      <td>21</td>\n",
       "      <td>32101</td>\n",
       "      <td>의료용 물질 및 의약품 제조업</td>\n",
       "      <td>2018/02/09</td>\n",
       "      <td>NaN</td>\n",
       "      <td>18.34</td>\n",
       "      <td>...</td>\n",
       "      <td>84885.07</td>\n",
       "      <td>22657.19</td>\n",
       "      <td>2211.66</td>\n",
       "      <td>2218.44</td>\n",
       "      <td>82174.08</td>\n",
       "      <td>NaN</td>\n",
       "      <td>13.00</td>\n",
       "      <td>480.46</td>\n",
       "      <td>59.21</td>\n",
       "      <td>NaN</td>\n",
       "    </tr>\n",
       "    <tr>\n",
       "      <th>1398</th>\n",
       "      <td>(주)셀트리온</td>\n",
       "      <td>68270</td>\n",
       "      <td>2016/12</td>\n",
       "      <td>1</td>\n",
       "      <td>21</td>\n",
       "      <td>32101</td>\n",
       "      <td>의료용 물질 및 의약품 제조업</td>\n",
       "      <td>2018/02/09</td>\n",
       "      <td>NaN</td>\n",
       "      <td>4.93</td>\n",
       "      <td>...</td>\n",
       "      <td>101885.24</td>\n",
       "      <td>14297.96</td>\n",
       "      <td>2242.57</td>\n",
       "      <td>3546.02</td>\n",
       "      <td>84773.55</td>\n",
       "      <td>NaN</td>\n",
       "      <td>14.02</td>\n",
       "      <td>138.42</td>\n",
       "      <td>60.27</td>\n",
       "      <td>NaN</td>\n",
       "    </tr>\n",
       "    <tr>\n",
       "      <th>1399</th>\n",
       "      <td>(주)셀트리온</td>\n",
       "      <td>68270</td>\n",
       "      <td>2017/12</td>\n",
       "      <td>1</td>\n",
       "      <td>21</td>\n",
       "      <td>32101</td>\n",
       "      <td>의료용 물질 및 의약품 제조업</td>\n",
       "      <td>2018/02/09</td>\n",
       "      <td>NaN</td>\n",
       "      <td>14.23</td>\n",
       "      <td>...</td>\n",
       "      <td>129910.64</td>\n",
       "      <td>9133.63</td>\n",
       "      <td>2502.06</td>\n",
       "      <td>3881.94</td>\n",
       "      <td>97950.27</td>\n",
       "      <td>NaN</td>\n",
       "      <td>22.05</td>\n",
       "      <td>271.63</td>\n",
       "      <td>76.54</td>\n",
       "      <td>NaN</td>\n",
       "    </tr>\n",
       "    <tr>\n",
       "      <th>1400</th>\n",
       "      <td>(주)셀트리온</td>\n",
       "      <td>68270</td>\n",
       "      <td>2018/12</td>\n",
       "      <td>1</td>\n",
       "      <td>21</td>\n",
       "      <td>32101</td>\n",
       "      <td>의료용 물질 및 의약품 제조업</td>\n",
       "      <td>2018/02/09</td>\n",
       "      <td>NaN</td>\n",
       "      <td>6.35</td>\n",
       "      <td>...</td>\n",
       "      <td>165997.87</td>\n",
       "      <td>3948.96</td>\n",
       "      <td>2838.20</td>\n",
       "      <td>4763.27</td>\n",
       "      <td>124826.47</td>\n",
       "      <td>NaN</td>\n",
       "      <td>17.24</td>\n",
       "      <td>247.20</td>\n",
       "      <td>61.50</td>\n",
       "      <td>NaN</td>\n",
       "    </tr>\n",
       "    <tr>\n",
       "      <th>1401</th>\n",
       "      <td>(주)셀트리온</td>\n",
       "      <td>68270</td>\n",
       "      <td>2019/12</td>\n",
       "      <td>1</td>\n",
       "      <td>21</td>\n",
       "      <td>32101</td>\n",
       "      <td>의료용 물질 및 의약품 제조업</td>\n",
       "      <td>2018/02/09</td>\n",
       "      <td>NaN</td>\n",
       "      <td>10.18</td>\n",
       "      <td>...</td>\n",
       "      <td>209351.25</td>\n",
       "      <td>-1228.84</td>\n",
       "      <td>1101.15</td>\n",
       "      <td>5584.20</td>\n",
       "      <td>153719.62</td>\n",
       "      <td>NaN</td>\n",
       "      <td>19.45</td>\n",
       "      <td>259.78</td>\n",
       "      <td>66.51</td>\n",
       "      <td>NaN</td>\n",
       "    </tr>\n",
       "    <tr>\n",
       "      <th>1402</th>\n",
       "      <td>(주)셀트리온</td>\n",
       "      <td>68270</td>\n",
       "      <td>2020/12</td>\n",
       "      <td>1</td>\n",
       "      <td>21</td>\n",
       "      <td>32101</td>\n",
       "      <td>의료용 물질 및 의약품 제조업</td>\n",
       "      <td>2018/02/09</td>\n",
       "      <td>NaN</td>\n",
       "      <td>30.07</td>\n",
       "      <td>...</td>\n",
       "      <td>243184.58</td>\n",
       "      <td>1537.81</td>\n",
       "      <td>0.00</td>\n",
       "      <td>5846.31</td>\n",
       "      <td>173849.80</td>\n",
       "      <td>NaN</td>\n",
       "      <td>21.54</td>\n",
       "      <td>365.66</td>\n",
       "      <td>58.49</td>\n",
       "      <td>NaN</td>\n",
       "    </tr>\n",
       "    <tr>\n",
       "      <th>1403</th>\n",
       "      <td>(주)셀트리온</td>\n",
       "      <td>68270</td>\n",
       "      <td>2021/12</td>\n",
       "      <td>1</td>\n",
       "      <td>21</td>\n",
       "      <td>32101</td>\n",
       "      <td>의료용 물질 및 의약품 제조업</td>\n",
       "      <td>2018/02/09</td>\n",
       "      <td>NaN</td>\n",
       "      <td>13.03</td>\n",
       "      <td>...</td>\n",
       "      <td>252822.59</td>\n",
       "      <td>1602.49</td>\n",
       "      <td>0.00</td>\n",
       "      <td>6821.75</td>\n",
       "      <td>214159.74</td>\n",
       "      <td>NaN</td>\n",
       "      <td>21.62</td>\n",
       "      <td>407.25</td>\n",
       "      <td>64.17</td>\n",
       "      <td>NaN</td>\n",
       "    </tr>\n",
       "    <tr>\n",
       "      <th>1404</th>\n",
       "      <td>(주)셀트리온</td>\n",
       "      <td>68270</td>\n",
       "      <td>2022/12</td>\n",
       "      <td>1</td>\n",
       "      <td>21</td>\n",
       "      <td>32101</td>\n",
       "      <td>의료용 물질 및 의약품 제조업</td>\n",
       "      <td>2018/02/09</td>\n",
       "      <td>NaN</td>\n",
       "      <td>3.83</td>\n",
       "      <td>...</td>\n",
       "      <td>276427.54</td>\n",
       "      <td>-6943.42</td>\n",
       "      <td>0.00</td>\n",
       "      <td>7223.42</td>\n",
       "      <td>226390.02</td>\n",
       "      <td>NaN</td>\n",
       "      <td>19.17</td>\n",
       "      <td>425.62</td>\n",
       "      <td>49.44</td>\n",
       "      <td>NaN</td>\n",
       "    </tr>\n",
       "    <tr>\n",
       "      <th>1405</th>\n",
       "      <td>(주)셀트리온</td>\n",
       "      <td>68270</td>\n",
       "      <td>2023/12</td>\n",
       "      <td>1</td>\n",
       "      <td>21</td>\n",
       "      <td>32101</td>\n",
       "      <td>의료용 물질 및 의약품 제조업</td>\n",
       "      <td>2018/02/09</td>\n",
       "      <td>NaN</td>\n",
       "      <td>238.06</td>\n",
       "      <td>...</td>\n",
       "      <td>304339.57</td>\n",
       "      <td>-9466.72</td>\n",
       "      <td>0.00</td>\n",
       "      <td>7919.81</td>\n",
       "      <td>245827.33</td>\n",
       "      <td>NaN</td>\n",
       "      <td>6.12</td>\n",
       "      <td>521.69</td>\n",
       "      <td>56.04</td>\n",
       "      <td>NaN</td>\n",
       "    </tr>\n",
       "    <tr>\n",
       "      <th>12842</th>\n",
       "      <td>(주)셀트리온</td>\n",
       "      <td>68270</td>\n",
       "      <td>2012/12</td>\n",
       "      <td>4</td>\n",
       "      <td>21</td>\n",
       "      <td>32101</td>\n",
       "      <td>의료용 물질 및 의약품 제조업</td>\n",
       "      <td>2005/07/15</td>\n",
       "      <td>2018/02/09</td>\n",
       "      <td>0.00</td>\n",
       "      <td>...</td>\n",
       "      <td>56122.23</td>\n",
       "      <td>9244.68</td>\n",
       "      <td>1026.32</td>\n",
       "      <td>946.04</td>\n",
       "      <td>36679.19</td>\n",
       "      <td>NaN</td>\n",
       "      <td>16.82</td>\n",
       "      <td>2440.15</td>\n",
       "      <td>83.21</td>\n",
       "      <td>NaN</td>\n",
       "    </tr>\n",
       "    <tr>\n",
       "      <th>12843</th>\n",
       "      <td>(주)셀트리온</td>\n",
       "      <td>68270</td>\n",
       "      <td>2013/12</td>\n",
       "      <td>4</td>\n",
       "      <td>21</td>\n",
       "      <td>32101</td>\n",
       "      <td>의료용 물질 및 의약품 제조업</td>\n",
       "      <td>2005/07/15</td>\n",
       "      <td>2018/02/09</td>\n",
       "      <td>14.17</td>\n",
       "      <td>...</td>\n",
       "      <td>47863.33</td>\n",
       "      <td>21608.50</td>\n",
       "      <td>1044.44</td>\n",
       "      <td>1100.75</td>\n",
       "      <td>47710.47</td>\n",
       "      <td>NaN</td>\n",
       "      <td>11.87</td>\n",
       "      <td>2214.09</td>\n",
       "      <td>103.78</td>\n",
       "      <td>NaN</td>\n",
       "    </tr>\n",
       "    <tr>\n",
       "      <th>12844</th>\n",
       "      <td>(주)셀트리온</td>\n",
       "      <td>68270</td>\n",
       "      <td>2014/12</td>\n",
       "      <td>4</td>\n",
       "      <td>21</td>\n",
       "      <td>32101</td>\n",
       "      <td>의료용 물질 및 의약품 제조업</td>\n",
       "      <td>2005/07/15</td>\n",
       "      <td>2018/02/09</td>\n",
       "      <td>17.38</td>\n",
       "      <td>...</td>\n",
       "      <td>75196.20</td>\n",
       "      <td>28158.55</td>\n",
       "      <td>1898.77</td>\n",
       "      <td>2093.42</td>\n",
       "      <td>76278.81</td>\n",
       "      <td>NaN</td>\n",
       "      <td>14.33</td>\n",
       "      <td>2358.47</td>\n",
       "      <td>70.64</td>\n",
       "      <td>NaN</td>\n",
       "    </tr>\n",
       "    <tr>\n",
       "      <th>12845</th>\n",
       "      <td>(주)셀트리온</td>\n",
       "      <td>68270</td>\n",
       "      <td>2015/12</td>\n",
       "      <td>4</td>\n",
       "      <td>21</td>\n",
       "      <td>32101</td>\n",
       "      <td>의료용 물질 및 의약품 제조업</td>\n",
       "      <td>2005/07/15</td>\n",
       "      <td>2018/02/09</td>\n",
       "      <td>18.34</td>\n",
       "      <td>...</td>\n",
       "      <td>84885.07</td>\n",
       "      <td>22657.19</td>\n",
       "      <td>2211.66</td>\n",
       "      <td>2218.44</td>\n",
       "      <td>82174.08</td>\n",
       "      <td>NaN</td>\n",
       "      <td>13.00</td>\n",
       "      <td>480.46</td>\n",
       "      <td>59.21</td>\n",
       "      <td>NaN</td>\n",
       "    </tr>\n",
       "    <tr>\n",
       "      <th>12846</th>\n",
       "      <td>(주)셀트리온</td>\n",
       "      <td>68270</td>\n",
       "      <td>2016/12</td>\n",
       "      <td>4</td>\n",
       "      <td>21</td>\n",
       "      <td>32101</td>\n",
       "      <td>의료용 물질 및 의약품 제조업</td>\n",
       "      <td>2005/07/15</td>\n",
       "      <td>2018/02/09</td>\n",
       "      <td>9.96</td>\n",
       "      <td>...</td>\n",
       "      <td>99333.59</td>\n",
       "      <td>10847.19</td>\n",
       "      <td>2242.57</td>\n",
       "      <td>3546.02</td>\n",
       "      <td>88675.33</td>\n",
       "      <td>NaN</td>\n",
       "      <td>14.36</td>\n",
       "      <td>148.62</td>\n",
       "      <td>64.72</td>\n",
       "      <td>NaN</td>\n",
       "    </tr>\n",
       "  </tbody>\n",
       "</table>\n",
       "<p>17 rows × 156 columns</p>\n",
       "</div>"
      ],
      "text/plain": [
       "           회사명  거래소코드     회계년도  소속코드  통계청 한국표준산업분류 코드 10차(대분류)   산업코드  \\\n",
       "1394   (주)셀트리온  68270  2012/12     1                        21  32101   \n",
       "1395   (주)셀트리온  68270  2013/12     1                        21  32101   \n",
       "1396   (주)셀트리온  68270  2014/12     1                        21  32101   \n",
       "1397   (주)셀트리온  68270  2015/12     1                        21  32101   \n",
       "1398   (주)셀트리온  68270  2016/12     1                        21  32101   \n",
       "1399   (주)셀트리온  68270  2017/12     1                        21  32101   \n",
       "1400   (주)셀트리온  68270  2018/12     1                        21  32101   \n",
       "1401   (주)셀트리온  68270  2019/12     1                        21  32101   \n",
       "1402   (주)셀트리온  68270  2020/12     1                        21  32101   \n",
       "1403   (주)셀트리온  68270  2021/12     1                        21  32101   \n",
       "1404   (주)셀트리온  68270  2022/12     1                        21  32101   \n",
       "1405   (주)셀트리온  68270  2023/12     1                        21  32101   \n",
       "12842  (주)셀트리온  68270  2012/12     4                        21  32101   \n",
       "12843  (주)셀트리온  68270  2013/12     4                        21  32101   \n",
       "12844  (주)셀트리온  68270  2014/12     4                        21  32101   \n",
       "12845  (주)셀트리온  68270  2015/12     4                        21  32101   \n",
       "12846  (주)셀트리온  68270  2016/12     4                        21  32101   \n",
       "\n",
       "                       산업명         상장일       상장폐지일  총자본증가율(IFRS연결)  ...  \\\n",
       "1394     의료용 물질 및 의약품 제조업   2018/02/09         NaN            0.00  ...   \n",
       "1395     의료용 물질 및 의약품 제조업   2018/02/09         NaN           14.17  ...   \n",
       "1396     의료용 물질 및 의약품 제조업   2018/02/09         NaN           17.38  ...   \n",
       "1397     의료용 물질 및 의약품 제조업   2018/02/09         NaN           18.34  ...   \n",
       "1398     의료용 물질 및 의약품 제조업   2018/02/09         NaN            4.93  ...   \n",
       "1399     의료용 물질 및 의약품 제조업   2018/02/09         NaN           14.23  ...   \n",
       "1400     의료용 물질 및 의약품 제조업   2018/02/09         NaN            6.35  ...   \n",
       "1401     의료용 물질 및 의약품 제조업   2018/02/09         NaN           10.18  ...   \n",
       "1402     의료용 물질 및 의약품 제조업   2018/02/09         NaN           30.07  ...   \n",
       "1403     의료용 물질 및 의약품 제조업   2018/02/09         NaN           13.03  ...   \n",
       "1404     의료용 물질 및 의약품 제조업   2018/02/09         NaN            3.83  ...   \n",
       "1405     의료용 물질 및 의약품 제조업   2018/02/09         NaN          238.06  ...   \n",
       "12842    의료용 물질 및 의약품 제조업   2005/07/15  2018/02/09            0.00  ...   \n",
       "12843    의료용 물질 및 의약품 제조업   2005/07/15  2018/02/09           14.17  ...   \n",
       "12844    의료용 물질 및 의약품 제조업   2005/07/15  2018/02/09           17.38  ...   \n",
       "12845    의료용 물질 및 의약품 제조업   2005/07/15  2018/02/09           18.34  ...   \n",
       "12846    의료용 물질 및 의약품 제조업   2005/07/15  2018/02/09            9.96  ...   \n",
       "\n",
       "       인건비(IFRS연결)(백만원)  금융비용(IFRS연결)(백만원)  임차료(IFRS연결)(백만원)  \\\n",
       "1394           56122.23            9244.68           1026.32   \n",
       "1395           47863.33           21608.50           1044.44   \n",
       "1396           75196.20           28158.55           1898.77   \n",
       "1397           84885.07           22657.19           2211.66   \n",
       "1398          101885.24           14297.96           2242.57   \n",
       "1399          129910.64            9133.63           2502.06   \n",
       "1400          165997.87            3948.96           2838.20   \n",
       "1401          209351.25           -1228.84           1101.15   \n",
       "1402          243184.58            1537.81              0.00   \n",
       "1403          252822.59            1602.49              0.00   \n",
       "1404          276427.54           -6943.42              0.00   \n",
       "1405          304339.57           -9466.72              0.00   \n",
       "12842          56122.23            9244.68           1026.32   \n",
       "12843          47863.33           21608.50           1044.44   \n",
       "12844          75196.20           28158.55           1898.77   \n",
       "12845          84885.07           22657.19           2211.66   \n",
       "12846          99333.59           10847.19           2242.57   \n",
       "\n",
       "       세금과공과(IFRS연결)(백만원)  감가상각비(IFRS연결)(백만원)  종업원1인당 부가가치(IFRS연결)(백만원).1  \\\n",
       "1394               946.04            36679.19                         NaN   \n",
       "1395              1100.75            47710.47                         NaN   \n",
       "1396              2093.42            76278.81                         NaN   \n",
       "1397              2218.44            82174.08                         NaN   \n",
       "1398              3546.02            84773.55                         NaN   \n",
       "1399              3881.94            97950.27                         NaN   \n",
       "1400              4763.27           124826.47                         NaN   \n",
       "1401              5584.20           153719.62                         NaN   \n",
       "1402              5846.31           173849.80                         NaN   \n",
       "1403              6821.75           214159.74                         NaN   \n",
       "1404              7223.42           226390.02                         NaN   \n",
       "1405              7919.81           245827.33                         NaN   \n",
       "12842              946.04            36679.19                         NaN   \n",
       "12843             1100.75            47710.47                         NaN   \n",
       "12844             2093.42            76278.81                         NaN   \n",
       "12845             2218.44            82174.08                         NaN   \n",
       "12846             3546.02            88675.33                         NaN   \n",
       "\n",
       "       총자본투자효율(IFRS연결).1  기계투자효율(IFRS연결).1  부가가치율(IFRS연결).1  종업원수(IFRS연결)  \n",
       "1394               16.82           2440.15            83.21           NaN  \n",
       "1395               11.87           2214.09           103.78           NaN  \n",
       "1396               14.33           2358.47            70.64           NaN  \n",
       "1397               13.00            480.46            59.21           NaN  \n",
       "1398               14.02            138.42            60.27           NaN  \n",
       "1399               22.05            271.63            76.54           NaN  \n",
       "1400               17.24            247.20            61.50           NaN  \n",
       "1401               19.45            259.78            66.51           NaN  \n",
       "1402               21.54            365.66            58.49           NaN  \n",
       "1403               21.62            407.25            64.17           NaN  \n",
       "1404               19.17            425.62            49.44           NaN  \n",
       "1405                6.12            521.69            56.04           NaN  \n",
       "12842              16.82           2440.15            83.21           NaN  \n",
       "12843              11.87           2214.09           103.78           NaN  \n",
       "12844              14.33           2358.47            70.64           NaN  \n",
       "12845              13.00            480.46            59.21           NaN  \n",
       "12846              14.36            148.62            64.72           NaN  \n",
       "\n",
       "[17 rows x 156 columns]"
      ]
     },
     "execution_count": 4,
     "metadata": {},
     "output_type": "execute_result"
    }
   ],
   "source": [
    "listed[listed['거래소코드'] == 68270]"
   ]
  },
  {
   "cell_type": "code",
   "execution_count": 5,
   "metadata": {},
   "outputs": [
    {
     "data": {
      "text/plain": [
       "(27650, 156)"
      ]
     },
     "execution_count": 5,
     "metadata": {},
     "output_type": "execute_result"
    }
   ],
   "source": [
    "listed.shape"
   ]
  },
  {
   "cell_type": "code",
   "execution_count": 6,
   "metadata": {},
   "outputs": [
    {
     "data": {
      "text/plain": [
       "(2677, 156)"
      ]
     },
     "execution_count": 6,
     "metadata": {},
     "output_type": "execute_result"
    }
   ],
   "source": [
    "listed.drop_duplicates('거래소코드').shape"
   ]
  },
  {
   "cell_type": "markdown",
   "metadata": {},
   "source": [
    "# 결산월이 12월인 기업만"
   ]
  },
  {
   "cell_type": "code",
   "execution_count": 7,
   "metadata": {},
   "outputs": [],
   "source": [
    "listed['회계년도'] = pd.to_datetime(listed['회계년도'], format='%Y/%m')\n",
    "listed = listed[listed['회계년도'].dt.month == 12]"
   ]
  },
  {
   "cell_type": "code",
   "execution_count": 8,
   "metadata": {},
   "outputs": [
    {
     "data": {
      "text/plain": [
       "(27235, 156)"
      ]
     },
     "execution_count": 8,
     "metadata": {},
     "output_type": "execute_result"
    }
   ],
   "source": [
    "listed.shape"
   ]
  },
  {
   "cell_type": "code",
   "execution_count": 9,
   "metadata": {},
   "outputs": [
    {
     "data": {
      "text/plain": [
       "(2653, 156)"
      ]
     },
     "execution_count": 9,
     "metadata": {},
     "output_type": "execute_result"
    }
   ],
   "source": [
    "listed.drop_duplicates('거래소코드').shape"
   ]
  },
  {
   "cell_type": "markdown",
   "metadata": {},
   "source": [
    "# 특수 목적 회사 drop\n",
    "- 1차 통계청 한국표준산업분류(KSIC) 기준으로 제거\n",
    "    - K. 금융및보험업(64~66)\n",
    "        - 64. 금융업\n",
    "        - 65. 보험및연금업\n",
    "        - 66. 금융및보험관련서비스업\n",
    "- 2차 키워드 제거\n",
    "    - 인베스트|투자|금융|보험|캐피탈|특수목적|프로젝트|문화산업"
   ]
  },
  {
   "cell_type": "code",
   "execution_count": 10,
   "metadata": {},
   "outputs": [],
   "source": [
    "listed = listed[~listed['통계청 한국표준산업분류 코드 10차(대분류)'].isin([64, 65, 66])]\n",
    "listed = listed[~listed['회사명'].str.contains('인베스트|투자|금융|보험|캐피탈|특수목적|프로젝트|문화산업')]"
   ]
  },
  {
   "cell_type": "code",
   "execution_count": 11,
   "metadata": {},
   "outputs": [
    {
     "data": {
      "text/plain": [
       "(27069, 156)"
      ]
     },
     "execution_count": 11,
     "metadata": {},
     "output_type": "execute_result"
    }
   ],
   "source": [
    "listed.shape"
   ]
  },
  {
   "cell_type": "code",
   "execution_count": 12,
   "metadata": {},
   "outputs": [
    {
     "data": {
      "text/plain": [
       "(2638, 156)"
      ]
     },
     "execution_count": 12,
     "metadata": {},
     "output_type": "execute_result"
    }
   ],
   "source": [
    "listed.drop_duplicates('거래소코드').shape"
   ]
  },
  {
   "cell_type": "markdown",
   "metadata": {},
   "source": [
    "# 이전 상장에 따른 중복 데이터 제거"
   ]
  },
  {
   "cell_type": "code",
   "execution_count": 13,
   "metadata": {},
   "outputs": [
    {
     "data": {
      "text/plain": [
       "Index([  3670,  22100,  26960,  30190,  34230,  35510,  35720,  36420,  66970,\n",
       "        68270,  90460,  97520, 100090, 108320, 178920, 192080],\n",
       "      dtype='int64', name='거래소코드')"
      ]
     },
     "execution_count": 13,
     "metadata": {},
     "output_type": "execute_result"
    }
   ],
   "source": [
    "# Step 1: 소속코드가 4와 1을 모두 가지는 거래소코드 찾기\n",
    "# 거래소코드별로 그룹화하여 소속코드를 집합으로 만든 후, 조건을 만족하는 거래소코드를 필터링합니다.\n",
    "grouped = listed.groupby('거래소코드')['소속코드'].apply(set)\n",
    "target_codes = grouped[grouped.apply(lambda x: {1, 4}.issubset(x))].index\n",
    "target_codes"
   ]
  },
  {
   "cell_type": "code",
   "execution_count": 14,
   "metadata": {},
   "outputs": [],
   "source": [
    "# Step 2: 소속코드가 4이고 상장폐지일이 존재하는 행 제거\n",
    "listed = listed[~((listed['거래소코드'].isin(target_codes)) & (listed['소속코드'] == 4) & (~listed['상장폐지일'].isna()))]"
   ]
  },
  {
   "cell_type": "code",
   "execution_count": 15,
   "metadata": {},
   "outputs": [
    {
     "data": {
      "text/plain": [
       "(26941, 156)"
      ]
     },
     "execution_count": 15,
     "metadata": {},
     "output_type": "execute_result"
    }
   ],
   "source": [
    "listed.shape"
   ]
  },
  {
   "cell_type": "code",
   "execution_count": 16,
   "metadata": {},
   "outputs": [
    {
     "data": {
      "text/plain": [
       "(2638, 156)"
      ]
     },
     "execution_count": 16,
     "metadata": {},
     "output_type": "execute_result"
    }
   ],
   "source": [
    "listed.drop_duplicates('거래소코드').shape"
   ]
  },
  {
   "cell_type": "markdown",
   "metadata": {},
   "source": [
    "# 상장 이전 데이터 제거"
   ]
  },
  {
   "cell_type": "code",
   "execution_count": 17,
   "metadata": {},
   "outputs": [
    {
     "name": "stdout",
     "output_type": "stream",
     "text": [
      "<class 'pandas.core.frame.DataFrame'>\n",
      "Index: 26941 entries, 0 to 27649\n",
      "Data columns (total 2 columns):\n",
      " #   Column  Non-Null Count  Dtype         \n",
      "---  ------  --------------  -----         \n",
      " 0   회계년도    26941 non-null  datetime64[ns]\n",
      " 1   상장일     26941 non-null  object        \n",
      "dtypes: datetime64[ns](1), object(1)\n",
      "memory usage: 631.4+ KB\n"
     ]
    }
   ],
   "source": [
    "listed[['회계년도', '상장일']].info()"
   ]
  },
  {
   "cell_type": "code",
   "execution_count": 18,
   "metadata": {},
   "outputs": [],
   "source": [
    "listed['상장일'] = pd.to_datetime(listed['상장일'], format='%Y/%m/%d')"
   ]
  },
  {
   "cell_type": "code",
   "execution_count": 19,
   "metadata": {},
   "outputs": [
    {
     "data": {
      "text/html": [
       "<div>\n",
       "<style scoped>\n",
       "    .dataframe tbody tr th:only-of-type {\n",
       "        vertical-align: middle;\n",
       "    }\n",
       "\n",
       "    .dataframe tbody tr th {\n",
       "        vertical-align: top;\n",
       "    }\n",
       "\n",
       "    .dataframe thead th {\n",
       "        text-align: right;\n",
       "    }\n",
       "</style>\n",
       "<table border=\"1\" class=\"dataframe\">\n",
       "  <thead>\n",
       "    <tr style=\"text-align: right;\">\n",
       "      <th></th>\n",
       "      <th>회사명</th>\n",
       "      <th>거래소코드</th>\n",
       "      <th>회계년도</th>\n",
       "      <th>상장일</th>\n",
       "    </tr>\n",
       "  </thead>\n",
       "  <tbody>\n",
       "    <tr>\n",
       "      <th>140</th>\n",
       "      <td>(주)경보제약</td>\n",
       "      <td>214390</td>\n",
       "      <td>2012-12-01</td>\n",
       "      <td>2015-06-29</td>\n",
       "    </tr>\n",
       "    <tr>\n",
       "      <th>141</th>\n",
       "      <td>(주)경보제약</td>\n",
       "      <td>214390</td>\n",
       "      <td>2013-12-01</td>\n",
       "      <td>2015-06-29</td>\n",
       "    </tr>\n",
       "    <tr>\n",
       "      <th>142</th>\n",
       "      <td>(주)경보제약</td>\n",
       "      <td>214390</td>\n",
       "      <td>2014-12-01</td>\n",
       "      <td>2015-06-29</td>\n",
       "    </tr>\n",
       "    <tr>\n",
       "      <th>224</th>\n",
       "      <td>(주)금호에이치티</td>\n",
       "      <td>214330</td>\n",
       "      <td>2012-12-01</td>\n",
       "      <td>2015-11-11</td>\n",
       "    </tr>\n",
       "    <tr>\n",
       "      <th>225</th>\n",
       "      <td>(주)금호에이치티</td>\n",
       "      <td>214330</td>\n",
       "      <td>2013-12-01</td>\n",
       "      <td>2015-11-11</td>\n",
       "    </tr>\n",
       "    <tr>\n",
       "      <th>...</th>\n",
       "      <td>...</td>\n",
       "      <td>...</td>\n",
       "      <td>...</td>\n",
       "      <td>...</td>\n",
       "    </tr>\n",
       "    <tr>\n",
       "      <th>27592</th>\n",
       "      <td>휴림네트웍스(주)</td>\n",
       "      <td>192410</td>\n",
       "      <td>2012-12-01</td>\n",
       "      <td>2014-08-14</td>\n",
       "    </tr>\n",
       "    <tr>\n",
       "      <th>27593</th>\n",
       "      <td>휴림네트웍스(주)</td>\n",
       "      <td>192410</td>\n",
       "      <td>2013-12-01</td>\n",
       "      <td>2014-08-14</td>\n",
       "    </tr>\n",
       "    <tr>\n",
       "      <th>27626</th>\n",
       "      <td>휴젤(주)</td>\n",
       "      <td>145020</td>\n",
       "      <td>2012-12-01</td>\n",
       "      <td>2015-12-24</td>\n",
       "    </tr>\n",
       "    <tr>\n",
       "      <th>27627</th>\n",
       "      <td>휴젤(주)</td>\n",
       "      <td>145020</td>\n",
       "      <td>2013-12-01</td>\n",
       "      <td>2015-12-24</td>\n",
       "    </tr>\n",
       "    <tr>\n",
       "      <th>27628</th>\n",
       "      <td>휴젤(주)</td>\n",
       "      <td>145020</td>\n",
       "      <td>2014-12-01</td>\n",
       "      <td>2015-12-24</td>\n",
       "    </tr>\n",
       "  </tbody>\n",
       "</table>\n",
       "<p>3937 rows × 4 columns</p>\n",
       "</div>"
      ],
      "text/plain": [
       "             회사명   거래소코드       회계년도        상장일\n",
       "140      (주)경보제약  214390 2012-12-01 2015-06-29\n",
       "141      (주)경보제약  214390 2013-12-01 2015-06-29\n",
       "142      (주)경보제약  214390 2014-12-01 2015-06-29\n",
       "224    (주)금호에이치티  214330 2012-12-01 2015-11-11\n",
       "225    (주)금호에이치티  214330 2013-12-01 2015-11-11\n",
       "...          ...     ...        ...        ...\n",
       "27592  휴림네트웍스(주)  192410 2012-12-01 2014-08-14\n",
       "27593  휴림네트웍스(주)  192410 2013-12-01 2014-08-14\n",
       "27626      휴젤(주)  145020 2012-12-01 2015-12-24\n",
       "27627      휴젤(주)  145020 2013-12-01 2015-12-24\n",
       "27628      휴젤(주)  145020 2014-12-01 2015-12-24\n",
       "\n",
       "[3937 rows x 4 columns]"
      ]
     },
     "execution_count": 19,
     "metadata": {},
     "output_type": "execute_result"
    }
   ],
   "source": [
    "# 회계년도가 상장년도 이전(미만)인 데이터 제거\n",
    "listed[listed['회계년도'].dt.year < listed['상장일'].dt.year][['회사명', '거래소코드', '회계년도', '상장일']]"
   ]
  },
  {
   "cell_type": "code",
   "execution_count": 20,
   "metadata": {},
   "outputs": [],
   "source": [
    "# 회계년도가 상장년도 이전(미만)인 데이터 제거\n",
    "listed = listed[listed['회계년도'].dt.year >= listed['상장일'].dt.year]"
   ]
  },
  {
   "cell_type": "code",
   "execution_count": 21,
   "metadata": {},
   "outputs": [
    {
     "data": {
      "text/plain": [
       "(23004, 156)"
      ]
     },
     "execution_count": 21,
     "metadata": {},
     "output_type": "execute_result"
    }
   ],
   "source": [
    "listed.shape"
   ]
  },
  {
   "cell_type": "code",
   "execution_count": 22,
   "metadata": {},
   "outputs": [
    {
     "data": {
      "text/plain": [
       "(2579, 156)"
      ]
     },
     "execution_count": 22,
     "metadata": {},
     "output_type": "execute_result"
    }
   ],
   "source": [
    "listed.drop_duplicates('거래소코드').shape"
   ]
  },
  {
   "cell_type": "markdown",
   "metadata": {},
   "source": [
    "# merge"
   ]
  },
  {
   "cell_type": "markdown",
   "metadata": {},
   "source": [
    "### 회계 감리 지적 기업 csv 불러오기"
   ]
  },
  {
   "cell_type": "code",
   "execution_count": 23,
   "metadata": {},
   "outputs": [],
   "source": [
    "fraud = pd.read_csv('../data/raw_data/회계 감리 지적 기업.csv')"
   ]
  },
  {
   "cell_type": "code",
   "execution_count": 24,
   "metadata": {},
   "outputs": [
    {
     "name": "stdout",
     "output_type": "stream",
     "text": [
      "fraud 로우 수:  (498, 5)\n",
      "fraud 기업 수:  (138, 5)\n"
     ]
    }
   ],
   "source": [
    "print('fraud 로우 수: ', fraud.shape)\n",
    "print('fraud 기업 수: ', fraud.drop_duplicates('거래소코드').shape)"
   ]
  },
  {
   "cell_type": "code",
   "execution_count": 25,
   "metadata": {},
   "outputs": [],
   "source": [
    "# 중복 행 제거 후 인덱스 리셋\n",
    "fraud = fraud.drop_duplicates().reset_index(drop=True)"
   ]
  },
  {
   "cell_type": "code",
   "execution_count": 26,
   "metadata": {},
   "outputs": [
    {
     "name": "stdout",
     "output_type": "stream",
     "text": [
      "fraud 로우 수:  (445, 5)\n",
      "fraud 기업 수:  (138, 5)\n"
     ]
    }
   ],
   "source": [
    "print('fraud 로우 수: ', fraud.shape)\n",
    "print('fraud 기업 수: ', fraud.drop_duplicates('거래소코드').shape)"
   ]
  },
  {
   "cell_type": "markdown",
   "metadata": {},
   "source": [
    "### 기준이 되는 데이터 타입 맞추기"
   ]
  },
  {
   "cell_type": "code",
   "execution_count": 27,
   "metadata": {},
   "outputs": [
    {
     "name": "stdout",
     "output_type": "stream",
     "text": [
      "<class 'pandas.core.frame.DataFrame'>\n",
      "Index: 23004 entries, 0 to 27649\n",
      "Data columns (total 2 columns):\n",
      " #   Column  Non-Null Count  Dtype         \n",
      "---  ------  --------------  -----         \n",
      " 0   거래소코드   23004 non-null  int64         \n",
      " 1   회계년도    23004 non-null  datetime64[ns]\n",
      "dtypes: datetime64[ns](1), int64(1)\n",
      "memory usage: 539.2 KB\n"
     ]
    }
   ],
   "source": [
    "listed[['거래소코드', '회계년도']].info()"
   ]
  },
  {
   "cell_type": "code",
   "execution_count": 28,
   "metadata": {},
   "outputs": [
    {
     "name": "stdout",
     "output_type": "stream",
     "text": [
      "<class 'pandas.core.frame.DataFrame'>\n",
      "RangeIndex: 445 entries, 0 to 444\n",
      "Data columns (total 2 columns):\n",
      " #   Column  Non-Null Count  Dtype\n",
      "---  ------  --------------  -----\n",
      " 0   거래소코드   445 non-null    int64\n",
      " 1   회계년도    445 non-null    int64\n",
      "dtypes: int64(2)\n",
      "memory usage: 7.1 KB\n"
     ]
    }
   ],
   "source": [
    "fraud[['거래소코드', '회계년도']].info()"
   ]
  },
  {
   "cell_type": "code",
   "execution_count": 29,
   "metadata": {},
   "outputs": [],
   "source": [
    "listed['회계년도'] = listed['회계년도'].dt.year"
   ]
  },
  {
   "cell_type": "markdown",
   "metadata": {},
   "source": [
    "### pd.merge(listed, fraud, on=['거래소코드', '회계년도'])"
   ]
  },
  {
   "cell_type": "code",
   "execution_count": 30,
   "metadata": {},
   "outputs": [],
   "source": [
    "listed = pd.merge(listed, fraud, on=['거래소코드', '회계년도'])"
   ]
  },
  {
   "cell_type": "code",
   "execution_count": 31,
   "metadata": {},
   "outputs": [
    {
     "data": {
      "text/plain": [
       "(400, 159)"
      ]
     },
     "execution_count": 31,
     "metadata": {},
     "output_type": "execute_result"
    }
   ],
   "source": [
    "listed.shape"
   ]
  },
  {
   "cell_type": "code",
   "execution_count": 32,
   "metadata": {},
   "outputs": [
    {
     "data": {
      "text/plain": [
       "(130, 159)"
      ]
     },
     "execution_count": 32,
     "metadata": {},
     "output_type": "execute_result"
    }
   ],
   "source": [
    "listed.drop_duplicates('거래소코드').shape"
   ]
  },
  {
   "cell_type": "code",
   "execution_count": 33,
   "metadata": {},
   "outputs": [
    {
     "name": "stdout",
     "output_type": "stream",
     "text": [
      "(125, 159)\n",
      "(275, 159)\n"
     ]
    }
   ],
   "source": [
    "print(listed[listed['기업유형'] == '코스피'].shape)\n",
    "print(listed[listed['기업유형'] == '코스닥'].shape)"
   ]
  },
  {
   "cell_type": "code",
   "execution_count": 34,
   "metadata": {},
   "outputs": [
    {
     "name": "stdout",
     "output_type": "stream",
     "text": [
      "(38, 159)\n",
      "(92, 159)\n"
     ]
    }
   ],
   "source": [
    "print(listed[listed['기업유형'] == '코스피'].drop_duplicates('거래소코드').shape)\n",
    "print(listed[listed['기업유형'] == '코스닥'].drop_duplicates('거래소코드').shape)"
   ]
  },
  {
   "cell_type": "markdown",
   "metadata": {},
   "source": [
    "# 정리"
   ]
  },
  {
   "cell_type": "code",
   "execution_count": 35,
   "metadata": {},
   "outputs": [
    {
     "data": {
      "text/plain": [
       "Index(['회사명_x', '거래소코드', '회계년도', '소속코드', '통계청 한국표준산업분류 코드 10차(대분류)', '산업코드',\n",
       "       '산업명', '상장일', '상장폐지일', '총자본증가율(IFRS연결)',\n",
       "       ...\n",
       "       '세금과공과(IFRS연결)(백만원)', '감가상각비(IFRS연결)(백만원)',\n",
       "       '종업원1인당 부가가치(IFRS연결)(백만원).1', '총자본투자효율(IFRS연결).1', '기계투자효율(IFRS연결).1',\n",
       "       '부가가치율(IFRS연결).1', '종업원수(IFRS연결)', '회사명_y', '기업유형',\n",
       "       '이익 과대계상 (비용 과소계상)'],\n",
       "      dtype='object', length=159)"
      ]
     },
     "execution_count": 35,
     "metadata": {},
     "output_type": "execute_result"
    }
   ],
   "source": [
    "listed.columns"
   ]
  },
  {
   "cell_type": "code",
   "execution_count": 36,
   "metadata": {},
   "outputs": [
    {
     "data": {
      "text/plain": [
       "Index(['회사명_x', '거래소코드', '회계년도', '소속코드', '통계청 한국표준산업분류 코드 10차(대분류)', '산업코드',\n",
       "       '산업명', '상장일', '상장폐지일', '총자본증가율(IFRS연결)',\n",
       "       ...\n",
       "       '임차료(IFRS연결)(백만원)', '세금과공과(IFRS연결)(백만원)', '감가상각비(IFRS연결)(백만원)',\n",
       "       '종업원1인당 부가가치(IFRS연결)(백만원).1', '총자본투자효율(IFRS연결).1', '기계투자효율(IFRS연결).1',\n",
       "       '부가가치율(IFRS연결).1', '종업원수(IFRS연결)', '기업유형', '이익 과대계상 (비용 과소계상)'],\n",
       "      dtype='object', length=158)"
      ]
     },
     "execution_count": 36,
     "metadata": {},
     "output_type": "execute_result"
    }
   ],
   "source": [
    "listed = listed.drop(columns = '회사명_y')\n",
    "listed.columns"
   ]
  },
  {
   "cell_type": "code",
   "execution_count": 37,
   "metadata": {},
   "outputs": [
    {
     "data": {
      "text/plain": [
       "Index(['회사명', '거래소코드', '회계년도', '소속코드', '통계청 한국표준산업분류 코드 10차(대분류)', '산업코드',\n",
       "       '산업명', '상장일', '상장폐지일', '총자본증가율(IFRS연결)',\n",
       "       ...\n",
       "       '임차료(IFRS연결)(백만원)', '세금과공과(IFRS연결)(백만원)', '감가상각비(IFRS연결)(백만원)',\n",
       "       '종업원1인당 부가가치(IFRS연결)(백만원).1', '총자본투자효율(IFRS연결).1', '기계투자효율(IFRS연결).1',\n",
       "       '부가가치율(IFRS연결).1', '종업원수(IFRS연결)', '기업유형', 'label'],\n",
       "      dtype='object', length=158)"
      ]
     },
     "execution_count": 37,
     "metadata": {},
     "output_type": "execute_result"
    }
   ],
   "source": [
    "listed = listed.rename(columns={'회사명_x': '회사명', '이익 과대계상 (비용 과소계상)': 'label'})\n",
    "listed.columns"
   ]
  },
  {
   "cell_type": "code",
   "execution_count": 38,
   "metadata": {},
   "outputs": [],
   "source": [
    "listed_describe = listed.iloc[:, 8:-1].describe()"
   ]
  },
  {
   "cell_type": "markdown",
   "metadata": {},
   "source": [
    "# csv로 저장"
   ]
  },
  {
   "cell_type": "code",
   "execution_count": 39,
   "metadata": {},
   "outputs": [],
   "source": [
    "# listed.to_csv('../data/processed_data/재무비율.csv', index=False, encoding='UTF-8-sig')"
   ]
  },
  {
   "cell_type": "code",
   "execution_count": 41,
   "metadata": {},
   "outputs": [],
   "source": [
    "# listed_describe.to_csv('../data/processed_data/재무비율_기초통계량.csv', index=False, encoding='UTF-8-sig')"
   ]
  }
 ],
 "metadata": {
  "kernelspec": {
   "display_name": "base",
   "language": "python",
   "name": "python3"
  },
  "language_info": {
   "codemirror_mode": {
    "name": "ipython",
    "version": 3
   },
   "file_extension": ".py",
   "mimetype": "text/x-python",
   "name": "python",
   "nbconvert_exporter": "python",
   "pygments_lexer": "ipython3",
   "version": "3.10.9"
  }
 },
 "nbformat": 4,
 "nbformat_minor": 2
}
