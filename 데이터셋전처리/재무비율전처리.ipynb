{
 "cells": [
  {
   "cell_type": "code",
   "execution_count": 1,
   "metadata": {},
   "outputs": [],
   "source": [
    "import pandas as pd"
   ]
  },
  {
   "cell_type": "code",
   "execution_count": 2,
   "metadata": {},
   "outputs": [],
   "source": [
    "kospi_ratio = pd.read_excel('../data/raw_data/코스피_재무비율.xlsx')\n",
    "kosdaq_ratio = pd.read_excel('../data/raw_data/코스닥_재무비율.xlsx')"
   ]
  },
  {
   "cell_type": "code",
   "execution_count": 3,
   "metadata": {},
   "outputs": [],
   "source": [
    "listed = pd.concat([kospi_ratio, kosdaq_ratio], ignore_index=True)"
   ]
  },
  {
   "cell_type": "code",
   "execution_count": 4,
   "metadata": {},
   "outputs": [
    {
     "data": {
      "text/html": [
       "<div>\n",
       "<style scoped>\n",
       "    .dataframe tbody tr th:only-of-type {\n",
       "        vertical-align: middle;\n",
       "    }\n",
       "\n",
       "    .dataframe tbody tr th {\n",
       "        vertical-align: top;\n",
       "    }\n",
       "\n",
       "    .dataframe thead th {\n",
       "        text-align: right;\n",
       "    }\n",
       "</style>\n",
       "<table border=\"1\" class=\"dataframe\">\n",
       "  <thead>\n",
       "    <tr style=\"text-align: right;\">\n",
       "      <th></th>\n",
       "      <th>회사명</th>\n",
       "      <th>거래소코드</th>\n",
       "      <th>회계년도</th>\n",
       "      <th>소속코드</th>\n",
       "      <th>통계청 한국표준산업분류 코드 10차(대분류)</th>\n",
       "      <th>산업코드</th>\n",
       "      <th>산업명</th>\n",
       "      <th>상장일</th>\n",
       "      <th>상장폐지일</th>\n",
       "      <th>총자본증가율(IFRS연결)</th>\n",
       "      <th>...</th>\n",
       "      <th>인건비(IFRS연결)(백만원)</th>\n",
       "      <th>금융비용(IFRS연결)(백만원)</th>\n",
       "      <th>임차료(IFRS연결)(백만원)</th>\n",
       "      <th>세금과공과(IFRS연결)(백만원)</th>\n",
       "      <th>감가상각비(IFRS연결)(백만원)</th>\n",
       "      <th>종업원1인당 부가가치(IFRS연결)(백만원).1</th>\n",
       "      <th>총자본투자효율(IFRS연결).1</th>\n",
       "      <th>기계투자효율(IFRS연결).1</th>\n",
       "      <th>부가가치율(IFRS연결).1</th>\n",
       "      <th>종업원수(IFRS연결)</th>\n",
       "    </tr>\n",
       "  </thead>\n",
       "  <tbody>\n",
       "    <tr>\n",
       "      <th>1444</th>\n",
       "      <td>(주)셀트리온</td>\n",
       "      <td>68270</td>\n",
       "      <td>2012/12</td>\n",
       "      <td>1</td>\n",
       "      <td>21</td>\n",
       "      <td>32101</td>\n",
       "      <td>의료용 물질 및 의약품 제조업</td>\n",
       "      <td>2018/02/09</td>\n",
       "      <td>NaN</td>\n",
       "      <td>0.00</td>\n",
       "      <td>...</td>\n",
       "      <td>56122.23</td>\n",
       "      <td>9244.68</td>\n",
       "      <td>1026.32</td>\n",
       "      <td>946.04</td>\n",
       "      <td>36679.19</td>\n",
       "      <td>NaN</td>\n",
       "      <td>16.82</td>\n",
       "      <td>2440.15</td>\n",
       "      <td>83.21</td>\n",
       "      <td>NaN</td>\n",
       "    </tr>\n",
       "    <tr>\n",
       "      <th>1445</th>\n",
       "      <td>(주)셀트리온</td>\n",
       "      <td>68270</td>\n",
       "      <td>2013/12</td>\n",
       "      <td>1</td>\n",
       "      <td>21</td>\n",
       "      <td>32101</td>\n",
       "      <td>의료용 물질 및 의약품 제조업</td>\n",
       "      <td>2018/02/09</td>\n",
       "      <td>NaN</td>\n",
       "      <td>14.17</td>\n",
       "      <td>...</td>\n",
       "      <td>47863.33</td>\n",
       "      <td>21608.50</td>\n",
       "      <td>1044.44</td>\n",
       "      <td>1100.75</td>\n",
       "      <td>47710.47</td>\n",
       "      <td>NaN</td>\n",
       "      <td>11.87</td>\n",
       "      <td>2214.09</td>\n",
       "      <td>103.78</td>\n",
       "      <td>NaN</td>\n",
       "    </tr>\n",
       "    <tr>\n",
       "      <th>1446</th>\n",
       "      <td>(주)셀트리온</td>\n",
       "      <td>68270</td>\n",
       "      <td>2014/12</td>\n",
       "      <td>1</td>\n",
       "      <td>21</td>\n",
       "      <td>32101</td>\n",
       "      <td>의료용 물질 및 의약품 제조업</td>\n",
       "      <td>2018/02/09</td>\n",
       "      <td>NaN</td>\n",
       "      <td>17.38</td>\n",
       "      <td>...</td>\n",
       "      <td>75196.20</td>\n",
       "      <td>28158.55</td>\n",
       "      <td>1898.77</td>\n",
       "      <td>2093.42</td>\n",
       "      <td>76278.81</td>\n",
       "      <td>NaN</td>\n",
       "      <td>14.33</td>\n",
       "      <td>2358.47</td>\n",
       "      <td>70.64</td>\n",
       "      <td>NaN</td>\n",
       "    </tr>\n",
       "    <tr>\n",
       "      <th>1447</th>\n",
       "      <td>(주)셀트리온</td>\n",
       "      <td>68270</td>\n",
       "      <td>2015/12</td>\n",
       "      <td>1</td>\n",
       "      <td>21</td>\n",
       "      <td>32101</td>\n",
       "      <td>의료용 물질 및 의약품 제조업</td>\n",
       "      <td>2018/02/09</td>\n",
       "      <td>NaN</td>\n",
       "      <td>18.34</td>\n",
       "      <td>...</td>\n",
       "      <td>84885.07</td>\n",
       "      <td>22657.19</td>\n",
       "      <td>2211.66</td>\n",
       "      <td>2218.44</td>\n",
       "      <td>82174.08</td>\n",
       "      <td>NaN</td>\n",
       "      <td>13.00</td>\n",
       "      <td>480.46</td>\n",
       "      <td>59.21</td>\n",
       "      <td>NaN</td>\n",
       "    </tr>\n",
       "    <tr>\n",
       "      <th>1448</th>\n",
       "      <td>(주)셀트리온</td>\n",
       "      <td>68270</td>\n",
       "      <td>2016/12</td>\n",
       "      <td>1</td>\n",
       "      <td>21</td>\n",
       "      <td>32101</td>\n",
       "      <td>의료용 물질 및 의약품 제조업</td>\n",
       "      <td>2018/02/09</td>\n",
       "      <td>NaN</td>\n",
       "      <td>4.93</td>\n",
       "      <td>...</td>\n",
       "      <td>101885.24</td>\n",
       "      <td>14297.96</td>\n",
       "      <td>2242.57</td>\n",
       "      <td>3546.02</td>\n",
       "      <td>84773.55</td>\n",
       "      <td>NaN</td>\n",
       "      <td>14.02</td>\n",
       "      <td>138.42</td>\n",
       "      <td>60.27</td>\n",
       "      <td>NaN</td>\n",
       "    </tr>\n",
       "    <tr>\n",
       "      <th>1449</th>\n",
       "      <td>(주)셀트리온</td>\n",
       "      <td>68270</td>\n",
       "      <td>2017/12</td>\n",
       "      <td>1</td>\n",
       "      <td>21</td>\n",
       "      <td>32101</td>\n",
       "      <td>의료용 물질 및 의약품 제조업</td>\n",
       "      <td>2018/02/09</td>\n",
       "      <td>NaN</td>\n",
       "      <td>14.23</td>\n",
       "      <td>...</td>\n",
       "      <td>129910.64</td>\n",
       "      <td>9133.63</td>\n",
       "      <td>2502.06</td>\n",
       "      <td>3881.94</td>\n",
       "      <td>97950.27</td>\n",
       "      <td>NaN</td>\n",
       "      <td>22.05</td>\n",
       "      <td>271.63</td>\n",
       "      <td>76.54</td>\n",
       "      <td>NaN</td>\n",
       "    </tr>\n",
       "    <tr>\n",
       "      <th>1450</th>\n",
       "      <td>(주)셀트리온</td>\n",
       "      <td>68270</td>\n",
       "      <td>2018/12</td>\n",
       "      <td>1</td>\n",
       "      <td>21</td>\n",
       "      <td>32101</td>\n",
       "      <td>의료용 물질 및 의약품 제조업</td>\n",
       "      <td>2018/02/09</td>\n",
       "      <td>NaN</td>\n",
       "      <td>6.35</td>\n",
       "      <td>...</td>\n",
       "      <td>165997.87</td>\n",
       "      <td>3948.96</td>\n",
       "      <td>2838.20</td>\n",
       "      <td>4763.27</td>\n",
       "      <td>124826.47</td>\n",
       "      <td>NaN</td>\n",
       "      <td>17.24</td>\n",
       "      <td>247.20</td>\n",
       "      <td>61.50</td>\n",
       "      <td>NaN</td>\n",
       "    </tr>\n",
       "    <tr>\n",
       "      <th>1451</th>\n",
       "      <td>(주)셀트리온</td>\n",
       "      <td>68270</td>\n",
       "      <td>2019/12</td>\n",
       "      <td>1</td>\n",
       "      <td>21</td>\n",
       "      <td>32101</td>\n",
       "      <td>의료용 물질 및 의약품 제조업</td>\n",
       "      <td>2018/02/09</td>\n",
       "      <td>NaN</td>\n",
       "      <td>10.18</td>\n",
       "      <td>...</td>\n",
       "      <td>209351.25</td>\n",
       "      <td>-1228.84</td>\n",
       "      <td>1101.15</td>\n",
       "      <td>5584.20</td>\n",
       "      <td>153719.62</td>\n",
       "      <td>NaN</td>\n",
       "      <td>19.45</td>\n",
       "      <td>259.78</td>\n",
       "      <td>66.51</td>\n",
       "      <td>NaN</td>\n",
       "    </tr>\n",
       "    <tr>\n",
       "      <th>1452</th>\n",
       "      <td>(주)셀트리온</td>\n",
       "      <td>68270</td>\n",
       "      <td>2020/12</td>\n",
       "      <td>1</td>\n",
       "      <td>21</td>\n",
       "      <td>32101</td>\n",
       "      <td>의료용 물질 및 의약품 제조업</td>\n",
       "      <td>2018/02/09</td>\n",
       "      <td>NaN</td>\n",
       "      <td>30.07</td>\n",
       "      <td>...</td>\n",
       "      <td>243184.58</td>\n",
       "      <td>1537.81</td>\n",
       "      <td>0.00</td>\n",
       "      <td>5846.31</td>\n",
       "      <td>173849.80</td>\n",
       "      <td>NaN</td>\n",
       "      <td>21.54</td>\n",
       "      <td>365.66</td>\n",
       "      <td>58.49</td>\n",
       "      <td>NaN</td>\n",
       "    </tr>\n",
       "    <tr>\n",
       "      <th>1453</th>\n",
       "      <td>(주)셀트리온</td>\n",
       "      <td>68270</td>\n",
       "      <td>2021/12</td>\n",
       "      <td>1</td>\n",
       "      <td>21</td>\n",
       "      <td>32101</td>\n",
       "      <td>의료용 물질 및 의약품 제조업</td>\n",
       "      <td>2018/02/09</td>\n",
       "      <td>NaN</td>\n",
       "      <td>13.03</td>\n",
       "      <td>...</td>\n",
       "      <td>252822.59</td>\n",
       "      <td>1602.49</td>\n",
       "      <td>0.00</td>\n",
       "      <td>6821.75</td>\n",
       "      <td>214159.74</td>\n",
       "      <td>NaN</td>\n",
       "      <td>21.62</td>\n",
       "      <td>407.25</td>\n",
       "      <td>64.17</td>\n",
       "      <td>NaN</td>\n",
       "    </tr>\n",
       "    <tr>\n",
       "      <th>1454</th>\n",
       "      <td>(주)셀트리온</td>\n",
       "      <td>68270</td>\n",
       "      <td>2022/12</td>\n",
       "      <td>1</td>\n",
       "      <td>21</td>\n",
       "      <td>32101</td>\n",
       "      <td>의료용 물질 및 의약품 제조업</td>\n",
       "      <td>2018/02/09</td>\n",
       "      <td>NaN</td>\n",
       "      <td>3.83</td>\n",
       "      <td>...</td>\n",
       "      <td>276427.54</td>\n",
       "      <td>-6943.42</td>\n",
       "      <td>0.00</td>\n",
       "      <td>7223.42</td>\n",
       "      <td>226390.02</td>\n",
       "      <td>NaN</td>\n",
       "      <td>19.17</td>\n",
       "      <td>425.62</td>\n",
       "      <td>49.44</td>\n",
       "      <td>NaN</td>\n",
       "    </tr>\n",
       "    <tr>\n",
       "      <th>1455</th>\n",
       "      <td>(주)셀트리온</td>\n",
       "      <td>68270</td>\n",
       "      <td>2023/12</td>\n",
       "      <td>1</td>\n",
       "      <td>21</td>\n",
       "      <td>32101</td>\n",
       "      <td>의료용 물질 및 의약품 제조업</td>\n",
       "      <td>2018/02/09</td>\n",
       "      <td>NaN</td>\n",
       "      <td>238.06</td>\n",
       "      <td>...</td>\n",
       "      <td>304339.57</td>\n",
       "      <td>-9466.72</td>\n",
       "      <td>0.00</td>\n",
       "      <td>7919.81</td>\n",
       "      <td>245827.33</td>\n",
       "      <td>NaN</td>\n",
       "      <td>6.12</td>\n",
       "      <td>521.69</td>\n",
       "      <td>56.04</td>\n",
       "      <td>NaN</td>\n",
       "    </tr>\n",
       "    <tr>\n",
       "      <th>13163</th>\n",
       "      <td>(주)셀트리온</td>\n",
       "      <td>68270</td>\n",
       "      <td>2012/12</td>\n",
       "      <td>4</td>\n",
       "      <td>21</td>\n",
       "      <td>32101</td>\n",
       "      <td>의료용 물질 및 의약품 제조업</td>\n",
       "      <td>2005/07/15</td>\n",
       "      <td>2018/02/09</td>\n",
       "      <td>0.00</td>\n",
       "      <td>...</td>\n",
       "      <td>56122.23</td>\n",
       "      <td>9244.68</td>\n",
       "      <td>1026.32</td>\n",
       "      <td>946.04</td>\n",
       "      <td>36679.19</td>\n",
       "      <td>NaN</td>\n",
       "      <td>16.82</td>\n",
       "      <td>2440.15</td>\n",
       "      <td>83.21</td>\n",
       "      <td>NaN</td>\n",
       "    </tr>\n",
       "    <tr>\n",
       "      <th>13164</th>\n",
       "      <td>(주)셀트리온</td>\n",
       "      <td>68270</td>\n",
       "      <td>2013/12</td>\n",
       "      <td>4</td>\n",
       "      <td>21</td>\n",
       "      <td>32101</td>\n",
       "      <td>의료용 물질 및 의약품 제조업</td>\n",
       "      <td>2005/07/15</td>\n",
       "      <td>2018/02/09</td>\n",
       "      <td>14.17</td>\n",
       "      <td>...</td>\n",
       "      <td>47863.33</td>\n",
       "      <td>21608.50</td>\n",
       "      <td>1044.44</td>\n",
       "      <td>1100.75</td>\n",
       "      <td>47710.47</td>\n",
       "      <td>NaN</td>\n",
       "      <td>11.87</td>\n",
       "      <td>2214.09</td>\n",
       "      <td>103.78</td>\n",
       "      <td>NaN</td>\n",
       "    </tr>\n",
       "    <tr>\n",
       "      <th>13165</th>\n",
       "      <td>(주)셀트리온</td>\n",
       "      <td>68270</td>\n",
       "      <td>2014/12</td>\n",
       "      <td>4</td>\n",
       "      <td>21</td>\n",
       "      <td>32101</td>\n",
       "      <td>의료용 물질 및 의약품 제조업</td>\n",
       "      <td>2005/07/15</td>\n",
       "      <td>2018/02/09</td>\n",
       "      <td>17.38</td>\n",
       "      <td>...</td>\n",
       "      <td>75196.20</td>\n",
       "      <td>28158.55</td>\n",
       "      <td>1898.77</td>\n",
       "      <td>2093.42</td>\n",
       "      <td>76278.81</td>\n",
       "      <td>NaN</td>\n",
       "      <td>14.33</td>\n",
       "      <td>2358.47</td>\n",
       "      <td>70.64</td>\n",
       "      <td>NaN</td>\n",
       "    </tr>\n",
       "    <tr>\n",
       "      <th>13166</th>\n",
       "      <td>(주)셀트리온</td>\n",
       "      <td>68270</td>\n",
       "      <td>2015/12</td>\n",
       "      <td>4</td>\n",
       "      <td>21</td>\n",
       "      <td>32101</td>\n",
       "      <td>의료용 물질 및 의약품 제조업</td>\n",
       "      <td>2005/07/15</td>\n",
       "      <td>2018/02/09</td>\n",
       "      <td>18.34</td>\n",
       "      <td>...</td>\n",
       "      <td>84885.07</td>\n",
       "      <td>22657.19</td>\n",
       "      <td>2211.66</td>\n",
       "      <td>2218.44</td>\n",
       "      <td>82174.08</td>\n",
       "      <td>NaN</td>\n",
       "      <td>13.00</td>\n",
       "      <td>480.46</td>\n",
       "      <td>59.21</td>\n",
       "      <td>NaN</td>\n",
       "    </tr>\n",
       "    <tr>\n",
       "      <th>13167</th>\n",
       "      <td>(주)셀트리온</td>\n",
       "      <td>68270</td>\n",
       "      <td>2016/12</td>\n",
       "      <td>4</td>\n",
       "      <td>21</td>\n",
       "      <td>32101</td>\n",
       "      <td>의료용 물질 및 의약품 제조업</td>\n",
       "      <td>2005/07/15</td>\n",
       "      <td>2018/02/09</td>\n",
       "      <td>9.96</td>\n",
       "      <td>...</td>\n",
       "      <td>99333.59</td>\n",
       "      <td>10847.19</td>\n",
       "      <td>2242.57</td>\n",
       "      <td>3546.02</td>\n",
       "      <td>88675.33</td>\n",
       "      <td>NaN</td>\n",
       "      <td>14.36</td>\n",
       "      <td>148.62</td>\n",
       "      <td>64.72</td>\n",
       "      <td>NaN</td>\n",
       "    </tr>\n",
       "  </tbody>\n",
       "</table>\n",
       "<p>17 rows × 156 columns</p>\n",
       "</div>"
      ],
      "text/plain": [
       "           회사명  거래소코드     회계년도  소속코드  통계청 한국표준산업분류 코드 10차(대분류)   산업코드  \\\n",
       "1444   (주)셀트리온  68270  2012/12     1                        21  32101   \n",
       "1445   (주)셀트리온  68270  2013/12     1                        21  32101   \n",
       "1446   (주)셀트리온  68270  2014/12     1                        21  32101   \n",
       "1447   (주)셀트리온  68270  2015/12     1                        21  32101   \n",
       "1448   (주)셀트리온  68270  2016/12     1                        21  32101   \n",
       "1449   (주)셀트리온  68270  2017/12     1                        21  32101   \n",
       "1450   (주)셀트리온  68270  2018/12     1                        21  32101   \n",
       "1451   (주)셀트리온  68270  2019/12     1                        21  32101   \n",
       "1452   (주)셀트리온  68270  2020/12     1                        21  32101   \n",
       "1453   (주)셀트리온  68270  2021/12     1                        21  32101   \n",
       "1454   (주)셀트리온  68270  2022/12     1                        21  32101   \n",
       "1455   (주)셀트리온  68270  2023/12     1                        21  32101   \n",
       "13163  (주)셀트리온  68270  2012/12     4                        21  32101   \n",
       "13164  (주)셀트리온  68270  2013/12     4                        21  32101   \n",
       "13165  (주)셀트리온  68270  2014/12     4                        21  32101   \n",
       "13166  (주)셀트리온  68270  2015/12     4                        21  32101   \n",
       "13167  (주)셀트리온  68270  2016/12     4                        21  32101   \n",
       "\n",
       "                       산업명         상장일       상장폐지일  총자본증가율(IFRS연결)  ...  \\\n",
       "1444     의료용 물질 및 의약품 제조업   2018/02/09         NaN            0.00  ...   \n",
       "1445     의료용 물질 및 의약품 제조업   2018/02/09         NaN           14.17  ...   \n",
       "1446     의료용 물질 및 의약품 제조업   2018/02/09         NaN           17.38  ...   \n",
       "1447     의료용 물질 및 의약품 제조업   2018/02/09         NaN           18.34  ...   \n",
       "1448     의료용 물질 및 의약품 제조업   2018/02/09         NaN            4.93  ...   \n",
       "1449     의료용 물질 및 의약품 제조업   2018/02/09         NaN           14.23  ...   \n",
       "1450     의료용 물질 및 의약품 제조업   2018/02/09         NaN            6.35  ...   \n",
       "1451     의료용 물질 및 의약품 제조업   2018/02/09         NaN           10.18  ...   \n",
       "1452     의료용 물질 및 의약품 제조업   2018/02/09         NaN           30.07  ...   \n",
       "1453     의료용 물질 및 의약품 제조업   2018/02/09         NaN           13.03  ...   \n",
       "1454     의료용 물질 및 의약품 제조업   2018/02/09         NaN            3.83  ...   \n",
       "1455     의료용 물질 및 의약품 제조업   2018/02/09         NaN          238.06  ...   \n",
       "13163    의료용 물질 및 의약품 제조업   2005/07/15  2018/02/09            0.00  ...   \n",
       "13164    의료용 물질 및 의약품 제조업   2005/07/15  2018/02/09           14.17  ...   \n",
       "13165    의료용 물질 및 의약품 제조업   2005/07/15  2018/02/09           17.38  ...   \n",
       "13166    의료용 물질 및 의약품 제조업   2005/07/15  2018/02/09           18.34  ...   \n",
       "13167    의료용 물질 및 의약품 제조업   2005/07/15  2018/02/09            9.96  ...   \n",
       "\n",
       "       인건비(IFRS연결)(백만원)  금융비용(IFRS연결)(백만원)  임차료(IFRS연결)(백만원)  \\\n",
       "1444           56122.23            9244.68           1026.32   \n",
       "1445           47863.33           21608.50           1044.44   \n",
       "1446           75196.20           28158.55           1898.77   \n",
       "1447           84885.07           22657.19           2211.66   \n",
       "1448          101885.24           14297.96           2242.57   \n",
       "1449          129910.64            9133.63           2502.06   \n",
       "1450          165997.87            3948.96           2838.20   \n",
       "1451          209351.25           -1228.84           1101.15   \n",
       "1452          243184.58            1537.81              0.00   \n",
       "1453          252822.59            1602.49              0.00   \n",
       "1454          276427.54           -6943.42              0.00   \n",
       "1455          304339.57           -9466.72              0.00   \n",
       "13163          56122.23            9244.68           1026.32   \n",
       "13164          47863.33           21608.50           1044.44   \n",
       "13165          75196.20           28158.55           1898.77   \n",
       "13166          84885.07           22657.19           2211.66   \n",
       "13167          99333.59           10847.19           2242.57   \n",
       "\n",
       "       세금과공과(IFRS연결)(백만원)  감가상각비(IFRS연결)(백만원)  종업원1인당 부가가치(IFRS연결)(백만원).1  \\\n",
       "1444               946.04            36679.19                         NaN   \n",
       "1445              1100.75            47710.47                         NaN   \n",
       "1446              2093.42            76278.81                         NaN   \n",
       "1447              2218.44            82174.08                         NaN   \n",
       "1448              3546.02            84773.55                         NaN   \n",
       "1449              3881.94            97950.27                         NaN   \n",
       "1450              4763.27           124826.47                         NaN   \n",
       "1451              5584.20           153719.62                         NaN   \n",
       "1452              5846.31           173849.80                         NaN   \n",
       "1453              6821.75           214159.74                         NaN   \n",
       "1454              7223.42           226390.02                         NaN   \n",
       "1455              7919.81           245827.33                         NaN   \n",
       "13163              946.04            36679.19                         NaN   \n",
       "13164             1100.75            47710.47                         NaN   \n",
       "13165             2093.42            76278.81                         NaN   \n",
       "13166             2218.44            82174.08                         NaN   \n",
       "13167             3546.02            88675.33                         NaN   \n",
       "\n",
       "       총자본투자효율(IFRS연결).1  기계투자효율(IFRS연결).1  부가가치율(IFRS연결).1  종업원수(IFRS연결)  \n",
       "1444               16.82           2440.15            83.21           NaN  \n",
       "1445               11.87           2214.09           103.78           NaN  \n",
       "1446               14.33           2358.47            70.64           NaN  \n",
       "1447               13.00            480.46            59.21           NaN  \n",
       "1448               14.02            138.42            60.27           NaN  \n",
       "1449               22.05            271.63            76.54           NaN  \n",
       "1450               17.24            247.20            61.50           NaN  \n",
       "1451               19.45            259.78            66.51           NaN  \n",
       "1452               21.54            365.66            58.49           NaN  \n",
       "1453               21.62            407.25            64.17           NaN  \n",
       "1454               19.17            425.62            49.44           NaN  \n",
       "1455                6.12            521.69            56.04           NaN  \n",
       "13163              16.82           2440.15            83.21           NaN  \n",
       "13164              11.87           2214.09           103.78           NaN  \n",
       "13165              14.33           2358.47            70.64           NaN  \n",
       "13166              13.00            480.46            59.21           NaN  \n",
       "13167              14.36            148.62            64.72           NaN  \n",
       "\n",
       "[17 rows x 156 columns]"
      ]
     },
     "execution_count": 4,
     "metadata": {},
     "output_type": "execute_result"
    }
   ],
   "source": [
    "listed[listed['거래소코드'] == 68270]"
   ]
  },
  {
   "cell_type": "code",
   "execution_count": 5,
   "metadata": {},
   "outputs": [
    {
     "data": {
      "text/plain": [
       "(27971, 156)"
      ]
     },
     "execution_count": 5,
     "metadata": {},
     "output_type": "execute_result"
    }
   ],
   "source": [
    "listed.shape"
   ]
  },
  {
   "cell_type": "code",
   "execution_count": 6,
   "metadata": {},
   "outputs": [
    {
     "data": {
      "text/plain": [
       "(2739, 156)"
      ]
     },
     "execution_count": 6,
     "metadata": {},
     "output_type": "execute_result"
    }
   ],
   "source": [
    "listed.drop_duplicates('거래소코드').shape"
   ]
  },
  {
   "cell_type": "markdown",
   "metadata": {},
   "source": [
    "# 결산월이 12월인 기업만"
   ]
  },
  {
   "cell_type": "code",
   "execution_count": 7,
   "metadata": {},
   "outputs": [],
   "source": [
    "listed['회계년도'] = pd.to_datetime(listed['회계년도'], format='%Y/%m')\n",
    "listed = listed[listed['회계년도'].dt.month == 12]"
   ]
  },
  {
   "cell_type": "code",
   "execution_count": 8,
   "metadata": {},
   "outputs": [
    {
     "data": {
      "text/plain": [
       "(27554, 156)"
      ]
     },
     "execution_count": 8,
     "metadata": {},
     "output_type": "execute_result"
    }
   ],
   "source": [
    "listed.shape"
   ]
  },
  {
   "cell_type": "code",
   "execution_count": 9,
   "metadata": {},
   "outputs": [
    {
     "data": {
      "text/plain": [
       "(2715, 156)"
      ]
     },
     "execution_count": 9,
     "metadata": {},
     "output_type": "execute_result"
    }
   ],
   "source": [
    "listed.drop_duplicates('거래소코드').shape"
   ]
  },
  {
   "cell_type": "markdown",
   "metadata": {},
   "source": [
    "# 특수 목적 회사 drop\n",
    "- 1차 통계청 한국표준산업분류(KSIC) 기준으로 제거\n",
    "    - K. 금융및보험업(64~66)\n",
    "        - 64. 금융업\n",
    "        - 65. 보험및연금업\n",
    "        - 66. 금융및보험관련서비스업\n",
    "- 2차 키워드 제거\n",
    "    - 인베스트|투자|금융|보험|캐피탈|특수목적|프로젝트|문화산업"
   ]
  },
  {
   "cell_type": "code",
   "execution_count": 10,
   "metadata": {},
   "outputs": [],
   "source": [
    "listed = listed[~listed['통계청 한국표준산업분류 코드 10차(대분류)'].isin([64, 65, 66])]\n",
    "listed = listed[~listed['회사명'].str.contains('인베스트|투자|금융|보험|캐피탈|특수목적|프로젝트|문화산업')]"
   ]
  },
  {
   "cell_type": "code",
   "execution_count": 11,
   "metadata": {},
   "outputs": [
    {
     "data": {
      "text/plain": [
       "(27388, 156)"
      ]
     },
     "execution_count": 11,
     "metadata": {},
     "output_type": "execute_result"
    }
   ],
   "source": [
    "listed.shape"
   ]
  },
  {
   "cell_type": "code",
   "execution_count": 12,
   "metadata": {},
   "outputs": [
    {
     "data": {
      "text/plain": [
       "(2700, 156)"
      ]
     },
     "execution_count": 12,
     "metadata": {},
     "output_type": "execute_result"
    }
   ],
   "source": [
    "listed.drop_duplicates('거래소코드').shape"
   ]
  },
  {
   "cell_type": "markdown",
   "metadata": {},
   "source": [
    "# 이전 상장에 따른 중복 데이터 제거"
   ]
  },
  {
   "cell_type": "code",
   "execution_count": 13,
   "metadata": {},
   "outputs": [
    {
     "data": {
      "text/plain": [
       "Index([  3670,  22100,  26960,  30190,  34230,  35510,  35720,  36420,  66970,\n",
       "        68270,  90460,  97520, 100090, 108320, 178920, 192080],\n",
       "      dtype='int64', name='거래소코드')"
      ]
     },
     "execution_count": 13,
     "metadata": {},
     "output_type": "execute_result"
    }
   ],
   "source": [
    "# Step 1: 소속코드가 4와 1을 모두 가지는 거래소코드 찾기\n",
    "# 거래소코드별로 그룹화하여 소속코드를 집합으로 만든 후, 조건을 만족하는 거래소코드를 필터링합니다.\n",
    "grouped = listed.groupby('거래소코드')['소속코드'].apply(set)\n",
    "target_codes = grouped[grouped.apply(lambda x: {1, 4}.issubset(x))].index\n",
    "target_codes"
   ]
  },
  {
   "cell_type": "code",
   "execution_count": 14,
   "metadata": {},
   "outputs": [],
   "source": [
    "# Step 2: 소속코드가 4이고 상장폐지일이 존재하는 행 제거\n",
    "listed = listed[~((listed['거래소코드'].isin(target_codes)) & (listed['소속코드'] == 4) & (~listed['상장폐지일'].isna()))]"
   ]
  },
  {
   "cell_type": "code",
   "execution_count": 15,
   "metadata": {},
   "outputs": [
    {
     "data": {
      "text/plain": [
       "(27260, 156)"
      ]
     },
     "execution_count": 15,
     "metadata": {},
     "output_type": "execute_result"
    }
   ],
   "source": [
    "listed.shape"
   ]
  },
  {
   "cell_type": "code",
   "execution_count": 16,
   "metadata": {},
   "outputs": [
    {
     "data": {
      "text/plain": [
       "(2700, 156)"
      ]
     },
     "execution_count": 16,
     "metadata": {},
     "output_type": "execute_result"
    }
   ],
   "source": [
    "listed.drop_duplicates('거래소코드').shape"
   ]
  },
  {
   "cell_type": "markdown",
   "metadata": {},
   "source": [
    "# 상장 이전 데이터 제거"
   ]
  },
  {
   "cell_type": "code",
   "execution_count": 17,
   "metadata": {},
   "outputs": [
    {
     "name": "stdout",
     "output_type": "stream",
     "text": [
      "<class 'pandas.core.frame.DataFrame'>\n",
      "Index: 27260 entries, 0 to 27970\n",
      "Data columns (total 2 columns):\n",
      " #   Column  Non-Null Count  Dtype         \n",
      "---  ------  --------------  -----         \n",
      " 0   회계년도    27260 non-null  datetime64[ns]\n",
      " 1   상장일     27260 non-null  object        \n",
      "dtypes: datetime64[ns](1), object(1)\n",
      "memory usage: 638.9+ KB\n"
     ]
    }
   ],
   "source": [
    "listed[['회계년도', '상장일']].info()"
   ]
  },
  {
   "cell_type": "code",
   "execution_count": 18,
   "metadata": {},
   "outputs": [],
   "source": [
    "listed['상장일'] = pd.to_datetime(listed['상장일'], format='%Y/%m/%d')"
   ]
  },
  {
   "cell_type": "code",
   "execution_count": 19,
   "metadata": {},
   "outputs": [
    {
     "data": {
      "text/html": [
       "<div>\n",
       "<style scoped>\n",
       "    .dataframe tbody tr th:only-of-type {\n",
       "        vertical-align: middle;\n",
       "    }\n",
       "\n",
       "    .dataframe tbody tr th {\n",
       "        vertical-align: top;\n",
       "    }\n",
       "\n",
       "    .dataframe thead th {\n",
       "        text-align: right;\n",
       "    }\n",
       "</style>\n",
       "<table border=\"1\" class=\"dataframe\">\n",
       "  <thead>\n",
       "    <tr style=\"text-align: right;\">\n",
       "      <th></th>\n",
       "      <th>회사명</th>\n",
       "      <th>거래소코드</th>\n",
       "      <th>회계년도</th>\n",
       "      <th>상장일</th>\n",
       "    </tr>\n",
       "  </thead>\n",
       "  <tbody>\n",
       "    <tr>\n",
       "      <th>140</th>\n",
       "      <td>(주)경보제약</td>\n",
       "      <td>214390</td>\n",
       "      <td>2012-12-01</td>\n",
       "      <td>2015-06-29</td>\n",
       "    </tr>\n",
       "    <tr>\n",
       "      <th>141</th>\n",
       "      <td>(주)경보제약</td>\n",
       "      <td>214390</td>\n",
       "      <td>2013-12-01</td>\n",
       "      <td>2015-06-29</td>\n",
       "    </tr>\n",
       "    <tr>\n",
       "      <th>142</th>\n",
       "      <td>(주)경보제약</td>\n",
       "      <td>214390</td>\n",
       "      <td>2014-12-01</td>\n",
       "      <td>2015-06-29</td>\n",
       "    </tr>\n",
       "    <tr>\n",
       "      <th>224</th>\n",
       "      <td>(주)금호에이치티</td>\n",
       "      <td>214330</td>\n",
       "      <td>2012-12-01</td>\n",
       "      <td>2015-11-11</td>\n",
       "    </tr>\n",
       "    <tr>\n",
       "      <th>225</th>\n",
       "      <td>(주)금호에이치티</td>\n",
       "      <td>214330</td>\n",
       "      <td>2013-12-01</td>\n",
       "      <td>2015-11-11</td>\n",
       "    </tr>\n",
       "    <tr>\n",
       "      <th>...</th>\n",
       "      <td>...</td>\n",
       "      <td>...</td>\n",
       "      <td>...</td>\n",
       "      <td>...</td>\n",
       "    </tr>\n",
       "    <tr>\n",
       "      <th>27913</th>\n",
       "      <td>휴림네트웍스(주)</td>\n",
       "      <td>192410</td>\n",
       "      <td>2012-12-01</td>\n",
       "      <td>2014-08-14</td>\n",
       "    </tr>\n",
       "    <tr>\n",
       "      <th>27914</th>\n",
       "      <td>휴림네트웍스(주)</td>\n",
       "      <td>192410</td>\n",
       "      <td>2013-12-01</td>\n",
       "      <td>2014-08-14</td>\n",
       "    </tr>\n",
       "    <tr>\n",
       "      <th>27947</th>\n",
       "      <td>휴젤(주)</td>\n",
       "      <td>145020</td>\n",
       "      <td>2012-12-01</td>\n",
       "      <td>2015-12-24</td>\n",
       "    </tr>\n",
       "    <tr>\n",
       "      <th>27948</th>\n",
       "      <td>휴젤(주)</td>\n",
       "      <td>145020</td>\n",
       "      <td>2013-12-01</td>\n",
       "      <td>2015-12-24</td>\n",
       "    </tr>\n",
       "    <tr>\n",
       "      <th>27949</th>\n",
       "      <td>휴젤(주)</td>\n",
       "      <td>145020</td>\n",
       "      <td>2014-12-01</td>\n",
       "      <td>2015-12-24</td>\n",
       "    </tr>\n",
       "  </tbody>\n",
       "</table>\n",
       "<p>3943 rows × 4 columns</p>\n",
       "</div>"
      ],
      "text/plain": [
       "             회사명   거래소코드       회계년도        상장일\n",
       "140      (주)경보제약  214390 2012-12-01 2015-06-29\n",
       "141      (주)경보제약  214390 2013-12-01 2015-06-29\n",
       "142      (주)경보제약  214390 2014-12-01 2015-06-29\n",
       "224    (주)금호에이치티  214330 2012-12-01 2015-11-11\n",
       "225    (주)금호에이치티  214330 2013-12-01 2015-11-11\n",
       "...          ...     ...        ...        ...\n",
       "27913  휴림네트웍스(주)  192410 2012-12-01 2014-08-14\n",
       "27914  휴림네트웍스(주)  192410 2013-12-01 2014-08-14\n",
       "27947      휴젤(주)  145020 2012-12-01 2015-12-24\n",
       "27948      휴젤(주)  145020 2013-12-01 2015-12-24\n",
       "27949      휴젤(주)  145020 2014-12-01 2015-12-24\n",
       "\n",
       "[3943 rows x 4 columns]"
      ]
     },
     "execution_count": 19,
     "metadata": {},
     "output_type": "execute_result"
    }
   ],
   "source": [
    "# 회계년도가 상장년도 이전(미만)인 데이터 제거\n",
    "listed[listed['회계년도'].dt.year < listed['상장일'].dt.year][['회사명', '거래소코드', '회계년도', '상장일']]"
   ]
  },
  {
   "cell_type": "code",
   "execution_count": 20,
   "metadata": {},
   "outputs": [],
   "source": [
    "# 회계년도가 상장년도 이전(미만)인 데이터 제거\n",
    "listed = listed[listed['회계년도'].dt.year >= listed['상장일'].dt.year]"
   ]
  },
  {
   "cell_type": "code",
   "execution_count": 21,
   "metadata": {},
   "outputs": [
    {
     "data": {
      "text/plain": [
       "(23317, 156)"
      ]
     },
     "execution_count": 21,
     "metadata": {},
     "output_type": "execute_result"
    }
   ],
   "source": [
    "listed.shape"
   ]
  },
  {
   "cell_type": "code",
   "execution_count": 22,
   "metadata": {},
   "outputs": [
    {
     "data": {
      "text/plain": [
       "(2641, 156)"
      ]
     },
     "execution_count": 22,
     "metadata": {},
     "output_type": "execute_result"
    }
   ],
   "source": [
    "listed.drop_duplicates('거래소코드').shape"
   ]
  },
  {
   "cell_type": "markdown",
   "metadata": {},
   "source": [
    "# merge"
   ]
  },
  {
   "cell_type": "markdown",
   "metadata": {},
   "source": [
    "### 회계 감리 지적 기업 csv 불러오기"
   ]
  },
  {
   "cell_type": "code",
   "execution_count": 23,
   "metadata": {},
   "outputs": [],
   "source": [
    "fraud = pd.read_csv('../data/raw_data/회계 감리 지적 기업.csv')"
   ]
  },
  {
   "cell_type": "code",
   "execution_count": 24,
   "metadata": {},
   "outputs": [
    {
     "data": {
      "text/html": [
       "<div>\n",
       "<style scoped>\n",
       "    .dataframe tbody tr th:only-of-type {\n",
       "        vertical-align: middle;\n",
       "    }\n",
       "\n",
       "    .dataframe tbody tr th {\n",
       "        vertical-align: top;\n",
       "    }\n",
       "\n",
       "    .dataframe thead th {\n",
       "        text-align: right;\n",
       "    }\n",
       "</style>\n",
       "<table border=\"1\" class=\"dataframe\">\n",
       "  <thead>\n",
       "    <tr style=\"text-align: right;\">\n",
       "      <th></th>\n",
       "      <th>회사명</th>\n",
       "      <th>거래소코드</th>\n",
       "      <th>기업유형</th>\n",
       "      <th>회계년도</th>\n",
       "      <th>이익 과대계상 (비용 과소계상)</th>\n",
       "    </tr>\n",
       "  </thead>\n",
       "  <tbody>\n",
       "    <tr>\n",
       "      <th>0</th>\n",
       "      <td>(주)효성</td>\n",
       "      <td>4800</td>\n",
       "      <td>코스피</td>\n",
       "      <td>2013</td>\n",
       "      <td>1.0</td>\n",
       "    </tr>\n",
       "    <tr>\n",
       "      <th>1</th>\n",
       "      <td>(주)효성</td>\n",
       "      <td>4800</td>\n",
       "      <td>코스피</td>\n",
       "      <td>2014</td>\n",
       "      <td>1.0</td>\n",
       "    </tr>\n",
       "    <tr>\n",
       "      <th>2</th>\n",
       "      <td>(주)효성</td>\n",
       "      <td>4800</td>\n",
       "      <td>코스피</td>\n",
       "      <td>2015</td>\n",
       "      <td>1.0</td>\n",
       "    </tr>\n",
       "    <tr>\n",
       "      <th>3</th>\n",
       "      <td>(주)서연</td>\n",
       "      <td>7860</td>\n",
       "      <td>코스피</td>\n",
       "      <td>2012</td>\n",
       "      <td>0.0</td>\n",
       "    </tr>\n",
       "    <tr>\n",
       "      <th>4</th>\n",
       "      <td>한솔홀딩스(주)</td>\n",
       "      <td>4150</td>\n",
       "      <td>코스피</td>\n",
       "      <td>2012</td>\n",
       "      <td>1.0</td>\n",
       "    </tr>\n",
       "    <tr>\n",
       "      <th>...</th>\n",
       "      <td>...</td>\n",
       "      <td>...</td>\n",
       "      <td>...</td>\n",
       "      <td>...</td>\n",
       "      <td>...</td>\n",
       "    </tr>\n",
       "    <tr>\n",
       "      <th>493</th>\n",
       "      <td>참엔지니어링(주)</td>\n",
       "      <td>9310</td>\n",
       "      <td>코스피</td>\n",
       "      <td>2014</td>\n",
       "      <td>1.0</td>\n",
       "    </tr>\n",
       "    <tr>\n",
       "      <th>494</th>\n",
       "      <td>(주)씨씨에스충북방송</td>\n",
       "      <td>66790</td>\n",
       "      <td>코스닥</td>\n",
       "      <td>2014</td>\n",
       "      <td>1.0</td>\n",
       "    </tr>\n",
       "    <tr>\n",
       "      <th>495</th>\n",
       "      <td>(주)씨씨에스충북방송</td>\n",
       "      <td>66790</td>\n",
       "      <td>코스닥</td>\n",
       "      <td>2015</td>\n",
       "      <td>1.0</td>\n",
       "    </tr>\n",
       "    <tr>\n",
       "      <th>496</th>\n",
       "      <td>(주)씨씨에스충북방송</td>\n",
       "      <td>66790</td>\n",
       "      <td>코스닥</td>\n",
       "      <td>2016</td>\n",
       "      <td>1.0</td>\n",
       "    </tr>\n",
       "    <tr>\n",
       "      <th>497</th>\n",
       "      <td>(주)씨씨에스충북방송</td>\n",
       "      <td>66790</td>\n",
       "      <td>코스닥</td>\n",
       "      <td>2017</td>\n",
       "      <td>1.0</td>\n",
       "    </tr>\n",
       "  </tbody>\n",
       "</table>\n",
       "<p>498 rows × 5 columns</p>\n",
       "</div>"
      ],
      "text/plain": [
       "             회사명  거래소코드 기업유형  회계년도  이익 과대계상 (비용 과소계상)\n",
       "0          (주)효성   4800  코스피  2013                1.0\n",
       "1          (주)효성   4800  코스피  2014                1.0\n",
       "2          (주)효성   4800  코스피  2015                1.0\n",
       "3          (주)서연   7860  코스피  2012                0.0\n",
       "4       한솔홀딩스(주)   4150  코스피  2012                1.0\n",
       "..           ...    ...  ...   ...                ...\n",
       "493    참엔지니어링(주)   9310  코스피  2014                1.0\n",
       "494  (주)씨씨에스충북방송  66790  코스닥  2014                1.0\n",
       "495  (주)씨씨에스충북방송  66790  코스닥  2015                1.0\n",
       "496  (주)씨씨에스충북방송  66790  코스닥  2016                1.0\n",
       "497  (주)씨씨에스충북방송  66790  코스닥  2017                1.0\n",
       "\n",
       "[498 rows x 5 columns]"
      ]
     },
     "execution_count": 24,
     "metadata": {},
     "output_type": "execute_result"
    }
   ],
   "source": [
    "fraud"
   ]
  },
  {
   "cell_type": "code",
   "execution_count": 25,
   "metadata": {},
   "outputs": [
    {
     "name": "stdout",
     "output_type": "stream",
     "text": [
      "fraud 로우 수:  (498, 5)\n",
      "fraud 기업 수:  (138, 5)\n"
     ]
    }
   ],
   "source": [
    "print('fraud 로우 수: ', fraud.shape)\n",
    "print('fraud 기업 수: ', fraud.drop_duplicates('거래소코드').shape)"
   ]
  },
  {
   "cell_type": "code",
   "execution_count": 26,
   "metadata": {},
   "outputs": [],
   "source": [
    "# 중복 행 제거 후 인덱스 리셋\n",
    "fraud = fraud.drop_duplicates().reset_index(drop=True)"
   ]
  },
  {
   "cell_type": "code",
   "execution_count": 27,
   "metadata": {},
   "outputs": [
    {
     "name": "stdout",
     "output_type": "stream",
     "text": [
      "fraud 로우 수:  (445, 5)\n",
      "fraud 기업 수:  (138, 5)\n"
     ]
    }
   ],
   "source": [
    "print('fraud 로우 수: ', fraud.shape)\n",
    "print('fraud 기업 수: ', fraud.drop_duplicates('거래소코드').shape)"
   ]
  },
  {
   "cell_type": "markdown",
   "metadata": {},
   "source": [
    "### 기준이 되는 데이터 타입 맞추기"
   ]
  },
  {
   "cell_type": "code",
   "execution_count": 28,
   "metadata": {},
   "outputs": [
    {
     "name": "stdout",
     "output_type": "stream",
     "text": [
      "<class 'pandas.core.frame.DataFrame'>\n",
      "Index: 23317 entries, 0 to 27970\n",
      "Data columns (total 2 columns):\n",
      " #   Column  Non-Null Count  Dtype         \n",
      "---  ------  --------------  -----         \n",
      " 0   거래소코드   23317 non-null  int64         \n",
      " 1   회계년도    23317 non-null  datetime64[ns]\n",
      "dtypes: datetime64[ns](1), int64(1)\n",
      "memory usage: 546.5 KB\n"
     ]
    }
   ],
   "source": [
    "listed[['거래소코드', '회계년도']].info()"
   ]
  },
  {
   "cell_type": "code",
   "execution_count": 29,
   "metadata": {},
   "outputs": [
    {
     "name": "stdout",
     "output_type": "stream",
     "text": [
      "<class 'pandas.core.frame.DataFrame'>\n",
      "RangeIndex: 445 entries, 0 to 444\n",
      "Data columns (total 2 columns):\n",
      " #   Column  Non-Null Count  Dtype\n",
      "---  ------  --------------  -----\n",
      " 0   거래소코드   445 non-null    int64\n",
      " 1   회계년도    445 non-null    int64\n",
      "dtypes: int64(2)\n",
      "memory usage: 7.1 KB\n"
     ]
    }
   ],
   "source": [
    "fraud[['거래소코드', '회계년도']].info()"
   ]
  },
  {
   "cell_type": "code",
   "execution_count": 30,
   "metadata": {},
   "outputs": [],
   "source": [
    "listed['회계년도'] = listed['회계년도'].dt.year"
   ]
  },
  {
   "cell_type": "markdown",
   "metadata": {},
   "source": [
    "### pd.merge(listed, fraud, on=['거래소코드', '회계년도'])"
   ]
  },
  {
   "cell_type": "code",
   "execution_count": 31,
   "metadata": {},
   "outputs": [],
   "source": [
    "listed = pd.merge(listed, fraud, on=['거래소코드', '회계년도'])"
   ]
  },
  {
   "cell_type": "code",
   "execution_count": 32,
   "metadata": {},
   "outputs": [
    {
     "data": {
      "text/html": [
       "<div>\n",
       "<style scoped>\n",
       "    .dataframe tbody tr th:only-of-type {\n",
       "        vertical-align: middle;\n",
       "    }\n",
       "\n",
       "    .dataframe tbody tr th {\n",
       "        vertical-align: top;\n",
       "    }\n",
       "\n",
       "    .dataframe thead th {\n",
       "        text-align: right;\n",
       "    }\n",
       "</style>\n",
       "<table border=\"1\" class=\"dataframe\">\n",
       "  <thead>\n",
       "    <tr style=\"text-align: right;\">\n",
       "      <th></th>\n",
       "      <th>회사명_x</th>\n",
       "      <th>거래소코드</th>\n",
       "      <th>회계년도</th>\n",
       "      <th>소속코드</th>\n",
       "      <th>통계청 한국표준산업분류 코드 10차(대분류)</th>\n",
       "      <th>산업코드</th>\n",
       "      <th>산업명</th>\n",
       "      <th>상장일</th>\n",
       "      <th>상장폐지일</th>\n",
       "      <th>총자본증가율(IFRS연결)</th>\n",
       "      <th>...</th>\n",
       "      <th>세금과공과(IFRS연결)(백만원)</th>\n",
       "      <th>감가상각비(IFRS연결)(백만원)</th>\n",
       "      <th>종업원1인당 부가가치(IFRS연결)(백만원).1</th>\n",
       "      <th>총자본투자효율(IFRS연결).1</th>\n",
       "      <th>기계투자효율(IFRS연결).1</th>\n",
       "      <th>부가가치율(IFRS연결).1</th>\n",
       "      <th>종업원수(IFRS연결)</th>\n",
       "      <th>회사명_y</th>\n",
       "      <th>기업유형</th>\n",
       "      <th>이익 과대계상 (비용 과소계상)</th>\n",
       "    </tr>\n",
       "  </thead>\n",
       "  <tbody>\n",
       "    <tr>\n",
       "      <th>0</th>\n",
       "      <td>(주)다이나믹디자인</td>\n",
       "      <td>145210</td>\n",
       "      <td>2015</td>\n",
       "      <td>1</td>\n",
       "      <td>29</td>\n",
       "      <td>32902</td>\n",
       "      <td>기타 기계 및 장비 제조업</td>\n",
       "      <td>2015-03-19</td>\n",
       "      <td>NaN</td>\n",
       "      <td>-4.56</td>\n",
       "      <td>...</td>\n",
       "      <td>0.0</td>\n",
       "      <td>14203.75</td>\n",
       "      <td>NaN</td>\n",
       "      <td>19.72</td>\n",
       "      <td>98.91</td>\n",
       "      <td>29.06</td>\n",
       "      <td>NaN</td>\n",
       "      <td>(주)다이나믹디자인</td>\n",
       "      <td>코스피</td>\n",
       "      <td>1.0</td>\n",
       "    </tr>\n",
       "    <tr>\n",
       "      <th>1</th>\n",
       "      <td>(주)다이나믹디자인</td>\n",
       "      <td>145210</td>\n",
       "      <td>2016</td>\n",
       "      <td>1</td>\n",
       "      <td>29</td>\n",
       "      <td>32902</td>\n",
       "      <td>기타 기계 및 장비 제조업</td>\n",
       "      <td>2015-03-19</td>\n",
       "      <td>NaN</td>\n",
       "      <td>-12.91</td>\n",
       "      <td>...</td>\n",
       "      <td>0.0</td>\n",
       "      <td>0.00</td>\n",
       "      <td>NaN</td>\n",
       "      <td>-3.89</td>\n",
       "      <td>0.00</td>\n",
       "      <td>-5.57</td>\n",
       "      <td>NaN</td>\n",
       "      <td>(주)다이나믹디자인</td>\n",
       "      <td>코스피</td>\n",
       "      <td>1.0</td>\n",
       "    </tr>\n",
       "    <tr>\n",
       "      <th>2</th>\n",
       "      <td>(주)다이나믹디자인</td>\n",
       "      <td>145210</td>\n",
       "      <td>2017</td>\n",
       "      <td>1</td>\n",
       "      <td>29</td>\n",
       "      <td>32902</td>\n",
       "      <td>기타 기계 및 장비 제조업</td>\n",
       "      <td>2015-03-19</td>\n",
       "      <td>NaN</td>\n",
       "      <td>-17.07</td>\n",
       "      <td>...</td>\n",
       "      <td>0.0</td>\n",
       "      <td>11694.91</td>\n",
       "      <td>NaN</td>\n",
       "      <td>8.59</td>\n",
       "      <td>44.66</td>\n",
       "      <td>12.60</td>\n",
       "      <td>NaN</td>\n",
       "      <td>(주)다이나믹디자인</td>\n",
       "      <td>코스피</td>\n",
       "      <td>1.0</td>\n",
       "    </tr>\n",
       "    <tr>\n",
       "      <th>3</th>\n",
       "      <td>(주)대우건설</td>\n",
       "      <td>47040</td>\n",
       "      <td>2012</td>\n",
       "      <td>1</td>\n",
       "      <td>41</td>\n",
       "      <td>64101</td>\n",
       "      <td>종합 건설업</td>\n",
       "      <td>2001-03-23</td>\n",
       "      <td>NaN</td>\n",
       "      <td>4.13</td>\n",
       "      <td>...</td>\n",
       "      <td>54145.0</td>\n",
       "      <td>51212.00</td>\n",
       "      <td>NaN</td>\n",
       "      <td>13.73</td>\n",
       "      <td>2422.60</td>\n",
       "      <td>16.47</td>\n",
       "      <td>NaN</td>\n",
       "      <td>(주)대우건설</td>\n",
       "      <td>코스피</td>\n",
       "      <td>0.0</td>\n",
       "    </tr>\n",
       "    <tr>\n",
       "      <th>4</th>\n",
       "      <td>(주)대우건설</td>\n",
       "      <td>47040</td>\n",
       "      <td>2013</td>\n",
       "      <td>1</td>\n",
       "      <td>41</td>\n",
       "      <td>64101</td>\n",
       "      <td>종합 건설업</td>\n",
       "      <td>2001-03-23</td>\n",
       "      <td>NaN</td>\n",
       "      <td>2.67</td>\n",
       "      <td>...</td>\n",
       "      <td>62921.0</td>\n",
       "      <td>59003.00</td>\n",
       "      <td>NaN</td>\n",
       "      <td>4.00</td>\n",
       "      <td>731.03</td>\n",
       "      <td>4.62</td>\n",
       "      <td>NaN</td>\n",
       "      <td>(주)대우건설</td>\n",
       "      <td>코스피</td>\n",
       "      <td>0.0</td>\n",
       "    </tr>\n",
       "    <tr>\n",
       "      <th>...</th>\n",
       "      <td>...</td>\n",
       "      <td>...</td>\n",
       "      <td>...</td>\n",
       "      <td>...</td>\n",
       "      <td>...</td>\n",
       "      <td>...</td>\n",
       "      <td>...</td>\n",
       "      <td>...</td>\n",
       "      <td>...</td>\n",
       "      <td>...</td>\n",
       "      <td>...</td>\n",
       "      <td>...</td>\n",
       "      <td>...</td>\n",
       "      <td>...</td>\n",
       "      <td>...</td>\n",
       "      <td>...</td>\n",
       "      <td>...</td>\n",
       "      <td>...</td>\n",
       "      <td>...</td>\n",
       "      <td>...</td>\n",
       "      <td>...</td>\n",
       "    </tr>\n",
       "    <tr>\n",
       "      <th>398</th>\n",
       "      <td>한솔아이원스(주)</td>\n",
       "      <td>114810</td>\n",
       "      <td>2017</td>\n",
       "      <td>5</td>\n",
       "      <td>29</td>\n",
       "      <td>32902</td>\n",
       "      <td>기타 기계 및 장비 제조업</td>\n",
       "      <td>2013-02-07</td>\n",
       "      <td>NaN</td>\n",
       "      <td>NaN</td>\n",
       "      <td>...</td>\n",
       "      <td>NaN</td>\n",
       "      <td>NaN</td>\n",
       "      <td>NaN</td>\n",
       "      <td>NaN</td>\n",
       "      <td>NaN</td>\n",
       "      <td>NaN</td>\n",
       "      <td>NaN</td>\n",
       "      <td>한솔아이원스(주)</td>\n",
       "      <td>코스닥</td>\n",
       "      <td>1.0</td>\n",
       "    </tr>\n",
       "    <tr>\n",
       "      <th>399</th>\n",
       "      <td>한솔아이원스(주)</td>\n",
       "      <td>114810</td>\n",
       "      <td>2018</td>\n",
       "      <td>5</td>\n",
       "      <td>29</td>\n",
       "      <td>32902</td>\n",
       "      <td>기타 기계 및 장비 제조업</td>\n",
       "      <td>2013-02-07</td>\n",
       "      <td>NaN</td>\n",
       "      <td>NaN</td>\n",
       "      <td>...</td>\n",
       "      <td>NaN</td>\n",
       "      <td>NaN</td>\n",
       "      <td>NaN</td>\n",
       "      <td>NaN</td>\n",
       "      <td>NaN</td>\n",
       "      <td>NaN</td>\n",
       "      <td>NaN</td>\n",
       "      <td>한솔아이원스(주)</td>\n",
       "      <td>코스닥</td>\n",
       "      <td>1.0</td>\n",
       "    </tr>\n",
       "    <tr>\n",
       "      <th>400</th>\n",
       "      <td>한솔아이원스(주)</td>\n",
       "      <td>114810</td>\n",
       "      <td>2019</td>\n",
       "      <td>5</td>\n",
       "      <td>29</td>\n",
       "      <td>32902</td>\n",
       "      <td>기타 기계 및 장비 제조업</td>\n",
       "      <td>2013-02-07</td>\n",
       "      <td>NaN</td>\n",
       "      <td>0.00</td>\n",
       "      <td>...</td>\n",
       "      <td>0.0</td>\n",
       "      <td>8607.60</td>\n",
       "      <td>NaN</td>\n",
       "      <td>20.66</td>\n",
       "      <td>165.10</td>\n",
       "      <td>32.15</td>\n",
       "      <td>NaN</td>\n",
       "      <td>한솔아이원스(주)</td>\n",
       "      <td>코스닥</td>\n",
       "      <td>1.0</td>\n",
       "    </tr>\n",
       "    <tr>\n",
       "      <th>401</th>\n",
       "      <td>한솔아이원스(주)</td>\n",
       "      <td>114810</td>\n",
       "      <td>2020</td>\n",
       "      <td>5</td>\n",
       "      <td>29</td>\n",
       "      <td>32902</td>\n",
       "      <td>기타 기계 및 장비 제조업</td>\n",
       "      <td>2013-02-07</td>\n",
       "      <td>NaN</td>\n",
       "      <td>-12.56</td>\n",
       "      <td>...</td>\n",
       "      <td>0.0</td>\n",
       "      <td>7715.50</td>\n",
       "      <td>NaN</td>\n",
       "      <td>27.08</td>\n",
       "      <td>192.48</td>\n",
       "      <td>30.81</td>\n",
       "      <td>NaN</td>\n",
       "      <td>한솔아이원스(주)</td>\n",
       "      <td>코스닥</td>\n",
       "      <td>1.0</td>\n",
       "    </tr>\n",
       "    <tr>\n",
       "      <th>402</th>\n",
       "      <td>한솔아이원스(주)</td>\n",
       "      <td>114810</td>\n",
       "      <td>2021</td>\n",
       "      <td>5</td>\n",
       "      <td>29</td>\n",
       "      <td>32902</td>\n",
       "      <td>기타 기계 및 장비 제조업</td>\n",
       "      <td>2013-02-07</td>\n",
       "      <td>NaN</td>\n",
       "      <td>7.72</td>\n",
       "      <td>...</td>\n",
       "      <td>0.0</td>\n",
       "      <td>7955.52</td>\n",
       "      <td>NaN</td>\n",
       "      <td>43.96</td>\n",
       "      <td>353.48</td>\n",
       "      <td>48.15</td>\n",
       "      <td>NaN</td>\n",
       "      <td>한솔아이원스(주)</td>\n",
       "      <td>코스닥</td>\n",
       "      <td>1.0</td>\n",
       "    </tr>\n",
       "  </tbody>\n",
       "</table>\n",
       "<p>403 rows × 159 columns</p>\n",
       "</div>"
      ],
      "text/plain": [
       "          회사명_x   거래소코드  회계년도  소속코드  통계청 한국표준산업분류 코드 10차(대분류)   산업코드  \\\n",
       "0    (주)다이나믹디자인  145210  2015     1                        29  32902   \n",
       "1    (주)다이나믹디자인  145210  2016     1                        29  32902   \n",
       "2    (주)다이나믹디자인  145210  2017     1                        29  32902   \n",
       "3       (주)대우건설   47040  2012     1                        41  64101   \n",
       "4       (주)대우건설   47040  2013     1                        41  64101   \n",
       "..          ...     ...   ...   ...                       ...    ...   \n",
       "398   한솔아이원스(주)  114810  2017     5                        29  32902   \n",
       "399   한솔아이원스(주)  114810  2018     5                        29  32902   \n",
       "400   한솔아이원스(주)  114810  2019     5                        29  32902   \n",
       "401   한솔아이원스(주)  114810  2020     5                        29  32902   \n",
       "402   한솔아이원스(주)  114810  2021     5                        29  32902   \n",
       "\n",
       "                   산업명        상장일 상장폐지일  총자본증가율(IFRS연결)  ...  \\\n",
       "0      기타 기계 및 장비 제조업  2015-03-19   NaN           -4.56  ...   \n",
       "1      기타 기계 및 장비 제조업  2015-03-19   NaN          -12.91  ...   \n",
       "2      기타 기계 및 장비 제조업  2015-03-19   NaN          -17.07  ...   \n",
       "3              종합 건설업  2001-03-23   NaN            4.13  ...   \n",
       "4              종합 건설업  2001-03-23   NaN            2.67  ...   \n",
       "..                 ...        ...   ...             ...  ...   \n",
       "398    기타 기계 및 장비 제조업  2013-02-07   NaN             NaN  ...   \n",
       "399    기타 기계 및 장비 제조업  2013-02-07   NaN             NaN  ...   \n",
       "400    기타 기계 및 장비 제조업  2013-02-07   NaN            0.00  ...   \n",
       "401    기타 기계 및 장비 제조업  2013-02-07   NaN          -12.56  ...   \n",
       "402    기타 기계 및 장비 제조업  2013-02-07   NaN            7.72  ...   \n",
       "\n",
       "     세금과공과(IFRS연결)(백만원)  감가상각비(IFRS연결)(백만원)  종업원1인당 부가가치(IFRS연결)(백만원).1  \\\n",
       "0                   0.0            14203.75                         NaN   \n",
       "1                   0.0                0.00                         NaN   \n",
       "2                   0.0            11694.91                         NaN   \n",
       "3               54145.0            51212.00                         NaN   \n",
       "4               62921.0            59003.00                         NaN   \n",
       "..                  ...                 ...                         ...   \n",
       "398                 NaN                 NaN                         NaN   \n",
       "399                 NaN                 NaN                         NaN   \n",
       "400                 0.0             8607.60                         NaN   \n",
       "401                 0.0             7715.50                         NaN   \n",
       "402                 0.0             7955.52                         NaN   \n",
       "\n",
       "     총자본투자효율(IFRS연결).1  기계투자효율(IFRS연결).1  부가가치율(IFRS연결).1  종업원수(IFRS연결)  \\\n",
       "0                19.72             98.91            29.06           NaN   \n",
       "1                -3.89              0.00            -5.57           NaN   \n",
       "2                 8.59             44.66            12.60           NaN   \n",
       "3                13.73           2422.60            16.47           NaN   \n",
       "4                 4.00            731.03             4.62           NaN   \n",
       "..                 ...               ...              ...           ...   \n",
       "398                NaN               NaN              NaN           NaN   \n",
       "399                NaN               NaN              NaN           NaN   \n",
       "400              20.66            165.10            32.15           NaN   \n",
       "401              27.08            192.48            30.81           NaN   \n",
       "402              43.96            353.48            48.15           NaN   \n",
       "\n",
       "          회사명_y  기업유형  이익 과대계상 (비용 과소계상)  \n",
       "0    (주)다이나믹디자인   코스피                1.0  \n",
       "1    (주)다이나믹디자인   코스피                1.0  \n",
       "2    (주)다이나믹디자인   코스피                1.0  \n",
       "3       (주)대우건설   코스피                0.0  \n",
       "4       (주)대우건설   코스피                0.0  \n",
       "..          ...   ...                ...  \n",
       "398   한솔아이원스(주)   코스닥                1.0  \n",
       "399   한솔아이원스(주)   코스닥                1.0  \n",
       "400   한솔아이원스(주)   코스닥                1.0  \n",
       "401   한솔아이원스(주)   코스닥                1.0  \n",
       "402   한솔아이원스(주)   코스닥                1.0  \n",
       "\n",
       "[403 rows x 159 columns]"
      ]
     },
     "execution_count": 32,
     "metadata": {},
     "output_type": "execute_result"
    }
   ],
   "source": [
    "listed"
   ]
  },
  {
   "cell_type": "code",
   "execution_count": 33,
   "metadata": {},
   "outputs": [
    {
     "data": {
      "text/plain": [
       "(403, 159)"
      ]
     },
     "execution_count": 33,
     "metadata": {},
     "output_type": "execute_result"
    }
   ],
   "source": [
    "listed.shape"
   ]
  },
  {
   "cell_type": "code",
   "execution_count": 34,
   "metadata": {},
   "outputs": [
    {
     "data": {
      "text/plain": [
       "(132, 159)"
      ]
     },
     "execution_count": 34,
     "metadata": {},
     "output_type": "execute_result"
    }
   ],
   "source": [
    "listed.drop_duplicates('거래소코드').shape"
   ]
  },
  {
   "cell_type": "code",
   "execution_count": 35,
   "metadata": {},
   "outputs": [
    {
     "name": "stdout",
     "output_type": "stream",
     "text": [
      "(128, 159)\n",
      "(275, 159)\n"
     ]
    }
   ],
   "source": [
    "print(listed[listed['기업유형'] == '코스피'].shape)\n",
    "print(listed[listed['기업유형'] == '코스닥'].shape)"
   ]
  },
  {
   "cell_type": "code",
   "execution_count": 36,
   "metadata": {},
   "outputs": [
    {
     "name": "stdout",
     "output_type": "stream",
     "text": [
      "(40, 159)\n",
      "(92, 159)\n"
     ]
    }
   ],
   "source": [
    "print(listed[listed['기업유형'] == '코스피'].drop_duplicates('거래소코드').shape)\n",
    "print(listed[listed['기업유형'] == '코스닥'].drop_duplicates('거래소코드').shape)"
   ]
  },
  {
   "cell_type": "markdown",
   "metadata": {},
   "source": [
    "# 정리"
   ]
  },
  {
   "cell_type": "code",
   "execution_count": 37,
   "metadata": {},
   "outputs": [
    {
     "data": {
      "text/plain": [
       "Index(['회사명_x', '거래소코드', '회계년도', '소속코드', '통계청 한국표준산업분류 코드 10차(대분류)', '산업코드',\n",
       "       '산업명', '상장일', '상장폐지일', '총자본증가율(IFRS연결)',\n",
       "       ...\n",
       "       '세금과공과(IFRS연결)(백만원)', '감가상각비(IFRS연결)(백만원)',\n",
       "       '종업원1인당 부가가치(IFRS연결)(백만원).1', '총자본투자효율(IFRS연결).1', '기계투자효율(IFRS연결).1',\n",
       "       '부가가치율(IFRS연결).1', '종업원수(IFRS연결)', '회사명_y', '기업유형',\n",
       "       '이익 과대계상 (비용 과소계상)'],\n",
       "      dtype='object', length=159)"
      ]
     },
     "execution_count": 37,
     "metadata": {},
     "output_type": "execute_result"
    }
   ],
   "source": [
    "listed.columns"
   ]
  },
  {
   "cell_type": "code",
   "execution_count": 38,
   "metadata": {},
   "outputs": [
    {
     "data": {
      "text/plain": [
       "Index(['회사명_x', '거래소코드', '회계년도', '소속코드', '통계청 한국표준산업분류 코드 10차(대분류)', '산업코드',\n",
       "       '산업명', '상장일', '상장폐지일', '총자본증가율(IFRS연결)',\n",
       "       ...\n",
       "       '임차료(IFRS연결)(백만원)', '세금과공과(IFRS연결)(백만원)', '감가상각비(IFRS연결)(백만원)',\n",
       "       '종업원1인당 부가가치(IFRS연결)(백만원).1', '총자본투자효율(IFRS연결).1', '기계투자효율(IFRS연결).1',\n",
       "       '부가가치율(IFRS연결).1', '종업원수(IFRS연결)', '기업유형', '이익 과대계상 (비용 과소계상)'],\n",
       "      dtype='object', length=158)"
      ]
     },
     "execution_count": 38,
     "metadata": {},
     "output_type": "execute_result"
    }
   ],
   "source": [
    "listed = listed.drop(columns = '회사명_y')\n",
    "listed.columns"
   ]
  },
  {
   "cell_type": "code",
   "execution_count": 39,
   "metadata": {},
   "outputs": [
    {
     "data": {
      "text/plain": [
       "Index(['회사명', '거래소코드', '회계년도', '소속코드', '통계청 한국표준산업분류 코드 10차(대분류)', '산업코드',\n",
       "       '산업명', '상장일', '상장폐지일', '총자본증가율(IFRS연결)',\n",
       "       ...\n",
       "       '임차료(IFRS연결)(백만원)', '세금과공과(IFRS연결)(백만원)', '감가상각비(IFRS연결)(백만원)',\n",
       "       '종업원1인당 부가가치(IFRS연결)(백만원).1', '총자본투자효율(IFRS연결).1', '기계투자효율(IFRS연결).1',\n",
       "       '부가가치율(IFRS연결).1', '종업원수(IFRS연결)', '기업유형', 'label'],\n",
       "      dtype='object', length=158)"
      ]
     },
     "execution_count": 39,
     "metadata": {},
     "output_type": "execute_result"
    }
   ],
   "source": [
    "listed = listed.rename(columns={'회사명_x': '회사명', '이익 과대계상 (비용 과소계상)': 'label'})\n",
    "listed.columns"
   ]
  },
  {
   "cell_type": "code",
   "execution_count": 40,
   "metadata": {},
   "outputs": [],
   "source": [
    "listed_describe = listed.iloc[:, 8:-1].describe()"
   ]
  },
  {
   "cell_type": "markdown",
   "metadata": {},
   "source": [
    "# csv로 저장"
   ]
  },
  {
   "cell_type": "code",
   "execution_count": 41,
   "metadata": {},
   "outputs": [],
   "source": [
    "# listed.to_csv('../data/processed_data/재무비율.csv', index=False, encoding='UTF-8-sig')"
   ]
  },
  {
   "cell_type": "code",
   "execution_count": 42,
   "metadata": {},
   "outputs": [],
   "source": [
    "# listed_describe.to_csv('../data/processed_data/재무비율_기초통계량.csv', index=False, encoding='UTF-8-sig')"
   ]
  },
  {
   "cell_type": "code",
   "execution_count": null,
   "metadata": {},
   "outputs": [],
   "source": []
  }
 ],
 "metadata": {
  "kernelspec": {
   "display_name": "base",
   "language": "python",
   "name": "python3"
  },
  "language_info": {
   "codemirror_mode": {
    "name": "ipython",
    "version": 3
   },
   "file_extension": ".py",
   "mimetype": "text/x-python",
   "name": "python",
   "nbconvert_exporter": "python",
   "pygments_lexer": "ipython3",
   "version": "3.10.9"
  }
 },
 "nbformat": 4,
 "nbformat_minor": 2
}
