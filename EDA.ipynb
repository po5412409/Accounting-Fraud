{
 "cells": [
  {
   "cell_type": "code",
   "execution_count": 7,
   "metadata": {},
   "outputs": [],
   "source": [
    "import pandas as pd\n",
    "import numpy as np\n",
    "import seaborn as sns\n",
    "import matplotlib.pyplot as plt\n",
    "import plotly.express as px\n",
    "import plotly.graph_objects as go\n",
    "\n",
    "from scipy.stats import chi2_contingency, ttest_ind, mannwhitneyu, ks_2samp, f_oneway\n",
    "from sklearn.preprocessing import StandardScaler\n",
    "\n",
    "import utils"
   ]
  },
  {
   "cell_type": "code",
   "execution_count": 3,
   "metadata": {},
   "outputs": [],
   "source": [
    "df = pd.read_csv('data/processed_data/재무비율.csv')"
   ]
  },
  {
   "cell_type": "markdown",
   "metadata": {},
   "source": [
    "### Numerical vs Numerical\n",
    "- t-test\n",
    "- Kolmogorov-Smirnov Test\n",
    "- Correlation"
   ]
  },
  {
   "cell_type": "markdown",
   "metadata": {},
   "source": [
    "### Numercial vs Categorical (3개 이상)\n",
    "- ANOVA"
   ]
  },
  {
   "cell_type": "markdown",
   "metadata": {},
   "source": [
    "### Categorical vs Categorical\n",
    "- Chi-Square"
   ]
  },
  {
   "cell_type": "code",
   "execution_count": 5,
   "metadata": {},
   "outputs": [
    {
     "data": {
      "text/plain": [
       "Index(['회사명', '거래소코드', '회계년도', '소속코드', '통계청 한국표준산업분류 코드 10차(대분류)', '산업코드',\n",
       "       '산업명', '상장일', '상장폐지일', '총자본증가율(IFRS연결)',\n",
       "       ...\n",
       "       '금융비용(IFRS연결)(백만원)', '임차료(IFRS연결)(백만원)', '세금과공과(IFRS연결)(백만원)',\n",
       "       '감가상각비(IFRS연결)(백만원)', '종업원1인당 부가가치(IFRS연결)(백만원).1', '총자본투자효율(IFRS연결).1',\n",
       "       '기계투자효율(IFRS연결).1', '부가가치율(IFRS연결).1', '종업원수(IFRS연결)', 'label'],\n",
       "      dtype='object', length=157)"
      ]
     },
     "execution_count": 5,
     "metadata": {},
     "output_type": "execute_result"
    }
   ],
   "source": [
    "df.columns"
   ]
  },
  {
   "cell_type": "code",
   "execution_count": 6,
   "metadata": {},
   "outputs": [
    {
     "data": {
      "text/plain": [
       "0        기타 기계 및 장비 제조업 \n",
       "1        기타 기계 및 장비 제조업 \n",
       "2        기타 기계 및 장비 제조업 \n",
       "3                종합 건설업 \n",
       "4                종합 건설업 \n",
       "             ...        \n",
       "387      기타 기계 및 장비 제조업 \n",
       "388      기타 기계 및 장비 제조업 \n",
       "389      기타 기계 및 장비 제조업 \n",
       "390      기타 기계 및 장비 제조업 \n",
       "391      기타 기계 및 장비 제조업 \n",
       "Name: 산업명, Length: 392, dtype: object"
      ]
     },
     "execution_count": 6,
     "metadata": {},
     "output_type": "execute_result"
    }
   ],
   "source": [
    "df['산업명']"
   ]
  },
  {
   "cell_type": "code",
   "execution_count": 8,
   "metadata": {},
   "outputs": [
    {
     "data": {
      "application/vnd.plotly.v1+json": {
       "config": {
        "plotlyServerURL": "https://plot.ly"
       },
       "data": [
        {
         "alignmentgroup": "True",
         "bingroup": "x",
         "hovertemplate": "산업명=%{x}<br>count=%{y}<extra></extra>",
         "legendgroup": "",
         "marker": {
          "color": "#636efa",
          "pattern": {
           "shape": ""
          }
         },
         "name": "",
         "offsetgroup": "",
         "orientation": "v",
         "showlegend": false,
         "type": "histogram",
         "x": [
          "  기타 기계 및 장비 제조업 ",
          "  기타 기계 및 장비 제조업 ",
          "  기타 기계 및 장비 제조업 ",
          "  종합 건설업 ",
          "  종합 건설업 ",
          "  1차 금속 제조업 ",
          "  1차 금속 제조업 ",
          "  1차 금속 제조업 ",
          "  전문 서비스업 ",
          "  의료용 물질 및 의약품 제조업 ",
          "  의료용 물질 및 의약품 제조업 ",
          "  의료용 물질 및 의약품 제조업 ",
          "  1차 금속 제조업 ",
          "  1차 금속 제조업 ",
          "  1차 금속 제조업 ",
          "  1차 금속 제조업 ",
          "  1차 금속 제조업 ",
          "  1차 금속 제조업 ",
          "  1차 금속 제조업 ",
          "  도매 및 상품 중개업 ",
          "  도매 및 상품 중개업 ",
          "  도매 및 상품 중개업 ",
          "  도매 및 상품 중개업 ",
          "  도매 및 상품 중개업 ",
          "  도매 및 상품 중개업 ",
          "  전자부품, 컴퓨터, 영상, 음향 및 통신장비 제조업 ",
          "  전자부품, 컴퓨터, 영상, 음향 및 통신장비 제조업 ",
          "  자동차 및 트레일러 제조업 ",
          "  자동차 및 트레일러 제조업 ",
          "  자동차 및 트레일러 제조업 ",
          "  자동차 및 트레일러 제조업 ",
          "  자동차 및 부품 판매업 ",
          "  자동차 및 부품 판매업 ",
          "  자동차 및 부품 판매업 ",
          "  자동차 및 부품 판매업 ",
          "  전문 서비스업 ",
          "  전문 서비스업 ",
          "  전문 서비스업 ",
          "  전문 서비스업 ",
          "  전문 서비스업 ",
          "  전문 서비스업 ",
          "  전문 서비스업 ",
          "  종합 건설업 ",
          "  종합 건설업 ",
          "  전문 서비스업 ",
          "  전문 서비스업 ",
          "  전문 서비스업 ",
          "  전문 서비스업 ",
          "  전문 서비스업 ",
          "  화학물질 및 화학제품 제조업; 의약품 제외 ",
          "  화학물질 및 화학제품 제조업; 의약품 제외 ",
          "  화학물질 및 화학제품 제조업; 의약품 제외 ",
          "  화학물질 및 화학제품 제조업; 의약품 제외 ",
          "  화학물질 및 화학제품 제조업; 의약품 제외 ",
          "  화학물질 및 화학제품 제조업; 의약품 제외 ",
          "  기타 기계 및 장비 제조업 ",
          "  담배 제조업 ",
          "  담배 제조업 ",
          "  담배 제조업 ",
          "  담배 제조업 ",
          "  담배 제조업 ",
          "  담배 제조업 ",
          "  담배 제조업 ",
          "  기타 운송장비 제조업 ",
          "  종합 건설업 ",
          "  기타 기계 및 장비 제조업 ",
          "  기타 기계 및 장비 제조업 ",
          "  기타 기계 및 장비 제조업 ",
          "  기타 기계 및 장비 제조업 ",
          "  기타 기계 및 장비 제조업 ",
          "  전기장비 제조업 ",
          "  기타 기계 및 장비 제조업 ",
          "  기타 기계 및 장비 제조업 ",
          "  기타 기계 및 장비 제조업 ",
          "  화학물질 및 화학제품 제조업; 의약품 제외 ",
          "  화학물질 및 화학제품 제조업; 의약품 제외 ",
          "  화학물질 및 화학제품 제조업; 의약품 제외 ",
          "  화학물질 및 화학제품 제조업; 의약품 제외 ",
          "  의료용 물질 및 의약품 제조업 ",
          "  의료용 물질 및 의약품 제조업 ",
          "  전자부품, 컴퓨터, 영상, 음향 및 통신장비 제조업 ",
          "  전자부품, 컴퓨터, 영상, 음향 및 통신장비 제조업 ",
          "  도매 및 상품 중개업 ",
          "  항공 운송업 ",
          "  항공 운송업 ",
          "  자동차 및 트레일러 제조업 ",
          "  자동차 및 트레일러 제조업 ",
          "  자동차 및 트레일러 제조업 ",
          "  자동차 및 트레일러 제조업 ",
          "  자동차 및 트레일러 제조업 ",
          "  자동차 및 트레일러 제조업 ",
          "  기타 기계 및 장비 제조업 ",
          "  기타 기계 및 장비 제조업 ",
          "  기타 기계 및 장비 제조업 ",
          "  화학물질 및 화학제품 제조업; 의약품 제외 ",
          "  화학물질 및 화학제품 제조업; 의약품 제외 ",
          "  화학물질 및 화학제품 제조업; 의약품 제외 ",
          "  화학물질 및 화학제품 제조업; 의약품 제외 ",
          "  화학물질 및 화학제품 제조업; 의약품 제외 ",
          "  화학물질 및 화학제품 제조업; 의약품 제외 ",
          "  화학물질 및 화학제품 제조업; 의약품 제외 ",
          "  화학물질 및 화학제품 제조업; 의약품 제외 ",
          "  화학물질 및 화학제품 제조업; 의약품 제외 ",
          "  화학물질 및 화학제품 제조업; 의약품 제외 ",
          "  기타 기계 및 장비 제조업 ",
          "  건축기술, 엔지니어링 및 기타 과학기술 서비스업 ",
          "  건축기술, 엔지니어링 및 기타 과학기술 서비스업 ",
          "  건축기술, 엔지니어링 및 기타 과학기술 서비스업 ",
          "  기타 운송장비 제조업 ",
          "  기타 운송장비 제조업 ",
          "  기타 운송장비 제조업 ",
          "  기타 운송장비 제조업 ",
          "  기타 운송장비 제조업 ",
          "  기타 운송장비 제조업 ",
          "  펄프, 종이 및 종이제품 제조업 ",
          "  펄프, 종이 및 종이제품 제조업 ",
          "  전문 서비스업 ",
          "  전문 서비스업 ",
          "  종합 건설업 ",
          "  종합 건설업 ",
          "  기타 운송장비 제조업 ",
          "  기타 운송장비 제조업 ",
          "  기타 운송장비 제조업 ",
          "  기타 운송장비 제조업 ",
          "  종합 건설업 ",
          "  종합 건설업 ",
          "  종합 건설업 ",
          "  종합 건설업 ",
          "  자동차 및 트레일러 제조업 ",
          "  전자부품, 컴퓨터, 영상, 음향 및 통신장비 제조업 ",
          "  전자부품, 컴퓨터, 영상, 음향 및 통신장비 제조업 ",
          "  전자부품, 컴퓨터, 영상, 음향 및 통신장비 제조업 ",
          "  전자부품, 컴퓨터, 영상, 음향 및 통신장비 제조업 ",
          "  전자부품, 컴퓨터, 영상, 음향 및 통신장비 제조업 ",
          "  전자부품, 컴퓨터, 영상, 음향 및 통신장비 제조업 ",
          "  전자부품, 컴퓨터, 영상, 음향 및 통신장비 제조업 ",
          "  전자부품, 컴퓨터, 영상, 음향 및 통신장비 제조업 ",
          "  전자부품, 컴퓨터, 영상, 음향 및 통신장비 제조업 ",
          "  전자부품, 컴퓨터, 영상, 음향 및 통신장비 제조업 ",
          "  전자부품, 컴퓨터, 영상, 음향 및 통신장비 제조업 ",
          "  인쇄 및 기록매체 복제업 ",
          "  인쇄 및 기록매체 복제업 ",
          "  인쇄 및 기록매체 복제업 ",
          "  인쇄 및 기록매체 복제업 ",
          "  고무 및 플라스틱제품 제조업 ",
          "  고무 및 플라스틱제품 제조업 ",
          "  고무 및 플라스틱제품 제조업 ",
          "  고무 및 플라스틱제품 제조업 ",
          "  고무 및 플라스틱제품 제조업 ",
          "  기타 기계 및 장비 제조업 ",
          "  기타 기계 및 장비 제조업 ",
          "  의료, 정밀, 광학기기 및 시계 제조업 ",
          "  의료, 정밀, 광학기기 및 시계 제조업 ",
          "  의료, 정밀, 광학기기 및 시계 제조업 ",
          "  의료, 정밀, 광학기기 및 시계 제조업 ",
          "  의료, 정밀, 광학기기 및 시계 제조업 ",
          "  교육 서비스업 ",
          "  교육 서비스업 ",
          "  연구개발업 ",
          "  전자부품, 컴퓨터, 영상, 음향 및 통신장비 제조업 ",
          "  전자부품, 컴퓨터, 영상, 음향 및 통신장비 제조업 ",
          "  도매 및 상품 중개업 ",
          "  도매 및 상품 중개업 ",
          "  의료용 물질 및 의약품 제조업 ",
          "  의료용 물질 및 의약품 제조업 ",
          "  육상운송 및 파이프라인 운송업 ",
          "  육상운송 및 파이프라인 운송업 ",
          "  고무 및 플라스틱제품 제조업 ",
          "  고무 및 플라스틱제품 제조업 ",
          "  고무 및 플라스틱제품 제조업 ",
          "  고무 및 플라스틱제품 제조업 ",
          "  고무 및 플라스틱제품 제조업 ",
          "  도매 및 상품 중개업 ",
          "  의료용 물질 및 의약품 제조업 ",
          "  의료용 물질 및 의약품 제조업 ",
          "  의료용 물질 및 의약품 제조업 ",
          "  의료용 물질 및 의약품 제조업 ",
          "  종합 건설업 ",
          "  종합 건설업 ",
          "  종합 건설업 ",
          "  종합 건설업 ",
          "  종합 건설업 ",
          "  의료용 물질 및 의약품 제조업 ",
          "  의료용 물질 및 의약품 제조업 ",
          "  의료용 물질 및 의약품 제조업 ",
          "  의료용 물질 및 의약품 제조업 ",
          "  의료용 물질 및 의약품 제조업 ",
          "  의료용 물질 및 의약품 제조업 ",
          "  의료용 물질 및 의약품 제조업 ",
          "  의료용 물질 및 의약품 제조업 ",
          "  의료용 물질 및 의약품 제조업 ",
          "  도매 및 상품 중개업 ",
          "  도매 및 상품 중개업 ",
          "  전자부품, 컴퓨터, 영상, 음향 및 통신장비 제조업 ",
          "  전자부품, 컴퓨터, 영상, 음향 및 통신장비 제조업 ",
          "  출판업 ",
          "  출판업 ",
          "  출판업 ",
          "  출판업 ",
          "  출판업 ",
          "  방송 및 영상·오디오물 제공 서비스업 ",
          "  방송 및 영상·오디오물 제공 서비스업 ",
          "  방송 및 영상·오디오물 제공 서비스업 ",
          "  방송 및 영상·오디오물 제공 서비스업 ",
          "  전자부품, 컴퓨터, 영상, 음향 및 통신장비 제조업 ",
          "  화학물질 및 화학제품 제조업; 의약품 제외 ",
          "  전자부품, 컴퓨터, 영상, 음향 및 통신장비 제조업 ",
          "  전자부품, 컴퓨터, 영상, 음향 및 통신장비 제조업 ",
          "  전자부품, 컴퓨터, 영상, 음향 및 통신장비 제조업 ",
          "  교육 서비스업 ",
          "  교육 서비스업 ",
          "  의료용 물질 및 의약품 제조업 ",
          "  의료용 물질 및 의약품 제조업 ",
          "  의료용 물질 및 의약품 제조업 ",
          "  의료용 물질 및 의약품 제조업 ",
          "  의료용 물질 및 의약품 제조업 ",
          "  의료용 물질 및 의약품 제조업 ",
          "  의료용 물질 및 의약품 제조업 ",
          "  숙박업 ",
          "  숙박업 ",
          "  숙박업 ",
          "  숙박업 ",
          "  전자부품, 컴퓨터, 영상, 음향 및 통신장비 제조업 ",
          "  화학물질 및 화학제품 제조업; 의약품 제외 ",
          "  화학물질 및 화학제품 제조업; 의약품 제외 ",
          "  섬유제품 제조업; 의복제외 ",
          "  섬유제품 제조업; 의복제외 ",
          "  출판업 ",
          "  출판업 ",
          "  고무 및 플라스틱제품 제조업 ",
          "  고무 및 플라스틱제품 제조업 ",
          "  도매 및 상품 중개업 ",
          "  도매 및 상품 중개업 ",
          "  기타 기계 및 장비 제조업 ",
          "  기타 기계 및 장비 제조업 ",
          "  기타 기계 및 장비 제조업 ",
          "  기타 기계 및 장비 제조업 ",
          "  의료, 정밀, 광학기기 및 시계 제조업 ",
          "  전자부품, 컴퓨터, 영상, 음향 및 통신장비 제조업 ",
          "  도매 및 상품 중개업 ",
          "  도매 및 상품 중개업 ",
          "  도매 및 상품 중개업 ",
          "  도매 및 상품 중개업 ",
          "  도매 및 상품 중개업 ",
          "  도매 및 상품 중개업 ",
          "  도매 및 상품 중개업 ",
          "  도매 및 상품 중개업 ",
          "  기타 기계 및 장비 제조업 ",
          "  우편 및 통신업 ",
          "  우편 및 통신업 ",
          "  우편 및 통신업 ",
          "  우편 및 통신업 ",
          "  우편 및 통신업 ",
          "  도매 및 상품 중개업 ",
          "  도매 및 상품 중개업 ",
          "  도매 및 상품 중개업 ",
          "  전기장비 제조업 ",
          "  전기장비 제조업 ",
          "  도매 및 상품 중개업 ",
          "  도매 및 상품 중개업 ",
          "  전기장비 제조업 ",
          "  전기장비 제조업 ",
          "  전기장비 제조업 ",
          "  전기장비 제조업 ",
          "  전기장비 제조업 ",
          "  화학물질 및 화학제품 제조업; 의약품 제외 ",
          "  1차 금속 제조업 ",
          "  1차 금속 제조업 ",
          "  1차 금속 제조업 ",
          "  1차 금속 제조업 ",
          "  1차 금속 제조업 ",
          "  1차 금속 제조업 ",
          "  1차 금속 제조업 ",
          "  스포츠 및 오락관련 서비스업 ",
          "  스포츠 및 오락관련 서비스업 ",
          "  스포츠 및 오락관련 서비스업 ",
          "  스포츠 및 오락관련 서비스업 ",
          "  스포츠 및 오락관련 서비스업 ",
          "  스포츠 및 오락관련 서비스업 ",
          "  출판업 ",
          "  출판업 ",
          "  출판업 ",
          "  출판업 ",
          "  정보서비스업 ",
          "  도매 및 상품 중개업 ",
          "  도매 및 상품 중개업 ",
          "  전자부품, 컴퓨터, 영상, 음향 및 통신장비 제조업 ",
          "  전자부품, 컴퓨터, 영상, 음향 및 통신장비 제조업 ",
          "  도매 및 상품 중개업 ",
          "  도매 및 상품 중개업 ",
          "  도매 및 상품 중개업 ",
          "  도매 및 상품 중개업 ",
          "  기타 기계 및 장비 제조업 ",
          "  기타 기계 및 장비 제조업 ",
          "  기타 기계 및 장비 제조업 ",
          "  전문직별 공사업 ",
          "  출판업 ",
          "  출판업 ",
          "  출판업 ",
          "  출판업 ",
          "  출판업 ",
          "  출판업 ",
          "  출판업 ",
          "  출판업 ",
          "  화학물질 및 화학제품 제조업; 의약품 제외 ",
          "  화학물질 및 화학제품 제조업; 의약품 제외 ",
          "  교육 서비스업 ",
          "  교육 서비스업 ",
          "  전자부품, 컴퓨터, 영상, 음향 및 통신장비 제조업 ",
          "  전자부품, 컴퓨터, 영상, 음향 및 통신장비 제조업 ",
          "  전자부품, 컴퓨터, 영상, 음향 및 통신장비 제조업 ",
          "  기타 기계 및 장비 제조업 ",
          "  기타 기계 및 장비 제조업 ",
          "  기타 기계 및 장비 제조업 ",
          "  기타 기계 및 장비 제조업 ",
          "  기타 기계 및 장비 제조업 ",
          "  전자부품, 컴퓨터, 영상, 음향 및 통신장비 제조업 ",
          "  전자부품, 컴퓨터, 영상, 음향 및 통신장비 제조업 ",
          "  전자부품, 컴퓨터, 영상, 음향 및 통신장비 제조업 ",
          "  전자부품, 컴퓨터, 영상, 음향 및 통신장비 제조업 ",
          "  전자부품, 컴퓨터, 영상, 음향 및 통신장비 제조업 ",
          "  전자부품, 컴퓨터, 영상, 음향 및 통신장비 제조업 ",
          "  전자부품, 컴퓨터, 영상, 음향 및 통신장비 제조업 ",
          "  기타 기계 및 장비 제조업 ",
          "  기타 기계 및 장비 제조업 ",
          "  기타 기계 및 장비 제조업 ",
          "  기타 기계 및 장비 제조업 ",
          "  기타 기계 및 장비 제조업 ",
          "  기타 기계 및 장비 제조업 ",
          "  기타 기계 및 장비 제조업 ",
          "  고무 및 플라스틱제품 제조업 ",
          "  고무 및 플라스틱제품 제조업 ",
          "  식료품 제조업 ",
          "  정보서비스업 ",
          "  기타 기계 및 장비 제조업 ",
          "  기타 기계 및 장비 제조업 ",
          "  의료용 물질 및 의약품 제조업 ",
          "  의료용 물질 및 의약품 제조업 ",
          "  고무 및 플라스틱제품 제조업 ",
          "  전기, 가스, 증기 및 공기조절 공급업 ",
          "  전기, 가스, 증기 및 공기조절 공급업 ",
          "  전기, 가스, 증기 및 공기조절 공급업 ",
          "  전기, 가스, 증기 및 공기조절 공급업 ",
          "  폐기물 수집, 운반, 처리 및 원료 재생업 ",
          "  폐기물 수집, 운반, 처리 및 원료 재생업 ",
          "  폐기물 수집, 운반, 처리 및 원료 재생업 ",
          "  폐기물 수집, 운반, 처리 및 원료 재생업 ",
          "  폐기물 수집, 운반, 처리 및 원료 재생업 ",
          "  자동차 및 부품 판매업 ",
          "  기타 기계 및 장비 제조업 ",
          "  기타 기계 및 장비 제조업 ",
          "  기타 기계 및 장비 제조업 ",
          "  전자부품, 컴퓨터, 영상, 음향 및 통신장비 제조업 ",
          "  전자부품, 컴퓨터, 영상, 음향 및 통신장비 제조업 ",
          "  전자부품, 컴퓨터, 영상, 음향 및 통신장비 제조업 ",
          "  전자부품, 컴퓨터, 영상, 음향 및 통신장비 제조업 ",
          "  전자부품, 컴퓨터, 영상, 음향 및 통신장비 제조업 ",
          "  종합 건설업 ",
          "  종합 건설업 ",
          "  출판업 ",
          "  출판업 ",
          "  자동차 및 부품 판매업 ",
          "  금속가공제품 제조업; 기계 및 가구 제외 ",
          "  금속가공제품 제조업; 기계 및 가구 제외 ",
          "  금속가공제품 제조업; 기계 및 가구 제외 ",
          "  도매 및 상품 중개업 ",
          "  도매 및 상품 중개업 ",
          "  도매 및 상품 중개업 ",
          "  도매 및 상품 중개업 ",
          "  사업시설 관리 및 조경 서비스업 ",
          "  사업시설 관리 및 조경 서비스업 ",
          "  사업시설 관리 및 조경 서비스업 ",
          "  금속가공제품 제조업; 기계 및 가구 제외 ",
          "  금속가공제품 제조업; 기계 및 가구 제외 ",
          "  기타 기계 및 장비 제조업 ",
          "  기타 기계 및 장비 제조업 ",
          "  비금속 광물제품 제조업 ",
          "  비금속 광물제품 제조업 ",
          "  출판업 ",
          "  전자부품, 컴퓨터, 영상, 음향 및 통신장비 제조업 ",
          "  전자부품, 컴퓨터, 영상, 음향 및 통신장비 제조업 ",
          "  기타 기계 및 장비 제조업 ",
          "  도매 및 상품 중개업 ",
          "  기타 기계 및 장비 제조업 ",
          "  기타 기계 및 장비 제조업 ",
          "  기타 기계 및 장비 제조업 ",
          "  기타 기계 및 장비 제조업 ",
          "  기타 기계 및 장비 제조업 ",
          "  기타 기계 및 장비 제조업 ",
          "  기타 기계 및 장비 제조업 ",
          "  기타 기계 및 장비 제조업 ",
          "  기타 기계 및 장비 제조업 "
         ],
         "xaxis": "x",
         "yaxis": "y"
        }
       ],
       "layout": {
        "barmode": "relative",
        "legend": {
         "tracegroupgap": 0
        },
        "template": {
         "data": {
          "bar": [
           {
            "error_x": {
             "color": "#2a3f5f"
            },
            "error_y": {
             "color": "#2a3f5f"
            },
            "marker": {
             "line": {
              "color": "#E5ECF6",
              "width": 0.5
             },
             "pattern": {
              "fillmode": "overlay",
              "size": 10,
              "solidity": 0.2
             }
            },
            "type": "bar"
           }
          ],
          "barpolar": [
           {
            "marker": {
             "line": {
              "color": "#E5ECF6",
              "width": 0.5
             },
             "pattern": {
              "fillmode": "overlay",
              "size": 10,
              "solidity": 0.2
             }
            },
            "type": "barpolar"
           }
          ],
          "carpet": [
           {
            "aaxis": {
             "endlinecolor": "#2a3f5f",
             "gridcolor": "white",
             "linecolor": "white",
             "minorgridcolor": "white",
             "startlinecolor": "#2a3f5f"
            },
            "baxis": {
             "endlinecolor": "#2a3f5f",
             "gridcolor": "white",
             "linecolor": "white",
             "minorgridcolor": "white",
             "startlinecolor": "#2a3f5f"
            },
            "type": "carpet"
           }
          ],
          "choropleth": [
           {
            "colorbar": {
             "outlinewidth": 0,
             "ticks": ""
            },
            "type": "choropleth"
           }
          ],
          "contour": [
           {
            "colorbar": {
             "outlinewidth": 0,
             "ticks": ""
            },
            "colorscale": [
             [
              0,
              "#0d0887"
             ],
             [
              0.1111111111111111,
              "#46039f"
             ],
             [
              0.2222222222222222,
              "#7201a8"
             ],
             [
              0.3333333333333333,
              "#9c179e"
             ],
             [
              0.4444444444444444,
              "#bd3786"
             ],
             [
              0.5555555555555556,
              "#d8576b"
             ],
             [
              0.6666666666666666,
              "#ed7953"
             ],
             [
              0.7777777777777778,
              "#fb9f3a"
             ],
             [
              0.8888888888888888,
              "#fdca26"
             ],
             [
              1,
              "#f0f921"
             ]
            ],
            "type": "contour"
           }
          ],
          "contourcarpet": [
           {
            "colorbar": {
             "outlinewidth": 0,
             "ticks": ""
            },
            "type": "contourcarpet"
           }
          ],
          "heatmap": [
           {
            "colorbar": {
             "outlinewidth": 0,
             "ticks": ""
            },
            "colorscale": [
             [
              0,
              "#0d0887"
             ],
             [
              0.1111111111111111,
              "#46039f"
             ],
             [
              0.2222222222222222,
              "#7201a8"
             ],
             [
              0.3333333333333333,
              "#9c179e"
             ],
             [
              0.4444444444444444,
              "#bd3786"
             ],
             [
              0.5555555555555556,
              "#d8576b"
             ],
             [
              0.6666666666666666,
              "#ed7953"
             ],
             [
              0.7777777777777778,
              "#fb9f3a"
             ],
             [
              0.8888888888888888,
              "#fdca26"
             ],
             [
              1,
              "#f0f921"
             ]
            ],
            "type": "heatmap"
           }
          ],
          "heatmapgl": [
           {
            "colorbar": {
             "outlinewidth": 0,
             "ticks": ""
            },
            "colorscale": [
             [
              0,
              "#0d0887"
             ],
             [
              0.1111111111111111,
              "#46039f"
             ],
             [
              0.2222222222222222,
              "#7201a8"
             ],
             [
              0.3333333333333333,
              "#9c179e"
             ],
             [
              0.4444444444444444,
              "#bd3786"
             ],
             [
              0.5555555555555556,
              "#d8576b"
             ],
             [
              0.6666666666666666,
              "#ed7953"
             ],
             [
              0.7777777777777778,
              "#fb9f3a"
             ],
             [
              0.8888888888888888,
              "#fdca26"
             ],
             [
              1,
              "#f0f921"
             ]
            ],
            "type": "heatmapgl"
           }
          ],
          "histogram": [
           {
            "marker": {
             "pattern": {
              "fillmode": "overlay",
              "size": 10,
              "solidity": 0.2
             }
            },
            "type": "histogram"
           }
          ],
          "histogram2d": [
           {
            "colorbar": {
             "outlinewidth": 0,
             "ticks": ""
            },
            "colorscale": [
             [
              0,
              "#0d0887"
             ],
             [
              0.1111111111111111,
              "#46039f"
             ],
             [
              0.2222222222222222,
              "#7201a8"
             ],
             [
              0.3333333333333333,
              "#9c179e"
             ],
             [
              0.4444444444444444,
              "#bd3786"
             ],
             [
              0.5555555555555556,
              "#d8576b"
             ],
             [
              0.6666666666666666,
              "#ed7953"
             ],
             [
              0.7777777777777778,
              "#fb9f3a"
             ],
             [
              0.8888888888888888,
              "#fdca26"
             ],
             [
              1,
              "#f0f921"
             ]
            ],
            "type": "histogram2d"
           }
          ],
          "histogram2dcontour": [
           {
            "colorbar": {
             "outlinewidth": 0,
             "ticks": ""
            },
            "colorscale": [
             [
              0,
              "#0d0887"
             ],
             [
              0.1111111111111111,
              "#46039f"
             ],
             [
              0.2222222222222222,
              "#7201a8"
             ],
             [
              0.3333333333333333,
              "#9c179e"
             ],
             [
              0.4444444444444444,
              "#bd3786"
             ],
             [
              0.5555555555555556,
              "#d8576b"
             ],
             [
              0.6666666666666666,
              "#ed7953"
             ],
             [
              0.7777777777777778,
              "#fb9f3a"
             ],
             [
              0.8888888888888888,
              "#fdca26"
             ],
             [
              1,
              "#f0f921"
             ]
            ],
            "type": "histogram2dcontour"
           }
          ],
          "mesh3d": [
           {
            "colorbar": {
             "outlinewidth": 0,
             "ticks": ""
            },
            "type": "mesh3d"
           }
          ],
          "parcoords": [
           {
            "line": {
             "colorbar": {
              "outlinewidth": 0,
              "ticks": ""
             }
            },
            "type": "parcoords"
           }
          ],
          "pie": [
           {
            "automargin": true,
            "type": "pie"
           }
          ],
          "scatter": [
           {
            "fillpattern": {
             "fillmode": "overlay",
             "size": 10,
             "solidity": 0.2
            },
            "type": "scatter"
           }
          ],
          "scatter3d": [
           {
            "line": {
             "colorbar": {
              "outlinewidth": 0,
              "ticks": ""
             }
            },
            "marker": {
             "colorbar": {
              "outlinewidth": 0,
              "ticks": ""
             }
            },
            "type": "scatter3d"
           }
          ],
          "scattercarpet": [
           {
            "marker": {
             "colorbar": {
              "outlinewidth": 0,
              "ticks": ""
             }
            },
            "type": "scattercarpet"
           }
          ],
          "scattergeo": [
           {
            "marker": {
             "colorbar": {
              "outlinewidth": 0,
              "ticks": ""
             }
            },
            "type": "scattergeo"
           }
          ],
          "scattergl": [
           {
            "marker": {
             "colorbar": {
              "outlinewidth": 0,
              "ticks": ""
             }
            },
            "type": "scattergl"
           }
          ],
          "scattermapbox": [
           {
            "marker": {
             "colorbar": {
              "outlinewidth": 0,
              "ticks": ""
             }
            },
            "type": "scattermapbox"
           }
          ],
          "scatterpolar": [
           {
            "marker": {
             "colorbar": {
              "outlinewidth": 0,
              "ticks": ""
             }
            },
            "type": "scatterpolar"
           }
          ],
          "scatterpolargl": [
           {
            "marker": {
             "colorbar": {
              "outlinewidth": 0,
              "ticks": ""
             }
            },
            "type": "scatterpolargl"
           }
          ],
          "scatterternary": [
           {
            "marker": {
             "colorbar": {
              "outlinewidth": 0,
              "ticks": ""
             }
            },
            "type": "scatterternary"
           }
          ],
          "surface": [
           {
            "colorbar": {
             "outlinewidth": 0,
             "ticks": ""
            },
            "colorscale": [
             [
              0,
              "#0d0887"
             ],
             [
              0.1111111111111111,
              "#46039f"
             ],
             [
              0.2222222222222222,
              "#7201a8"
             ],
             [
              0.3333333333333333,
              "#9c179e"
             ],
             [
              0.4444444444444444,
              "#bd3786"
             ],
             [
              0.5555555555555556,
              "#d8576b"
             ],
             [
              0.6666666666666666,
              "#ed7953"
             ],
             [
              0.7777777777777778,
              "#fb9f3a"
             ],
             [
              0.8888888888888888,
              "#fdca26"
             ],
             [
              1,
              "#f0f921"
             ]
            ],
            "type": "surface"
           }
          ],
          "table": [
           {
            "cells": {
             "fill": {
              "color": "#EBF0F8"
             },
             "line": {
              "color": "white"
             }
            },
            "header": {
             "fill": {
              "color": "#C8D4E3"
             },
             "line": {
              "color": "white"
             }
            },
            "type": "table"
           }
          ]
         },
         "layout": {
          "annotationdefaults": {
           "arrowcolor": "#2a3f5f",
           "arrowhead": 0,
           "arrowwidth": 1
          },
          "autotypenumbers": "strict",
          "coloraxis": {
           "colorbar": {
            "outlinewidth": 0,
            "ticks": ""
           }
          },
          "colorscale": {
           "diverging": [
            [
             0,
             "#8e0152"
            ],
            [
             0.1,
             "#c51b7d"
            ],
            [
             0.2,
             "#de77ae"
            ],
            [
             0.3,
             "#f1b6da"
            ],
            [
             0.4,
             "#fde0ef"
            ],
            [
             0.5,
             "#f7f7f7"
            ],
            [
             0.6,
             "#e6f5d0"
            ],
            [
             0.7,
             "#b8e186"
            ],
            [
             0.8,
             "#7fbc41"
            ],
            [
             0.9,
             "#4d9221"
            ],
            [
             1,
             "#276419"
            ]
           ],
           "sequential": [
            [
             0,
             "#0d0887"
            ],
            [
             0.1111111111111111,
             "#46039f"
            ],
            [
             0.2222222222222222,
             "#7201a8"
            ],
            [
             0.3333333333333333,
             "#9c179e"
            ],
            [
             0.4444444444444444,
             "#bd3786"
            ],
            [
             0.5555555555555556,
             "#d8576b"
            ],
            [
             0.6666666666666666,
             "#ed7953"
            ],
            [
             0.7777777777777778,
             "#fb9f3a"
            ],
            [
             0.8888888888888888,
             "#fdca26"
            ],
            [
             1,
             "#f0f921"
            ]
           ],
           "sequentialminus": [
            [
             0,
             "#0d0887"
            ],
            [
             0.1111111111111111,
             "#46039f"
            ],
            [
             0.2222222222222222,
             "#7201a8"
            ],
            [
             0.3333333333333333,
             "#9c179e"
            ],
            [
             0.4444444444444444,
             "#bd3786"
            ],
            [
             0.5555555555555556,
             "#d8576b"
            ],
            [
             0.6666666666666666,
             "#ed7953"
            ],
            [
             0.7777777777777778,
             "#fb9f3a"
            ],
            [
             0.8888888888888888,
             "#fdca26"
            ],
            [
             1,
             "#f0f921"
            ]
           ]
          },
          "colorway": [
           "#636efa",
           "#EF553B",
           "#00cc96",
           "#ab63fa",
           "#FFA15A",
           "#19d3f3",
           "#FF6692",
           "#B6E880",
           "#FF97FF",
           "#FECB52"
          ],
          "font": {
           "color": "#2a3f5f"
          },
          "geo": {
           "bgcolor": "white",
           "lakecolor": "white",
           "landcolor": "#E5ECF6",
           "showlakes": true,
           "showland": true,
           "subunitcolor": "white"
          },
          "hoverlabel": {
           "align": "left"
          },
          "hovermode": "closest",
          "mapbox": {
           "style": "light"
          },
          "paper_bgcolor": "white",
          "plot_bgcolor": "#E5ECF6",
          "polar": {
           "angularaxis": {
            "gridcolor": "white",
            "linecolor": "white",
            "ticks": ""
           },
           "bgcolor": "#E5ECF6",
           "radialaxis": {
            "gridcolor": "white",
            "linecolor": "white",
            "ticks": ""
           }
          },
          "scene": {
           "xaxis": {
            "backgroundcolor": "#E5ECF6",
            "gridcolor": "white",
            "gridwidth": 2,
            "linecolor": "white",
            "showbackground": true,
            "ticks": "",
            "zerolinecolor": "white"
           },
           "yaxis": {
            "backgroundcolor": "#E5ECF6",
            "gridcolor": "white",
            "gridwidth": 2,
            "linecolor": "white",
            "showbackground": true,
            "ticks": "",
            "zerolinecolor": "white"
           },
           "zaxis": {
            "backgroundcolor": "#E5ECF6",
            "gridcolor": "white",
            "gridwidth": 2,
            "linecolor": "white",
            "showbackground": true,
            "ticks": "",
            "zerolinecolor": "white"
           }
          },
          "shapedefaults": {
           "line": {
            "color": "#2a3f5f"
           }
          },
          "ternary": {
           "aaxis": {
            "gridcolor": "white",
            "linecolor": "white",
            "ticks": ""
           },
           "baxis": {
            "gridcolor": "white",
            "linecolor": "white",
            "ticks": ""
           },
           "bgcolor": "#E5ECF6",
           "caxis": {
            "gridcolor": "white",
            "linecolor": "white",
            "ticks": ""
           }
          },
          "title": {
           "x": 0.05
          },
          "xaxis": {
           "automargin": true,
           "gridcolor": "white",
           "linecolor": "white",
           "ticks": "",
           "title": {
            "standoff": 15
           },
           "zerolinecolor": "white",
           "zerolinewidth": 2
          },
          "yaxis": {
           "automargin": true,
           "gridcolor": "white",
           "linecolor": "white",
           "ticks": "",
           "title": {
            "standoff": 15
           },
           "zerolinecolor": "white",
           "zerolinewidth": 2
          }
         }
        },
        "title": {
         "text": "Count Plot of 산업명"
        },
        "xaxis": {
         "anchor": "y",
         "categoryarray": [
          "  기타 기계 및 장비 제조업 ",
          "  전자부품, 컴퓨터, 영상, 음향 및 통신장비 제조업 ",
          "  도매 및 상품 중개업 ",
          "  의료용 물질 및 의약품 제조업 ",
          "  화학물질 및 화학제품 제조업; 의약품 제외 ",
          "  출판업 ",
          "  종합 건설업 ",
          "  1차 금속 제조업 ",
          "  고무 및 플라스틱제품 제조업 ",
          "  전문 서비스업 ",
          "  자동차 및 트레일러 제조업 ",
          "  기타 운송장비 제조업 ",
          "  전기장비 제조업 ",
          "  담배 제조업 ",
          "  스포츠 및 오락관련 서비스업 ",
          "  교육 서비스업 ",
          "  의료, 정밀, 광학기기 및 시계 제조업 ",
          "  자동차 및 부품 판매업 ",
          "  우편 및 통신업 ",
          "  금속가공제품 제조업; 기계 및 가구 제외 ",
          "  폐기물 수집, 운반, 처리 및 원료 재생업 ",
          "  숙박업 ",
          "  전기, 가스, 증기 및 공기조절 공급업 ",
          "  인쇄 및 기록매체 복제업 ",
          "  방송 및 영상·오디오물 제공 서비스업 ",
          "  건축기술, 엔지니어링 및 기타 과학기술 서비스업 ",
          "  사업시설 관리 및 조경 서비스업 ",
          "  섬유제품 제조업; 의복제외 ",
          "  펄프, 종이 및 종이제품 제조업 ",
          "  항공 운송업 ",
          "  정보서비스업 ",
          "  육상운송 및 파이프라인 운송업 ",
          "  비금속 광물제품 제조업 ",
          "  전문직별 공사업 ",
          "  식료품 제조업 ",
          "  연구개발업 "
         ],
         "categoryorder": "array",
         "domain": [
          0,
          1
         ],
         "title": {
          "text": "산업명"
         }
        },
        "yaxis": {
         "anchor": "x",
         "domain": [
          0,
          1
         ],
         "title": {
          "text": "count"
         }
        }
       }
      }
     },
     "metadata": {},
     "output_type": "display_data"
    }
   ],
   "source": [
    "utils.plot_count_plot(df, '산업명')"
   ]
  },
  {
   "cell_type": "code",
   "execution_count": 13,
   "metadata": {},
   "outputs": [],
   "source": [
    "def chi_square(array1, array2):\n",
    "    \"\"\"Categorical vs Categorical\"\"\"\n",
    "    contingency_table = pd.crosstab(array1, array2)\n",
    "    chi2, p, dof, expected = chi2_contingency(contingency_table)\n",
    "    return chi2, p, dof, expected, contingency_table"
   ]
  },
  {
   "cell_type": "code",
   "execution_count": 14,
   "metadata": {},
   "outputs": [],
   "source": [
    "chi2, p, dof, expected, contingency_table = chi_square(df['label'], df['산업명'])"
   ]
  },
  {
   "cell_type": "code",
   "execution_count": 16,
   "metadata": {},
   "outputs": [
    {
     "data": {
      "text/plain": [
       "3.938259767184828e-05"
      ]
     },
     "execution_count": 16,
     "metadata": {},
     "output_type": "execute_result"
    }
   ],
   "source": [
    "p"
   ]
  },
  {
   "cell_type": "code",
   "execution_count": 15,
   "metadata": {},
   "outputs": [
    {
     "data": {
      "text/html": [
       "<div>\n",
       "<style scoped>\n",
       "    .dataframe tbody tr th:only-of-type {\n",
       "        vertical-align: middle;\n",
       "    }\n",
       "\n",
       "    .dataframe tbody tr th {\n",
       "        vertical-align: top;\n",
       "    }\n",
       "\n",
       "    .dataframe thead th {\n",
       "        text-align: right;\n",
       "    }\n",
       "</style>\n",
       "<table border=\"1\" class=\"dataframe\">\n",
       "  <thead>\n",
       "    <tr style=\"text-align: right;\">\n",
       "      <th>산업명</th>\n",
       "      <th>1차 금속 제조업</th>\n",
       "      <th>건축기술, 엔지니어링 및 기타 과학기술 서비스업</th>\n",
       "      <th>고무 및 플라스틱제품 제조업</th>\n",
       "      <th>교육 서비스업</th>\n",
       "      <th>금속가공제품 제조업; 기계 및 가구 제외</th>\n",
       "      <th>기타 기계 및 장비 제조업</th>\n",
       "      <th>기타 운송장비 제조업</th>\n",
       "      <th>담배 제조업</th>\n",
       "      <th>도매 및 상품 중개업</th>\n",
       "      <th>방송 및 영상·오디오물 제공 서비스업</th>\n",
       "      <th>...</th>\n",
       "      <th>전문 서비스업</th>\n",
       "      <th>전문직별 공사업</th>\n",
       "      <th>전자부품, 컴퓨터, 영상, 음향 및 통신장비 제조업</th>\n",
       "      <th>정보서비스업</th>\n",
       "      <th>종합 건설업</th>\n",
       "      <th>출판업</th>\n",
       "      <th>펄프, 종이 및 종이제품 제조업</th>\n",
       "      <th>폐기물 수집, 운반, 처리 및 원료 재생업</th>\n",
       "      <th>항공 운송업</th>\n",
       "      <th>화학물질 및 화학제품 제조업; 의약품 제외</th>\n",
       "    </tr>\n",
       "    <tr>\n",
       "      <th>label</th>\n",
       "      <th></th>\n",
       "      <th></th>\n",
       "      <th></th>\n",
       "      <th></th>\n",
       "      <th></th>\n",
       "      <th></th>\n",
       "      <th></th>\n",
       "      <th></th>\n",
       "      <th></th>\n",
       "      <th></th>\n",
       "      <th></th>\n",
       "      <th></th>\n",
       "      <th></th>\n",
       "      <th></th>\n",
       "      <th></th>\n",
       "      <th></th>\n",
       "      <th></th>\n",
       "      <th></th>\n",
       "      <th></th>\n",
       "      <th></th>\n",
       "      <th></th>\n",
       "    </tr>\n",
       "  </thead>\n",
       "  <tbody>\n",
       "    <tr>\n",
       "      <th>0</th>\n",
       "      <td>0</td>\n",
       "      <td>0</td>\n",
       "      <td>4</td>\n",
       "      <td>0</td>\n",
       "      <td>3</td>\n",
       "      <td>14</td>\n",
       "      <td>1</td>\n",
       "      <td>0</td>\n",
       "      <td>10</td>\n",
       "      <td>0</td>\n",
       "      <td>...</td>\n",
       "      <td>4</td>\n",
       "      <td>0</td>\n",
       "      <td>7</td>\n",
       "      <td>1</td>\n",
       "      <td>8</td>\n",
       "      <td>8</td>\n",
       "      <td>0</td>\n",
       "      <td>2</td>\n",
       "      <td>2</td>\n",
       "      <td>11</td>\n",
       "    </tr>\n",
       "    <tr>\n",
       "      <th>1</th>\n",
       "      <td>17</td>\n",
       "      <td>3</td>\n",
       "      <td>11</td>\n",
       "      <td>6</td>\n",
       "      <td>2</td>\n",
       "      <td>41</td>\n",
       "      <td>10</td>\n",
       "      <td>7</td>\n",
       "      <td>28</td>\n",
       "      <td>4</td>\n",
       "      <td>...</td>\n",
       "      <td>11</td>\n",
       "      <td>1</td>\n",
       "      <td>37</td>\n",
       "      <td>1</td>\n",
       "      <td>10</td>\n",
       "      <td>14</td>\n",
       "      <td>2</td>\n",
       "      <td>3</td>\n",
       "      <td>0</td>\n",
       "      <td>15</td>\n",
       "    </tr>\n",
       "  </tbody>\n",
       "</table>\n",
       "<p>2 rows × 36 columns</p>\n",
       "</div>"
      ],
      "text/plain": [
       "산업명    1차 금속 제조업   건축기술, 엔지니어링 및 기타 과학기술 서비스업   고무 및 플라스틱제품 제조업   교육 서비스업   \\\n",
       "label                                                                        \n",
       "0               0                            0                 4         0   \n",
       "1              17                            3                11         6   \n",
       "\n",
       "산업명    금속가공제품 제조업; 기계 및 가구 제외   기타 기계 및 장비 제조업   기타 운송장비 제조업   담배 제조업   \\\n",
       "label                                                                    \n",
       "0                            3               14             1        0   \n",
       "1                            2               41            10        7   \n",
       "\n",
       "산업명    도매 및 상품 중개업   방송 및 영상·오디오물 제공 서비스업   ...  전문 서비스업   전문직별 공사업   \\\n",
       "label                                       ...                        \n",
       "0                10                      0  ...         4          0   \n",
       "1                28                      4  ...        11          1   \n",
       "\n",
       "산업명    전자부품, 컴퓨터, 영상, 음향 및 통신장비 제조업   정보서비스업   종합 건설업   출판업   \\\n",
       "label                                                          \n",
       "0                                  7        1        8     8   \n",
       "1                                 37        1       10    14   \n",
       "\n",
       "산업명    펄프, 종이 및 종이제품 제조업   폐기물 수집, 운반, 처리 및 원료 재생업   항공 운송업   \\\n",
       "label                                                          \n",
       "0                       0                         2        2   \n",
       "1                       2                         3        0   \n",
       "\n",
       "산업명    화학물질 및 화학제품 제조업; 의약품 제외   \n",
       "label                            \n",
       "0                            11  \n",
       "1                            15  \n",
       "\n",
       "[2 rows x 36 columns]"
      ]
     },
     "execution_count": 15,
     "metadata": {},
     "output_type": "execute_result"
    }
   ],
   "source": [
    "contingency_table"
   ]
  },
  {
   "cell_type": "code",
   "execution_count": null,
   "metadata": {},
   "outputs": [],
   "source": []
  },
  {
   "cell_type": "code",
   "execution_count": null,
   "metadata": {},
   "outputs": [],
   "source": []
  },
  {
   "cell_type": "code",
   "execution_count": null,
   "metadata": {},
   "outputs": [],
   "source": [
    "def numerical_test(array1, array2):\n",
    "    \"\"\"\n",
    "    Numerical vs Numerical\n",
    "    \"\"\"\n",
    "    scaler = StandardScaler()\n",
    "    array = np.concatenate([array1, array2])\n",
    "    array = scaler.fit_transform(array.reshape(-1, 1)).flatten()\n",
    "\n",
    "    array1_norm = array[:len(array1)]\n",
    "    array2_norm = array[len(array1):]\n",
    "\n",
    "    t_stat, t_p = ttest_ind(array1_norm, array2_norm)\n",
    "    ks_stat, ks_p = ks_2samp(array1_norm, array2_norm)\n",
    "\n",
    "    return t_stat, t_p, ks_stat, ks_p"
   ]
  },
  {
   "cell_type": "code",
   "execution_count": 21,
   "metadata": {},
   "outputs": [],
   "source": [
    "import utils2"
   ]
  },
  {
   "cell_type": "code",
   "execution_count": 23,
   "metadata": {},
   "outputs": [
    {
     "data": {
      "application/vnd.plotly.v1+json": {
       "config": {
        "plotlyServerURL": "https://plot.ly"
       },
       "data": [
        {
         "alignmentgroup": "True",
         "bingroup": "x",
         "hovertemplate": "산업명=%{x}<br>count=%{y}<extra></extra>",
         "legendgroup": "",
         "marker": {
          "color": "#636efa",
          "pattern": {
           "shape": ""
          }
         },
         "name": "",
         "offsetgroup": "",
         "orientation": "v",
         "showlegend": false,
         "type": "histogram",
         "x": [
          "  기타 기계 및 장비 제조업 ",
          "  기타 기계 및 장비 제조업 ",
          "  기타 기계 및 장비 제조업 ",
          "  종합 건설업 ",
          "  종합 건설업 ",
          "  1차 금속 제조업 ",
          "  1차 금속 제조업 ",
          "  1차 금속 제조업 ",
          "  전문 서비스업 ",
          "  의료용 물질 및 의약품 제조업 ",
          "  의료용 물질 및 의약품 제조업 ",
          "  의료용 물질 및 의약품 제조업 ",
          "  1차 금속 제조업 ",
          "  1차 금속 제조업 ",
          "  1차 금속 제조업 ",
          "  1차 금속 제조업 ",
          "  1차 금속 제조업 ",
          "  1차 금속 제조업 ",
          "  1차 금속 제조업 ",
          "  도매 및 상품 중개업 ",
          "  도매 및 상품 중개업 ",
          "  도매 및 상품 중개업 ",
          "  도매 및 상품 중개업 ",
          "  도매 및 상품 중개업 ",
          "  도매 및 상품 중개업 ",
          "  전자부품, 컴퓨터, 영상, 음향 및 통신장비 제조업 ",
          "  전자부품, 컴퓨터, 영상, 음향 및 통신장비 제조업 ",
          "  자동차 및 트레일러 제조업 ",
          "  자동차 및 트레일러 제조업 ",
          "  자동차 및 트레일러 제조업 ",
          "  자동차 및 트레일러 제조업 ",
          "  자동차 및 부품 판매업 ",
          "  자동차 및 부품 판매업 ",
          "  자동차 및 부품 판매업 ",
          "  자동차 및 부품 판매업 ",
          "  전문 서비스업 ",
          "  전문 서비스업 ",
          "  전문 서비스업 ",
          "  전문 서비스업 ",
          "  전문 서비스업 ",
          "  전문 서비스업 ",
          "  전문 서비스업 ",
          "  종합 건설업 ",
          "  종합 건설업 ",
          "  전문 서비스업 ",
          "  전문 서비스업 ",
          "  전문 서비스업 ",
          "  전문 서비스업 ",
          "  전문 서비스업 ",
          "  화학물질 및 화학제품 제조업; 의약품 제외 ",
          "  화학물질 및 화학제품 제조업; 의약품 제외 ",
          "  화학물질 및 화학제품 제조업; 의약품 제외 ",
          "  화학물질 및 화학제품 제조업; 의약품 제외 ",
          "  화학물질 및 화학제품 제조업; 의약품 제외 ",
          "  화학물질 및 화학제품 제조업; 의약품 제외 ",
          "  기타 기계 및 장비 제조업 ",
          "  담배 제조업 ",
          "  담배 제조업 ",
          "  담배 제조업 ",
          "  담배 제조업 ",
          "  담배 제조업 ",
          "  담배 제조업 ",
          "  담배 제조업 ",
          "  기타 운송장비 제조업 ",
          "  종합 건설업 ",
          "  기타 기계 및 장비 제조업 ",
          "  기타 기계 및 장비 제조업 ",
          "  기타 기계 및 장비 제조업 ",
          "  기타 기계 및 장비 제조업 ",
          "  기타 기계 및 장비 제조업 ",
          "  전기장비 제조업 ",
          "  기타 기계 및 장비 제조업 ",
          "  기타 기계 및 장비 제조업 ",
          "  기타 기계 및 장비 제조업 ",
          "  화학물질 및 화학제품 제조업; 의약품 제외 ",
          "  화학물질 및 화학제품 제조업; 의약품 제외 ",
          "  화학물질 및 화학제품 제조업; 의약품 제외 ",
          "  화학물질 및 화학제품 제조업; 의약품 제외 ",
          "  의료용 물질 및 의약품 제조업 ",
          "  의료용 물질 및 의약품 제조업 ",
          "  전자부품, 컴퓨터, 영상, 음향 및 통신장비 제조업 ",
          "  전자부품, 컴퓨터, 영상, 음향 및 통신장비 제조업 ",
          "  도매 및 상품 중개업 ",
          "  항공 운송업 ",
          "  항공 운송업 ",
          "  자동차 및 트레일러 제조업 ",
          "  자동차 및 트레일러 제조업 ",
          "  자동차 및 트레일러 제조업 ",
          "  자동차 및 트레일러 제조업 ",
          "  자동차 및 트레일러 제조업 ",
          "  자동차 및 트레일러 제조업 ",
          "  기타 기계 및 장비 제조업 ",
          "  기타 기계 및 장비 제조업 ",
          "  기타 기계 및 장비 제조업 ",
          "  화학물질 및 화학제품 제조업; 의약품 제외 ",
          "  화학물질 및 화학제품 제조업; 의약품 제외 ",
          "  화학물질 및 화학제품 제조업; 의약품 제외 ",
          "  화학물질 및 화학제품 제조업; 의약품 제외 ",
          "  화학물질 및 화학제품 제조업; 의약품 제외 ",
          "  화학물질 및 화학제품 제조업; 의약품 제외 ",
          "  화학물질 및 화학제품 제조업; 의약품 제외 ",
          "  화학물질 및 화학제품 제조업; 의약품 제외 ",
          "  화학물질 및 화학제품 제조업; 의약품 제외 ",
          "  화학물질 및 화학제품 제조업; 의약품 제외 ",
          "  기타 기계 및 장비 제조업 ",
          "  건축기술, 엔지니어링 및 기타 과학기술 서비스업 ",
          "  건축기술, 엔지니어링 및 기타 과학기술 서비스업 ",
          "  건축기술, 엔지니어링 및 기타 과학기술 서비스업 ",
          "  기타 운송장비 제조업 ",
          "  기타 운송장비 제조업 ",
          "  기타 운송장비 제조업 ",
          "  기타 운송장비 제조업 ",
          "  기타 운송장비 제조업 ",
          "  기타 운송장비 제조업 ",
          "  펄프, 종이 및 종이제품 제조업 ",
          "  펄프, 종이 및 종이제품 제조업 ",
          "  전문 서비스업 ",
          "  전문 서비스업 ",
          "  종합 건설업 ",
          "  종합 건설업 ",
          "  기타 운송장비 제조업 ",
          "  기타 운송장비 제조업 ",
          "  기타 운송장비 제조업 ",
          "  기타 운송장비 제조업 ",
          "  종합 건설업 ",
          "  종합 건설업 ",
          "  종합 건설업 ",
          "  종합 건설업 ",
          "  자동차 및 트레일러 제조업 ",
          "  전자부품, 컴퓨터, 영상, 음향 및 통신장비 제조업 ",
          "  전자부품, 컴퓨터, 영상, 음향 및 통신장비 제조업 ",
          "  전자부품, 컴퓨터, 영상, 음향 및 통신장비 제조업 ",
          "  전자부품, 컴퓨터, 영상, 음향 및 통신장비 제조업 ",
          "  전자부품, 컴퓨터, 영상, 음향 및 통신장비 제조업 ",
          "  전자부품, 컴퓨터, 영상, 음향 및 통신장비 제조업 ",
          "  전자부품, 컴퓨터, 영상, 음향 및 통신장비 제조업 ",
          "  전자부품, 컴퓨터, 영상, 음향 및 통신장비 제조업 ",
          "  전자부품, 컴퓨터, 영상, 음향 및 통신장비 제조업 ",
          "  전자부품, 컴퓨터, 영상, 음향 및 통신장비 제조업 ",
          "  전자부품, 컴퓨터, 영상, 음향 및 통신장비 제조업 ",
          "  인쇄 및 기록매체 복제업 ",
          "  인쇄 및 기록매체 복제업 ",
          "  인쇄 및 기록매체 복제업 ",
          "  인쇄 및 기록매체 복제업 ",
          "  고무 및 플라스틱제품 제조업 ",
          "  고무 및 플라스틱제품 제조업 ",
          "  고무 및 플라스틱제품 제조업 ",
          "  고무 및 플라스틱제품 제조업 ",
          "  고무 및 플라스틱제품 제조업 ",
          "  기타 기계 및 장비 제조업 ",
          "  기타 기계 및 장비 제조업 ",
          "  의료, 정밀, 광학기기 및 시계 제조업 ",
          "  의료, 정밀, 광학기기 및 시계 제조업 ",
          "  의료, 정밀, 광학기기 및 시계 제조업 ",
          "  의료, 정밀, 광학기기 및 시계 제조업 ",
          "  의료, 정밀, 광학기기 및 시계 제조업 ",
          "  교육 서비스업 ",
          "  교육 서비스업 ",
          "  연구개발업 ",
          "  전자부품, 컴퓨터, 영상, 음향 및 통신장비 제조업 ",
          "  전자부품, 컴퓨터, 영상, 음향 및 통신장비 제조업 ",
          "  도매 및 상품 중개업 ",
          "  도매 및 상품 중개업 ",
          "  의료용 물질 및 의약품 제조업 ",
          "  의료용 물질 및 의약품 제조업 ",
          "  육상운송 및 파이프라인 운송업 ",
          "  육상운송 및 파이프라인 운송업 ",
          "  고무 및 플라스틱제품 제조업 ",
          "  고무 및 플라스틱제품 제조업 ",
          "  고무 및 플라스틱제품 제조업 ",
          "  고무 및 플라스틱제품 제조업 ",
          "  고무 및 플라스틱제품 제조업 ",
          "  도매 및 상품 중개업 ",
          "  의료용 물질 및 의약품 제조업 ",
          "  의료용 물질 및 의약품 제조업 ",
          "  의료용 물질 및 의약품 제조업 ",
          "  의료용 물질 및 의약품 제조업 ",
          "  종합 건설업 ",
          "  종합 건설업 ",
          "  종합 건설업 ",
          "  종합 건설업 ",
          "  종합 건설업 ",
          "  의료용 물질 및 의약품 제조업 ",
          "  의료용 물질 및 의약품 제조업 ",
          "  의료용 물질 및 의약품 제조업 ",
          "  의료용 물질 및 의약품 제조업 ",
          "  의료용 물질 및 의약품 제조업 ",
          "  의료용 물질 및 의약품 제조업 ",
          "  의료용 물질 및 의약품 제조업 ",
          "  의료용 물질 및 의약품 제조업 ",
          "  의료용 물질 및 의약품 제조업 ",
          "  도매 및 상품 중개업 ",
          "  도매 및 상품 중개업 ",
          "  전자부품, 컴퓨터, 영상, 음향 및 통신장비 제조업 ",
          "  전자부품, 컴퓨터, 영상, 음향 및 통신장비 제조업 ",
          "  출판업 ",
          "  출판업 ",
          "  출판업 ",
          "  출판업 ",
          "  출판업 ",
          "  방송 및 영상·오디오물 제공 서비스업 ",
          "  방송 및 영상·오디오물 제공 서비스업 ",
          "  방송 및 영상·오디오물 제공 서비스업 ",
          "  방송 및 영상·오디오물 제공 서비스업 ",
          "  전자부품, 컴퓨터, 영상, 음향 및 통신장비 제조업 ",
          "  화학물질 및 화학제품 제조업; 의약품 제외 ",
          "  전자부품, 컴퓨터, 영상, 음향 및 통신장비 제조업 ",
          "  전자부품, 컴퓨터, 영상, 음향 및 통신장비 제조업 ",
          "  전자부품, 컴퓨터, 영상, 음향 및 통신장비 제조업 ",
          "  교육 서비스업 ",
          "  교육 서비스업 ",
          "  의료용 물질 및 의약품 제조업 ",
          "  의료용 물질 및 의약품 제조업 ",
          "  의료용 물질 및 의약품 제조업 ",
          "  의료용 물질 및 의약품 제조업 ",
          "  의료용 물질 및 의약품 제조업 ",
          "  의료용 물질 및 의약품 제조업 ",
          "  의료용 물질 및 의약품 제조업 ",
          "  숙박업 ",
          "  숙박업 ",
          "  숙박업 ",
          "  숙박업 ",
          "  전자부품, 컴퓨터, 영상, 음향 및 통신장비 제조업 ",
          "  화학물질 및 화학제품 제조업; 의약품 제외 ",
          "  화학물질 및 화학제품 제조업; 의약품 제외 ",
          "  섬유제품 제조업; 의복제외 ",
          "  섬유제품 제조업; 의복제외 ",
          "  출판업 ",
          "  출판업 ",
          "  고무 및 플라스틱제품 제조업 ",
          "  고무 및 플라스틱제품 제조업 ",
          "  도매 및 상품 중개업 ",
          "  도매 및 상품 중개업 ",
          "  기타 기계 및 장비 제조업 ",
          "  기타 기계 및 장비 제조업 ",
          "  기타 기계 및 장비 제조업 ",
          "  기타 기계 및 장비 제조업 ",
          "  의료, 정밀, 광학기기 및 시계 제조업 ",
          "  전자부품, 컴퓨터, 영상, 음향 및 통신장비 제조업 ",
          "  도매 및 상품 중개업 ",
          "  도매 및 상품 중개업 ",
          "  도매 및 상품 중개업 ",
          "  도매 및 상품 중개업 ",
          "  도매 및 상품 중개업 ",
          "  도매 및 상품 중개업 ",
          "  도매 및 상품 중개업 ",
          "  도매 및 상품 중개업 ",
          "  기타 기계 및 장비 제조업 ",
          "  우편 및 통신업 ",
          "  우편 및 통신업 ",
          "  우편 및 통신업 ",
          "  우편 및 통신업 ",
          "  우편 및 통신업 ",
          "  도매 및 상품 중개업 ",
          "  도매 및 상품 중개업 ",
          "  도매 및 상품 중개업 ",
          "  전기장비 제조업 ",
          "  전기장비 제조업 ",
          "  도매 및 상품 중개업 ",
          "  도매 및 상품 중개업 ",
          "  전기장비 제조업 ",
          "  전기장비 제조업 ",
          "  전기장비 제조업 ",
          "  전기장비 제조업 ",
          "  전기장비 제조업 ",
          "  화학물질 및 화학제품 제조업; 의약품 제외 ",
          "  1차 금속 제조업 ",
          "  1차 금속 제조업 ",
          "  1차 금속 제조업 ",
          "  1차 금속 제조업 ",
          "  1차 금속 제조업 ",
          "  1차 금속 제조업 ",
          "  1차 금속 제조업 ",
          "  스포츠 및 오락관련 서비스업 ",
          "  스포츠 및 오락관련 서비스업 ",
          "  스포츠 및 오락관련 서비스업 ",
          "  스포츠 및 오락관련 서비스업 ",
          "  스포츠 및 오락관련 서비스업 ",
          "  스포츠 및 오락관련 서비스업 ",
          "  출판업 ",
          "  출판업 ",
          "  출판업 ",
          "  출판업 ",
          "  정보서비스업 ",
          "  도매 및 상품 중개업 ",
          "  도매 및 상품 중개업 ",
          "  전자부품, 컴퓨터, 영상, 음향 및 통신장비 제조업 ",
          "  전자부품, 컴퓨터, 영상, 음향 및 통신장비 제조업 ",
          "  도매 및 상품 중개업 ",
          "  도매 및 상품 중개업 ",
          "  도매 및 상품 중개업 ",
          "  도매 및 상품 중개업 ",
          "  기타 기계 및 장비 제조업 ",
          "  기타 기계 및 장비 제조업 ",
          "  기타 기계 및 장비 제조업 ",
          "  전문직별 공사업 ",
          "  출판업 ",
          "  출판업 ",
          "  출판업 ",
          "  출판업 ",
          "  출판업 ",
          "  출판업 ",
          "  출판업 ",
          "  출판업 ",
          "  화학물질 및 화학제품 제조업; 의약품 제외 ",
          "  화학물질 및 화학제품 제조업; 의약품 제외 ",
          "  교육 서비스업 ",
          "  교육 서비스업 ",
          "  전자부품, 컴퓨터, 영상, 음향 및 통신장비 제조업 ",
          "  전자부품, 컴퓨터, 영상, 음향 및 통신장비 제조업 ",
          "  전자부품, 컴퓨터, 영상, 음향 및 통신장비 제조업 ",
          "  기타 기계 및 장비 제조업 ",
          "  기타 기계 및 장비 제조업 ",
          "  기타 기계 및 장비 제조업 ",
          "  기타 기계 및 장비 제조업 ",
          "  기타 기계 및 장비 제조업 ",
          "  전자부품, 컴퓨터, 영상, 음향 및 통신장비 제조업 ",
          "  전자부품, 컴퓨터, 영상, 음향 및 통신장비 제조업 ",
          "  전자부품, 컴퓨터, 영상, 음향 및 통신장비 제조업 ",
          "  전자부품, 컴퓨터, 영상, 음향 및 통신장비 제조업 ",
          "  전자부품, 컴퓨터, 영상, 음향 및 통신장비 제조업 ",
          "  전자부품, 컴퓨터, 영상, 음향 및 통신장비 제조업 ",
          "  전자부품, 컴퓨터, 영상, 음향 및 통신장비 제조업 ",
          "  기타 기계 및 장비 제조업 ",
          "  기타 기계 및 장비 제조업 ",
          "  기타 기계 및 장비 제조업 ",
          "  기타 기계 및 장비 제조업 ",
          "  기타 기계 및 장비 제조업 ",
          "  기타 기계 및 장비 제조업 ",
          "  기타 기계 및 장비 제조업 ",
          "  고무 및 플라스틱제품 제조업 ",
          "  고무 및 플라스틱제품 제조업 ",
          "  식료품 제조업 ",
          "  정보서비스업 ",
          "  기타 기계 및 장비 제조업 ",
          "  기타 기계 및 장비 제조업 ",
          "  의료용 물질 및 의약품 제조업 ",
          "  의료용 물질 및 의약품 제조업 ",
          "  고무 및 플라스틱제품 제조업 ",
          "  전기, 가스, 증기 및 공기조절 공급업 ",
          "  전기, 가스, 증기 및 공기조절 공급업 ",
          "  전기, 가스, 증기 및 공기조절 공급업 ",
          "  전기, 가스, 증기 및 공기조절 공급업 ",
          "  폐기물 수집, 운반, 처리 및 원료 재생업 ",
          "  폐기물 수집, 운반, 처리 및 원료 재생업 ",
          "  폐기물 수집, 운반, 처리 및 원료 재생업 ",
          "  폐기물 수집, 운반, 처리 및 원료 재생업 ",
          "  폐기물 수집, 운반, 처리 및 원료 재생업 ",
          "  자동차 및 부품 판매업 ",
          "  기타 기계 및 장비 제조업 ",
          "  기타 기계 및 장비 제조업 ",
          "  기타 기계 및 장비 제조업 ",
          "  전자부품, 컴퓨터, 영상, 음향 및 통신장비 제조업 ",
          "  전자부품, 컴퓨터, 영상, 음향 및 통신장비 제조업 ",
          "  전자부품, 컴퓨터, 영상, 음향 및 통신장비 제조업 ",
          "  전자부품, 컴퓨터, 영상, 음향 및 통신장비 제조업 ",
          "  전자부품, 컴퓨터, 영상, 음향 및 통신장비 제조업 ",
          "  종합 건설업 ",
          "  종합 건설업 ",
          "  출판업 ",
          "  출판업 ",
          "  자동차 및 부품 판매업 ",
          "  금속가공제품 제조업; 기계 및 가구 제외 ",
          "  금속가공제품 제조업; 기계 및 가구 제외 ",
          "  금속가공제품 제조업; 기계 및 가구 제외 ",
          "  도매 및 상품 중개업 ",
          "  도매 및 상품 중개업 ",
          "  도매 및 상품 중개업 ",
          "  도매 및 상품 중개업 ",
          "  사업시설 관리 및 조경 서비스업 ",
          "  사업시설 관리 및 조경 서비스업 ",
          "  사업시설 관리 및 조경 서비스업 ",
          "  금속가공제품 제조업; 기계 및 가구 제외 ",
          "  금속가공제품 제조업; 기계 및 가구 제외 ",
          "  기타 기계 및 장비 제조업 ",
          "  기타 기계 및 장비 제조업 ",
          "  비금속 광물제품 제조업 ",
          "  비금속 광물제품 제조업 ",
          "  출판업 ",
          "  전자부품, 컴퓨터, 영상, 음향 및 통신장비 제조업 ",
          "  전자부품, 컴퓨터, 영상, 음향 및 통신장비 제조업 ",
          "  기타 기계 및 장비 제조업 ",
          "  도매 및 상품 중개업 ",
          "  기타 기계 및 장비 제조업 ",
          "  기타 기계 및 장비 제조업 ",
          "  기타 기계 및 장비 제조업 ",
          "  기타 기계 및 장비 제조업 ",
          "  기타 기계 및 장비 제조업 ",
          "  기타 기계 및 장비 제조업 ",
          "  기타 기계 및 장비 제조업 ",
          "  기타 기계 및 장비 제조업 ",
          "  기타 기계 및 장비 제조업 "
         ],
         "xaxis": "x",
         "yaxis": "y"
        }
       ],
       "layout": {
        "barmode": "relative",
        "legend": {
         "tracegroupgap": 0
        },
        "template": {
         "data": {
          "bar": [
           {
            "error_x": {
             "color": "#2a3f5f"
            },
            "error_y": {
             "color": "#2a3f5f"
            },
            "marker": {
             "line": {
              "color": "#E5ECF6",
              "width": 0.5
             },
             "pattern": {
              "fillmode": "overlay",
              "size": 10,
              "solidity": 0.2
             }
            },
            "type": "bar"
           }
          ],
          "barpolar": [
           {
            "marker": {
             "line": {
              "color": "#E5ECF6",
              "width": 0.5
             },
             "pattern": {
              "fillmode": "overlay",
              "size": 10,
              "solidity": 0.2
             }
            },
            "type": "barpolar"
           }
          ],
          "carpet": [
           {
            "aaxis": {
             "endlinecolor": "#2a3f5f",
             "gridcolor": "white",
             "linecolor": "white",
             "minorgridcolor": "white",
             "startlinecolor": "#2a3f5f"
            },
            "baxis": {
             "endlinecolor": "#2a3f5f",
             "gridcolor": "white",
             "linecolor": "white",
             "minorgridcolor": "white",
             "startlinecolor": "#2a3f5f"
            },
            "type": "carpet"
           }
          ],
          "choropleth": [
           {
            "colorbar": {
             "outlinewidth": 0,
             "ticks": ""
            },
            "type": "choropleth"
           }
          ],
          "contour": [
           {
            "colorbar": {
             "outlinewidth": 0,
             "ticks": ""
            },
            "colorscale": [
             [
              0,
              "#0d0887"
             ],
             [
              0.1111111111111111,
              "#46039f"
             ],
             [
              0.2222222222222222,
              "#7201a8"
             ],
             [
              0.3333333333333333,
              "#9c179e"
             ],
             [
              0.4444444444444444,
              "#bd3786"
             ],
             [
              0.5555555555555556,
              "#d8576b"
             ],
             [
              0.6666666666666666,
              "#ed7953"
             ],
             [
              0.7777777777777778,
              "#fb9f3a"
             ],
             [
              0.8888888888888888,
              "#fdca26"
             ],
             [
              1,
              "#f0f921"
             ]
            ],
            "type": "contour"
           }
          ],
          "contourcarpet": [
           {
            "colorbar": {
             "outlinewidth": 0,
             "ticks": ""
            },
            "type": "contourcarpet"
           }
          ],
          "heatmap": [
           {
            "colorbar": {
             "outlinewidth": 0,
             "ticks": ""
            },
            "colorscale": [
             [
              0,
              "#0d0887"
             ],
             [
              0.1111111111111111,
              "#46039f"
             ],
             [
              0.2222222222222222,
              "#7201a8"
             ],
             [
              0.3333333333333333,
              "#9c179e"
             ],
             [
              0.4444444444444444,
              "#bd3786"
             ],
             [
              0.5555555555555556,
              "#d8576b"
             ],
             [
              0.6666666666666666,
              "#ed7953"
             ],
             [
              0.7777777777777778,
              "#fb9f3a"
             ],
             [
              0.8888888888888888,
              "#fdca26"
             ],
             [
              1,
              "#f0f921"
             ]
            ],
            "type": "heatmap"
           }
          ],
          "heatmapgl": [
           {
            "colorbar": {
             "outlinewidth": 0,
             "ticks": ""
            },
            "colorscale": [
             [
              0,
              "#0d0887"
             ],
             [
              0.1111111111111111,
              "#46039f"
             ],
             [
              0.2222222222222222,
              "#7201a8"
             ],
             [
              0.3333333333333333,
              "#9c179e"
             ],
             [
              0.4444444444444444,
              "#bd3786"
             ],
             [
              0.5555555555555556,
              "#d8576b"
             ],
             [
              0.6666666666666666,
              "#ed7953"
             ],
             [
              0.7777777777777778,
              "#fb9f3a"
             ],
             [
              0.8888888888888888,
              "#fdca26"
             ],
             [
              1,
              "#f0f921"
             ]
            ],
            "type": "heatmapgl"
           }
          ],
          "histogram": [
           {
            "marker": {
             "pattern": {
              "fillmode": "overlay",
              "size": 10,
              "solidity": 0.2
             }
            },
            "type": "histogram"
           }
          ],
          "histogram2d": [
           {
            "colorbar": {
             "outlinewidth": 0,
             "ticks": ""
            },
            "colorscale": [
             [
              0,
              "#0d0887"
             ],
             [
              0.1111111111111111,
              "#46039f"
             ],
             [
              0.2222222222222222,
              "#7201a8"
             ],
             [
              0.3333333333333333,
              "#9c179e"
             ],
             [
              0.4444444444444444,
              "#bd3786"
             ],
             [
              0.5555555555555556,
              "#d8576b"
             ],
             [
              0.6666666666666666,
              "#ed7953"
             ],
             [
              0.7777777777777778,
              "#fb9f3a"
             ],
             [
              0.8888888888888888,
              "#fdca26"
             ],
             [
              1,
              "#f0f921"
             ]
            ],
            "type": "histogram2d"
           }
          ],
          "histogram2dcontour": [
           {
            "colorbar": {
             "outlinewidth": 0,
             "ticks": ""
            },
            "colorscale": [
             [
              0,
              "#0d0887"
             ],
             [
              0.1111111111111111,
              "#46039f"
             ],
             [
              0.2222222222222222,
              "#7201a8"
             ],
             [
              0.3333333333333333,
              "#9c179e"
             ],
             [
              0.4444444444444444,
              "#bd3786"
             ],
             [
              0.5555555555555556,
              "#d8576b"
             ],
             [
              0.6666666666666666,
              "#ed7953"
             ],
             [
              0.7777777777777778,
              "#fb9f3a"
             ],
             [
              0.8888888888888888,
              "#fdca26"
             ],
             [
              1,
              "#f0f921"
             ]
            ],
            "type": "histogram2dcontour"
           }
          ],
          "mesh3d": [
           {
            "colorbar": {
             "outlinewidth": 0,
             "ticks": ""
            },
            "type": "mesh3d"
           }
          ],
          "parcoords": [
           {
            "line": {
             "colorbar": {
              "outlinewidth": 0,
              "ticks": ""
             }
            },
            "type": "parcoords"
           }
          ],
          "pie": [
           {
            "automargin": true,
            "type": "pie"
           }
          ],
          "scatter": [
           {
            "fillpattern": {
             "fillmode": "overlay",
             "size": 10,
             "solidity": 0.2
            },
            "type": "scatter"
           }
          ],
          "scatter3d": [
           {
            "line": {
             "colorbar": {
              "outlinewidth": 0,
              "ticks": ""
             }
            },
            "marker": {
             "colorbar": {
              "outlinewidth": 0,
              "ticks": ""
             }
            },
            "type": "scatter3d"
           }
          ],
          "scattercarpet": [
           {
            "marker": {
             "colorbar": {
              "outlinewidth": 0,
              "ticks": ""
             }
            },
            "type": "scattercarpet"
           }
          ],
          "scattergeo": [
           {
            "marker": {
             "colorbar": {
              "outlinewidth": 0,
              "ticks": ""
             }
            },
            "type": "scattergeo"
           }
          ],
          "scattergl": [
           {
            "marker": {
             "colorbar": {
              "outlinewidth": 0,
              "ticks": ""
             }
            },
            "type": "scattergl"
           }
          ],
          "scattermapbox": [
           {
            "marker": {
             "colorbar": {
              "outlinewidth": 0,
              "ticks": ""
             }
            },
            "type": "scattermapbox"
           }
          ],
          "scatterpolar": [
           {
            "marker": {
             "colorbar": {
              "outlinewidth": 0,
              "ticks": ""
             }
            },
            "type": "scatterpolar"
           }
          ],
          "scatterpolargl": [
           {
            "marker": {
             "colorbar": {
              "outlinewidth": 0,
              "ticks": ""
             }
            },
            "type": "scatterpolargl"
           }
          ],
          "scatterternary": [
           {
            "marker": {
             "colorbar": {
              "outlinewidth": 0,
              "ticks": ""
             }
            },
            "type": "scatterternary"
           }
          ],
          "surface": [
           {
            "colorbar": {
             "outlinewidth": 0,
             "ticks": ""
            },
            "colorscale": [
             [
              0,
              "#0d0887"
             ],
             [
              0.1111111111111111,
              "#46039f"
             ],
             [
              0.2222222222222222,
              "#7201a8"
             ],
             [
              0.3333333333333333,
              "#9c179e"
             ],
             [
              0.4444444444444444,
              "#bd3786"
             ],
             [
              0.5555555555555556,
              "#d8576b"
             ],
             [
              0.6666666666666666,
              "#ed7953"
             ],
             [
              0.7777777777777778,
              "#fb9f3a"
             ],
             [
              0.8888888888888888,
              "#fdca26"
             ],
             [
              1,
              "#f0f921"
             ]
            ],
            "type": "surface"
           }
          ],
          "table": [
           {
            "cells": {
             "fill": {
              "color": "#EBF0F8"
             },
             "line": {
              "color": "white"
             }
            },
            "header": {
             "fill": {
              "color": "#C8D4E3"
             },
             "line": {
              "color": "white"
             }
            },
            "type": "table"
           }
          ]
         },
         "layout": {
          "annotationdefaults": {
           "arrowcolor": "#2a3f5f",
           "arrowhead": 0,
           "arrowwidth": 1
          },
          "autotypenumbers": "strict",
          "coloraxis": {
           "colorbar": {
            "outlinewidth": 0,
            "ticks": ""
           }
          },
          "colorscale": {
           "diverging": [
            [
             0,
             "#8e0152"
            ],
            [
             0.1,
             "#c51b7d"
            ],
            [
             0.2,
             "#de77ae"
            ],
            [
             0.3,
             "#f1b6da"
            ],
            [
             0.4,
             "#fde0ef"
            ],
            [
             0.5,
             "#f7f7f7"
            ],
            [
             0.6,
             "#e6f5d0"
            ],
            [
             0.7,
             "#b8e186"
            ],
            [
             0.8,
             "#7fbc41"
            ],
            [
             0.9,
             "#4d9221"
            ],
            [
             1,
             "#276419"
            ]
           ],
           "sequential": [
            [
             0,
             "#0d0887"
            ],
            [
             0.1111111111111111,
             "#46039f"
            ],
            [
             0.2222222222222222,
             "#7201a8"
            ],
            [
             0.3333333333333333,
             "#9c179e"
            ],
            [
             0.4444444444444444,
             "#bd3786"
            ],
            [
             0.5555555555555556,
             "#d8576b"
            ],
            [
             0.6666666666666666,
             "#ed7953"
            ],
            [
             0.7777777777777778,
             "#fb9f3a"
            ],
            [
             0.8888888888888888,
             "#fdca26"
            ],
            [
             1,
             "#f0f921"
            ]
           ],
           "sequentialminus": [
            [
             0,
             "#0d0887"
            ],
            [
             0.1111111111111111,
             "#46039f"
            ],
            [
             0.2222222222222222,
             "#7201a8"
            ],
            [
             0.3333333333333333,
             "#9c179e"
            ],
            [
             0.4444444444444444,
             "#bd3786"
            ],
            [
             0.5555555555555556,
             "#d8576b"
            ],
            [
             0.6666666666666666,
             "#ed7953"
            ],
            [
             0.7777777777777778,
             "#fb9f3a"
            ],
            [
             0.8888888888888888,
             "#fdca26"
            ],
            [
             1,
             "#f0f921"
            ]
           ]
          },
          "colorway": [
           "#636efa",
           "#EF553B",
           "#00cc96",
           "#ab63fa",
           "#FFA15A",
           "#19d3f3",
           "#FF6692",
           "#B6E880",
           "#FF97FF",
           "#FECB52"
          ],
          "font": {
           "color": "#2a3f5f"
          },
          "geo": {
           "bgcolor": "white",
           "lakecolor": "white",
           "landcolor": "#E5ECF6",
           "showlakes": true,
           "showland": true,
           "subunitcolor": "white"
          },
          "hoverlabel": {
           "align": "left"
          },
          "hovermode": "closest",
          "mapbox": {
           "style": "light"
          },
          "paper_bgcolor": "white",
          "plot_bgcolor": "#E5ECF6",
          "polar": {
           "angularaxis": {
            "gridcolor": "white",
            "linecolor": "white",
            "ticks": ""
           },
           "bgcolor": "#E5ECF6",
           "radialaxis": {
            "gridcolor": "white",
            "linecolor": "white",
            "ticks": ""
           }
          },
          "scene": {
           "xaxis": {
            "backgroundcolor": "#E5ECF6",
            "gridcolor": "white",
            "gridwidth": 2,
            "linecolor": "white",
            "showbackground": true,
            "ticks": "",
            "zerolinecolor": "white"
           },
           "yaxis": {
            "backgroundcolor": "#E5ECF6",
            "gridcolor": "white",
            "gridwidth": 2,
            "linecolor": "white",
            "showbackground": true,
            "ticks": "",
            "zerolinecolor": "white"
           },
           "zaxis": {
            "backgroundcolor": "#E5ECF6",
            "gridcolor": "white",
            "gridwidth": 2,
            "linecolor": "white",
            "showbackground": true,
            "ticks": "",
            "zerolinecolor": "white"
           }
          },
          "shapedefaults": {
           "line": {
            "color": "#2a3f5f"
           }
          },
          "ternary": {
           "aaxis": {
            "gridcolor": "white",
            "linecolor": "white",
            "ticks": ""
           },
           "baxis": {
            "gridcolor": "white",
            "linecolor": "white",
            "ticks": ""
           },
           "bgcolor": "#E5ECF6",
           "caxis": {
            "gridcolor": "white",
            "linecolor": "white",
            "ticks": ""
           }
          },
          "title": {
           "x": 0.05
          },
          "xaxis": {
           "automargin": true,
           "gridcolor": "white",
           "linecolor": "white",
           "ticks": "",
           "title": {
            "standoff": 15
           },
           "zerolinecolor": "white",
           "zerolinewidth": 2
          },
          "yaxis": {
           "automargin": true,
           "gridcolor": "white",
           "linecolor": "white",
           "ticks": "",
           "title": {
            "standoff": 15
           },
           "zerolinecolor": "white",
           "zerolinewidth": 2
          }
         }
        },
        "title": {
         "text": "Count Plot of 산업명"
        },
        "xaxis": {
         "anchor": "y",
         "categoryarray": [
          "  기타 기계 및 장비 제조업 ",
          "  전자부품, 컴퓨터, 영상, 음향 및 통신장비 제조업 ",
          "  도매 및 상품 중개업 ",
          "  의료용 물질 및 의약품 제조업 ",
          "  화학물질 및 화학제품 제조업; 의약품 제외 ",
          "  출판업 ",
          "  종합 건설업 ",
          "  1차 금속 제조업 ",
          "  고무 및 플라스틱제품 제조업 ",
          "  전문 서비스업 ",
          "  자동차 및 트레일러 제조업 ",
          "  기타 운송장비 제조업 ",
          "  전기장비 제조업 ",
          "  담배 제조업 ",
          "  스포츠 및 오락관련 서비스업 ",
          "  교육 서비스업 ",
          "  의료, 정밀, 광학기기 및 시계 제조업 ",
          "  자동차 및 부품 판매업 ",
          "  우편 및 통신업 ",
          "  금속가공제품 제조업; 기계 및 가구 제외 ",
          "  폐기물 수집, 운반, 처리 및 원료 재생업 ",
          "  숙박업 ",
          "  전기, 가스, 증기 및 공기조절 공급업 ",
          "  인쇄 및 기록매체 복제업 ",
          "  방송 및 영상·오디오물 제공 서비스업 ",
          "  건축기술, 엔지니어링 및 기타 과학기술 서비스업 ",
          "  사업시설 관리 및 조경 서비스업 ",
          "  섬유제품 제조업; 의복제외 ",
          "  펄프, 종이 및 종이제품 제조업 ",
          "  항공 운송업 ",
          "  정보서비스업 ",
          "  육상운송 및 파이프라인 운송업 ",
          "  비금속 광물제품 제조업 ",
          "  전문직별 공사업 ",
          "  식료품 제조업 ",
          "  연구개발업 "
         ],
         "categoryorder": "array",
         "domain": [
          0,
          1
         ],
         "title": {
          "text": "산업명"
         }
        },
        "yaxis": {
         "anchor": "x",
         "domain": [
          0,
          1
         ],
         "title": {
          "text": "count"
         }
        }
       }
      }
     },
     "metadata": {},
     "output_type": "display_data"
    }
   ],
   "source": [
    "utils2.plot_count_plot(df, '산업명', None)"
   ]
  }
 ],
 "metadata": {
  "kernelspec": {
   "display_name": "base",
   "language": "python",
   "name": "python3"
  },
  "language_info": {
   "codemirror_mode": {
    "name": "ipython",
    "version": 3
   },
   "file_extension": ".py",
   "mimetype": "text/x-python",
   "name": "python",
   "nbconvert_exporter": "python",
   "pygments_lexer": "ipython3",
   "version": "3.10.9"
  }
 },
 "nbformat": 4,
 "nbformat_minor": 2
}
