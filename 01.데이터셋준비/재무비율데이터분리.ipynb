{
 "cells": [
  {
   "cell_type": "code",
   "execution_count": 19,
   "metadata": {},
   "outputs": [],
   "source": [
    "import pandas as pd\n",
    "\n",
    "df = pd.read_csv('../data/processed_data/재무비율_처리완.csv')\n",
    "feature = df[df.columns[9:-1]]\n",
    "\n",
    "no_ratio = df.copy()\n",
    "no_ratio = no_ratio[no_ratio.columns[:9]]"
   ]
  },
  {
   "cell_type": "code",
   "execution_count": 20,
   "metadata": {},
   "outputs": [
    {
     "data": {
      "text/plain": [
       "151"
      ]
     },
     "execution_count": 20,
     "metadata": {},
     "output_type": "execute_result"
    }
   ],
   "source": [
    "len(df.columns)"
   ]
  },
  {
   "cell_type": "code",
   "execution_count": 21,
   "metadata": {},
   "outputs": [
    {
     "data": {
      "text/plain": [
       "141"
      ]
     },
     "execution_count": 21,
     "metadata": {},
     "output_type": "execute_result"
    }
   ],
   "source": [
    "len(feature.columns)"
   ]
  },
  {
   "cell_type": "code",
   "execution_count": 22,
   "metadata": {},
   "outputs": [
    {
     "data": {
      "text/plain": [
       "Index(['배당성향(IFRS)', '1주당매출액(IFRS)(원)', '1주당순이익(IFRS)(원)',\n",
       "       '1주당 CASH FLOW(IFRS)(원)', '1주당순자산(IFRS)(원)', '1주당정상영업이익(IFRS)(원)',\n",
       "       '차입금의존도(IFRS)', '유동자산집중도(IFRS)', '비유동자산집중도(IFRS)', '투자집중도(IFRS)',\n",
       "       '매입채무회전기간(IFRS)', '재고자산회전기간(IFRS)', '매출채권회전기간(IFRS)', '1회전기간(IFRS)',\n",
       "       '부가가치(IFRS)(백만원)', '종업원1인당 부가가치(IFRS)(백만원)', '종업원1인당 매출액(IFRS)(백만원)',\n",
       "       '종업원1인당 정상영업이익(IFRS)(백만원)', '종업원1인당 순이익(IFRS)(백만원)',\n",
       "       '종업원1인당 인건비(IFRS)(백만원)', '자본집약도(IFRS)', '법인세비용차감전(계속사업)손익(IFRS)(백만원)',\n",
       "       '인건비(IFRS)(백만원)', '금융비용(IFRS)(백만원)', '임차료(IFRS)(백만원)',\n",
       "       '세금과공과(IFRS)(백만원)', '감가상각비(IFRS)(백만원)', '종업원수(IFRS)'],\n",
       "      dtype='object')"
      ]
     },
     "execution_count": 22,
     "metadata": {},
     "output_type": "execute_result"
    }
   ],
   "source": [
    "feature.columns[~feature.columns.str.contains('율|률')]"
   ]
  },
  {
   "cell_type": "code",
   "execution_count": 23,
   "metadata": {},
   "outputs": [
    {
     "data": {
      "text/plain": [
       "8"
      ]
     },
     "execution_count": 23,
     "metadata": {},
     "output_type": "execute_result"
    }
   ],
   "source": [
    "columns_list = ['부가가치(IFRS)(백만원)', '법인세비용차감전(계속사업)손익(IFRS)(백만원)',\n",
    "                '인건비(IFRS)(백만원)', '금융비용(IFRS)(백만원)', '임차료(IFRS)(백만원)', '세금과공과(IFRS)(백만원)',\n",
    "                '감가상각비(IFRS)(백만원)', '종업원수(IFRS)']\n",
    "len(columns_list)"
   ]
  },
  {
   "cell_type": "code",
   "execution_count": 24,
   "metadata": {},
   "outputs": [
    {
     "data": {
      "text/plain": [
       "143"
      ]
     },
     "execution_count": 24,
     "metadata": {},
     "output_type": "execute_result"
    }
   ],
   "source": [
    "# 지표로 갈 컬럼 분리\n",
    "df = df.drop(columns=columns_list)\n",
    "feature_update = df[df.columns[9:-1]]\n",
    "len(df.columns)"
   ]
  },
  {
   "cell_type": "code",
   "execution_count": 25,
   "metadata": {},
   "outputs": [
    {
     "data": {
      "text/html": [
       "<div>\n",
       "<style scoped>\n",
       "    .dataframe tbody tr th:only-of-type {\n",
       "        vertical-align: middle;\n",
       "    }\n",
       "\n",
       "    .dataframe tbody tr th {\n",
       "        vertical-align: top;\n",
       "    }\n",
       "\n",
       "    .dataframe thead th {\n",
       "        text-align: right;\n",
       "    }\n",
       "</style>\n",
       "<table border=\"1\" class=\"dataframe\">\n",
       "  <thead>\n",
       "    <tr style=\"text-align: right;\">\n",
       "      <th></th>\n",
       "      <th>부가가치(IFRS)(백만원)</th>\n",
       "      <th>법인세비용차감전(계속사업)손익(IFRS)(백만원)</th>\n",
       "      <th>인건비(IFRS)(백만원)</th>\n",
       "      <th>금융비용(IFRS)(백만원)</th>\n",
       "      <th>임차료(IFRS)(백만원)</th>\n",
       "      <th>세금과공과(IFRS)(백만원)</th>\n",
       "      <th>감가상각비(IFRS)(백만원)</th>\n",
       "      <th>종업원수(IFRS)</th>\n",
       "    </tr>\n",
       "  </thead>\n",
       "  <tbody>\n",
       "    <tr>\n",
       "      <th>0</th>\n",
       "      <td>66194.88</td>\n",
       "      <td>1548.77</td>\n",
       "      <td>46876.84</td>\n",
       "      <td>3589.40</td>\n",
       "      <td>0.0</td>\n",
       "      <td>0.0</td>\n",
       "      <td>14203.75</td>\n",
       "      <td>150.0</td>\n",
       "    </tr>\n",
       "    <tr>\n",
       "      <th>1</th>\n",
       "      <td>-11379.61</td>\n",
       "      <td>-11379.61</td>\n",
       "      <td>0.00</td>\n",
       "      <td>0.00</td>\n",
       "      <td>0.0</td>\n",
       "      <td>0.0</td>\n",
       "      <td>0.00</td>\n",
       "      <td>134.0</td>\n",
       "    </tr>\n",
       "    <tr>\n",
       "      <th>2</th>\n",
       "      <td>20831.20</td>\n",
       "      <td>-34429.26</td>\n",
       "      <td>39598.55</td>\n",
       "      <td>3990.88</td>\n",
       "      <td>0.0</td>\n",
       "      <td>0.0</td>\n",
       "      <td>11694.91</td>\n",
       "      <td>526.0</td>\n",
       "    </tr>\n",
       "    <tr>\n",
       "      <th>3</th>\n",
       "      <td>1354073.61</td>\n",
       "      <td>227947.72</td>\n",
       "      <td>802635.00</td>\n",
       "      <td>94086.89</td>\n",
       "      <td>124047.0</td>\n",
       "      <td>54145.0</td>\n",
       "      <td>51212.00</td>\n",
       "      <td>5192.0</td>\n",
       "    </tr>\n",
       "    <tr>\n",
       "      <th>4</th>\n",
       "      <td>405379.72</td>\n",
       "      <td>-839724.66</td>\n",
       "      <td>913926.00</td>\n",
       "      <td>86015.38</td>\n",
       "      <td>123239.0</td>\n",
       "      <td>62921.0</td>\n",
       "      <td>59003.00</td>\n",
       "      <td>6382.0</td>\n",
       "    </tr>\n",
       "  </tbody>\n",
       "</table>\n",
       "</div>"
      ],
      "text/plain": [
       "   부가가치(IFRS)(백만원)  법인세비용차감전(계속사업)손익(IFRS)(백만원)  인건비(IFRS)(백만원)  \\\n",
       "0         66194.88                      1548.77        46876.84   \n",
       "1        -11379.61                    -11379.61            0.00   \n",
       "2         20831.20                    -34429.26        39598.55   \n",
       "3       1354073.61                    227947.72       802635.00   \n",
       "4        405379.72                   -839724.66       913926.00   \n",
       "\n",
       "   금융비용(IFRS)(백만원)  임차료(IFRS)(백만원)  세금과공과(IFRS)(백만원)  감가상각비(IFRS)(백만원)  \\\n",
       "0          3589.40             0.0               0.0          14203.75   \n",
       "1             0.00             0.0               0.0              0.00   \n",
       "2          3990.88             0.0               0.0          11694.91   \n",
       "3         94086.89        124047.0           54145.0          51212.00   \n",
       "4         86015.38        123239.0           62921.0          59003.00   \n",
       "\n",
       "   종업원수(IFRS)  \n",
       "0       150.0  \n",
       "1       134.0  \n",
       "2       526.0  \n",
       "3      5192.0  \n",
       "4      6382.0  "
      ]
     },
     "execution_count": 25,
     "metadata": {},
     "output_type": "execute_result"
    }
   ],
   "source": [
    "plus_feature = feature[columns_list]\n",
    "plus_feature.head()"
   ]
  },
  {
   "cell_type": "code",
   "execution_count": 26,
   "metadata": {},
   "outputs": [
    {
     "data": {
      "text/html": [
       "<div>\n",
       "<style scoped>\n",
       "    .dataframe tbody tr th:only-of-type {\n",
       "        vertical-align: middle;\n",
       "    }\n",
       "\n",
       "    .dataframe tbody tr th {\n",
       "        vertical-align: top;\n",
       "    }\n",
       "\n",
       "    .dataframe thead th {\n",
       "        text-align: right;\n",
       "    }\n",
       "</style>\n",
       "<table border=\"1\" class=\"dataframe\">\n",
       "  <thead>\n",
       "    <tr style=\"text-align: right;\">\n",
       "      <th></th>\n",
       "      <th>회사명</th>\n",
       "      <th>거래소코드</th>\n",
       "      <th>회계년도</th>\n",
       "      <th>소속코드</th>\n",
       "      <th>통계청 한국표준산업분류 코드 10차(대분류)</th>\n",
       "      <th>산업코드</th>\n",
       "      <th>산업명</th>\n",
       "      <th>상장일</th>\n",
       "      <th>상장폐지일</th>\n",
       "    </tr>\n",
       "  </thead>\n",
       "  <tbody>\n",
       "    <tr>\n",
       "      <th>0</th>\n",
       "      <td>(주)다이나믹디자인</td>\n",
       "      <td>145210</td>\n",
       "      <td>2015</td>\n",
       "      <td>1</td>\n",
       "      <td>29</td>\n",
       "      <td>32902</td>\n",
       "      <td>기타 기계 및 장비 제조업</td>\n",
       "      <td>2015-03-19</td>\n",
       "      <td>NaN</td>\n",
       "    </tr>\n",
       "    <tr>\n",
       "      <th>1</th>\n",
       "      <td>(주)다이나믹디자인</td>\n",
       "      <td>145210</td>\n",
       "      <td>2016</td>\n",
       "      <td>1</td>\n",
       "      <td>29</td>\n",
       "      <td>32902</td>\n",
       "      <td>기타 기계 및 장비 제조업</td>\n",
       "      <td>2015-03-19</td>\n",
       "      <td>NaN</td>\n",
       "    </tr>\n",
       "    <tr>\n",
       "      <th>2</th>\n",
       "      <td>(주)다이나믹디자인</td>\n",
       "      <td>145210</td>\n",
       "      <td>2017</td>\n",
       "      <td>1</td>\n",
       "      <td>29</td>\n",
       "      <td>32902</td>\n",
       "      <td>기타 기계 및 장비 제조업</td>\n",
       "      <td>2015-03-19</td>\n",
       "      <td>NaN</td>\n",
       "    </tr>\n",
       "    <tr>\n",
       "      <th>3</th>\n",
       "      <td>(주)대우건설</td>\n",
       "      <td>47040</td>\n",
       "      <td>2012</td>\n",
       "      <td>1</td>\n",
       "      <td>41</td>\n",
       "      <td>64101</td>\n",
       "      <td>종합 건설업</td>\n",
       "      <td>2001-03-23</td>\n",
       "      <td>NaN</td>\n",
       "    </tr>\n",
       "    <tr>\n",
       "      <th>4</th>\n",
       "      <td>(주)대우건설</td>\n",
       "      <td>47040</td>\n",
       "      <td>2013</td>\n",
       "      <td>1</td>\n",
       "      <td>41</td>\n",
       "      <td>64101</td>\n",
       "      <td>종합 건설업</td>\n",
       "      <td>2001-03-23</td>\n",
       "      <td>NaN</td>\n",
       "    </tr>\n",
       "  </tbody>\n",
       "</table>\n",
       "</div>"
      ],
      "text/plain": [
       "          회사명   거래소코드  회계년도  소속코드  통계청 한국표준산업분류 코드 10차(대분류)   산업코드  \\\n",
       "0  (주)다이나믹디자인  145210  2015     1                        29  32902   \n",
       "1  (주)다이나믹디자인  145210  2016     1                        29  32902   \n",
       "2  (주)다이나믹디자인  145210  2017     1                        29  32902   \n",
       "3     (주)대우건설   47040  2012     1                        41  64101   \n",
       "4     (주)대우건설   47040  2013     1                        41  64101   \n",
       "\n",
       "                 산업명         상장일 상장폐지일  \n",
       "0    기타 기계 및 장비 제조업   2015-03-19   NaN  \n",
       "1    기타 기계 및 장비 제조업   2015-03-19   NaN  \n",
       "2    기타 기계 및 장비 제조업   2015-03-19   NaN  \n",
       "3            종합 건설업   2001-03-23   NaN  \n",
       "4            종합 건설업   2001-03-23   NaN  "
      ]
     },
     "execution_count": 26,
     "metadata": {},
     "output_type": "execute_result"
    }
   ],
   "source": [
    "no_ratio.head()"
   ]
  },
  {
   "cell_type": "code",
   "execution_count": 30,
   "metadata": {},
   "outputs": [
    {
     "data": {
      "text/html": [
       "<div>\n",
       "<style scoped>\n",
       "    .dataframe tbody tr th:only-of-type {\n",
       "        vertical-align: middle;\n",
       "    }\n",
       "\n",
       "    .dataframe tbody tr th {\n",
       "        vertical-align: top;\n",
       "    }\n",
       "\n",
       "    .dataframe thead th {\n",
       "        text-align: right;\n",
       "    }\n",
       "</style>\n",
       "<table border=\"1\" class=\"dataframe\">\n",
       "  <thead>\n",
       "    <tr style=\"text-align: right;\">\n",
       "      <th></th>\n",
       "      <th>회사명</th>\n",
       "      <th>거래소코드</th>\n",
       "      <th>회계년도</th>\n",
       "      <th>소속코드</th>\n",
       "      <th>통계청 한국표준산업분류 코드 10차(대분류)</th>\n",
       "      <th>산업코드</th>\n",
       "      <th>산업명</th>\n",
       "      <th>상장일</th>\n",
       "      <th>상장폐지일</th>\n",
       "      <th>부가가치(IFRS)(백만원)</th>\n",
       "      <th>...</th>\n",
       "      <th>감가상각비(IFRS)(백만원)</th>\n",
       "      <th>종업원수(IFRS)</th>\n",
       "      <th>부가가치(IFRS)(백만원)</th>\n",
       "      <th>법인세비용차감전(계속사업)손익(IFRS)(백만원)</th>\n",
       "      <th>인건비(IFRS)(백만원)</th>\n",
       "      <th>금융비용(IFRS)(백만원)</th>\n",
       "      <th>임차료(IFRS)(백만원)</th>\n",
       "      <th>세금과공과(IFRS)(백만원)</th>\n",
       "      <th>감가상각비(IFRS)(백만원)</th>\n",
       "      <th>종업원수(IFRS)</th>\n",
       "    </tr>\n",
       "  </thead>\n",
       "  <tbody>\n",
       "    <tr>\n",
       "      <th>0</th>\n",
       "      <td>(주)다이나믹디자인</td>\n",
       "      <td>145210</td>\n",
       "      <td>2015</td>\n",
       "      <td>1</td>\n",
       "      <td>29</td>\n",
       "      <td>32902</td>\n",
       "      <td>기타 기계 및 장비 제조업</td>\n",
       "      <td>2015-03-19</td>\n",
       "      <td>NaN</td>\n",
       "      <td>66194.88</td>\n",
       "      <td>...</td>\n",
       "      <td>14203.75</td>\n",
       "      <td>150.0</td>\n",
       "      <td>66194.88</td>\n",
       "      <td>1548.77</td>\n",
       "      <td>46876.84</td>\n",
       "      <td>3589.4</td>\n",
       "      <td>0.0</td>\n",
       "      <td>0.0</td>\n",
       "      <td>14203.75</td>\n",
       "      <td>150.0</td>\n",
       "    </tr>\n",
       "    <tr>\n",
       "      <th>1</th>\n",
       "      <td>(주)다이나믹디자인</td>\n",
       "      <td>145210</td>\n",
       "      <td>2016</td>\n",
       "      <td>1</td>\n",
       "      <td>29</td>\n",
       "      <td>32902</td>\n",
       "      <td>기타 기계 및 장비 제조업</td>\n",
       "      <td>2015-03-19</td>\n",
       "      <td>NaN</td>\n",
       "      <td>-11379.61</td>\n",
       "      <td>...</td>\n",
       "      <td>0.00</td>\n",
       "      <td>134.0</td>\n",
       "      <td>-11379.61</td>\n",
       "      <td>-11379.61</td>\n",
       "      <td>0.00</td>\n",
       "      <td>0.0</td>\n",
       "      <td>0.0</td>\n",
       "      <td>0.0</td>\n",
       "      <td>0.00</td>\n",
       "      <td>134.0</td>\n",
       "    </tr>\n",
       "  </tbody>\n",
       "</table>\n",
       "<p>2 rows × 25 columns</p>\n",
       "</div>"
      ],
      "text/plain": [
       "          회사명   거래소코드  회계년도  소속코드  통계청 한국표준산업분류 코드 10차(대분류)   산업코드  \\\n",
       "0  (주)다이나믹디자인  145210  2015     1                        29  32902   \n",
       "1  (주)다이나믹디자인  145210  2016     1                        29  32902   \n",
       "\n",
       "                 산업명         상장일 상장폐지일  부가가치(IFRS)(백만원)  ...  \\\n",
       "0    기타 기계 및 장비 제조업   2015-03-19   NaN         66194.88  ...   \n",
       "1    기타 기계 및 장비 제조업   2015-03-19   NaN        -11379.61  ...   \n",
       "\n",
       "   감가상각비(IFRS)(백만원)  종업원수(IFRS)  부가가치(IFRS)(백만원)  법인세비용차감전(계속사업)손익(IFRS)(백만원)  \\\n",
       "0          14203.75       150.0         66194.88                      1548.77   \n",
       "1              0.00       134.0        -11379.61                    -11379.61   \n",
       "\n",
       "   인건비(IFRS)(백만원)  금융비용(IFRS)(백만원)  임차료(IFRS)(백만원)  세금과공과(IFRS)(백만원)  \\\n",
       "0        46876.84           3589.4             0.0               0.0   \n",
       "1            0.00              0.0             0.0               0.0   \n",
       "\n",
       "   감가상각비(IFRS)(백만원)  종업원수(IFRS)  \n",
       "0          14203.75       150.0  \n",
       "1              0.00       134.0  \n",
       "\n",
       "[2 rows x 25 columns]"
      ]
     },
     "execution_count": 30,
     "metadata": {},
     "output_type": "execute_result"
    }
   ],
   "source": [
    "no_ratio = pd.concat([no_ratio, plus_feature], axis=1)\n",
    "no_ratio.head(2)"
   ]
  },
  {
   "cell_type": "code",
   "execution_count": 28,
   "metadata": {},
   "outputs": [],
   "source": [
    "# no_ratio.to_csv('../data/processed_data/재무비율에서뺀재무지표.csv', index = False, encoding = 'UTF-8-sig')"
   ]
  },
  {
   "cell_type": "code",
   "execution_count": 29,
   "metadata": {},
   "outputs": [],
   "source": [
    "# df.to_csv('../data/processed_data/재무비율_final.csv', index = False, encoding = 'UTF-8-sig')"
   ]
  }
 ],
 "metadata": {
  "kernelspec": {
   "display_name": "base",
   "language": "python",
   "name": "python3"
  },
  "language_info": {
   "codemirror_mode": {
    "name": "ipython",
    "version": 3
   },
   "file_extension": ".py",
   "mimetype": "text/x-python",
   "name": "python",
   "nbconvert_exporter": "python",
   "pygments_lexer": "ipython3",
   "version": "3.10.9"
  }
 },
 "nbformat": 4,
 "nbformat_minor": 2
}
