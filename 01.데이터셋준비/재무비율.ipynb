{
 "cells": [
  {
   "cell_type": "code",
   "execution_count": 1,
   "metadata": {},
   "outputs": [],
   "source": [
    "import pandas as pd"
   ]
  },
  {
   "cell_type": "code",
   "execution_count": 2,
   "metadata": {},
   "outputs": [],
   "source": [
    "kospi_ratio = pd.read_excel('../data/raw_data/코스피_재무비율.xlsx')\n",
    "kosdaq_ratio = pd.read_excel('../data/raw_data/코스닥_재무비율.xlsx')"
   ]
  },
  {
   "cell_type": "code",
   "execution_count": 3,
   "metadata": {},
   "outputs": [
    {
     "name": "stdout",
     "output_type": "stream",
     "text": [
      "kospi_ratio:  (8997, 156)\n",
      "kosdaq_ratio:  (18974, 156)\n"
     ]
    }
   ],
   "source": [
    "print('kospi_ratio: ', kospi_ratio.shape)\n",
    "print('kosdaq_ratio: ', kosdaq_ratio.shape)"
   ]
  },
  {
   "cell_type": "code",
   "execution_count": 4,
   "metadata": {},
   "outputs": [
    {
     "name": "stdout",
     "output_type": "stream",
     "text": [
      "kospi_ratio:  (820, 156)\n",
      "kosdaq_ratio:  (1935, 156)\n"
     ]
    }
   ],
   "source": [
    "print('kospi_ratio: ', kospi_ratio.drop_duplicates('거래소코드').shape)\n",
    "print('kosdaq_ratio: ', kosdaq_ratio.drop_duplicates('거래소코드').shape)"
   ]
  },
  {
   "cell_type": "code",
   "execution_count": 5,
   "metadata": {},
   "outputs": [],
   "source": [
    "listed = pd.concat([kospi_ratio, kosdaq_ratio], ignore_index=True)"
   ]
  },
  {
   "cell_type": "code",
   "execution_count": 6,
   "metadata": {},
   "outputs": [
    {
     "data": {
      "text/html": [
       "<div>\n",
       "<style scoped>\n",
       "    .dataframe tbody tr th:only-of-type {\n",
       "        vertical-align: middle;\n",
       "    }\n",
       "\n",
       "    .dataframe tbody tr th {\n",
       "        vertical-align: top;\n",
       "    }\n",
       "\n",
       "    .dataframe thead th {\n",
       "        text-align: right;\n",
       "    }\n",
       "</style>\n",
       "<table border=\"1\" class=\"dataframe\">\n",
       "  <thead>\n",
       "    <tr style=\"text-align: right;\">\n",
       "      <th></th>\n",
       "      <th>회사명</th>\n",
       "      <th>거래소코드</th>\n",
       "      <th>회계년도</th>\n",
       "      <th>소속코드</th>\n",
       "      <th>통계청 한국표준산업분류 코드 10차(대분류)</th>\n",
       "      <th>산업코드</th>\n",
       "      <th>산업명</th>\n",
       "      <th>상장일</th>\n",
       "      <th>상장폐지일</th>\n",
       "      <th>총자본증가율(IFRS연결)</th>\n",
       "      <th>...</th>\n",
       "      <th>인건비(IFRS연결)(백만원)</th>\n",
       "      <th>금융비용(IFRS연결)(백만원)</th>\n",
       "      <th>임차료(IFRS연결)(백만원)</th>\n",
       "      <th>세금과공과(IFRS연결)(백만원)</th>\n",
       "      <th>감가상각비(IFRS연결)(백만원)</th>\n",
       "      <th>종업원1인당 부가가치(IFRS연결)(백만원).1</th>\n",
       "      <th>총자본투자효율(IFRS연결).1</th>\n",
       "      <th>기계투자효율(IFRS연결).1</th>\n",
       "      <th>부가가치율(IFRS연결).1</th>\n",
       "      <th>종업원수(IFRS연결)</th>\n",
       "    </tr>\n",
       "  </thead>\n",
       "  <tbody>\n",
       "    <tr>\n",
       "      <th>1444</th>\n",
       "      <td>(주)셀트리온</td>\n",
       "      <td>68270</td>\n",
       "      <td>2012/12</td>\n",
       "      <td>1</td>\n",
       "      <td>21</td>\n",
       "      <td>32101</td>\n",
       "      <td>의료용 물질 및 의약품 제조업</td>\n",
       "      <td>2018/02/09</td>\n",
       "      <td>NaN</td>\n",
       "      <td>0.00</td>\n",
       "      <td>...</td>\n",
       "      <td>56122.23</td>\n",
       "      <td>9244.68</td>\n",
       "      <td>1026.32</td>\n",
       "      <td>946.04</td>\n",
       "      <td>36679.19</td>\n",
       "      <td>NaN</td>\n",
       "      <td>16.82</td>\n",
       "      <td>2440.15</td>\n",
       "      <td>83.21</td>\n",
       "      <td>NaN</td>\n",
       "    </tr>\n",
       "    <tr>\n",
       "      <th>1445</th>\n",
       "      <td>(주)셀트리온</td>\n",
       "      <td>68270</td>\n",
       "      <td>2013/12</td>\n",
       "      <td>1</td>\n",
       "      <td>21</td>\n",
       "      <td>32101</td>\n",
       "      <td>의료용 물질 및 의약품 제조업</td>\n",
       "      <td>2018/02/09</td>\n",
       "      <td>NaN</td>\n",
       "      <td>14.17</td>\n",
       "      <td>...</td>\n",
       "      <td>47863.33</td>\n",
       "      <td>21608.50</td>\n",
       "      <td>1044.44</td>\n",
       "      <td>1100.75</td>\n",
       "      <td>47710.47</td>\n",
       "      <td>NaN</td>\n",
       "      <td>11.87</td>\n",
       "      <td>2214.09</td>\n",
       "      <td>103.78</td>\n",
       "      <td>NaN</td>\n",
       "    </tr>\n",
       "    <tr>\n",
       "      <th>1446</th>\n",
       "      <td>(주)셀트리온</td>\n",
       "      <td>68270</td>\n",
       "      <td>2014/12</td>\n",
       "      <td>1</td>\n",
       "      <td>21</td>\n",
       "      <td>32101</td>\n",
       "      <td>의료용 물질 및 의약품 제조업</td>\n",
       "      <td>2018/02/09</td>\n",
       "      <td>NaN</td>\n",
       "      <td>17.38</td>\n",
       "      <td>...</td>\n",
       "      <td>75196.20</td>\n",
       "      <td>28158.55</td>\n",
       "      <td>1898.77</td>\n",
       "      <td>2093.42</td>\n",
       "      <td>76278.81</td>\n",
       "      <td>NaN</td>\n",
       "      <td>14.33</td>\n",
       "      <td>2358.47</td>\n",
       "      <td>70.64</td>\n",
       "      <td>NaN</td>\n",
       "    </tr>\n",
       "    <tr>\n",
       "      <th>1447</th>\n",
       "      <td>(주)셀트리온</td>\n",
       "      <td>68270</td>\n",
       "      <td>2015/12</td>\n",
       "      <td>1</td>\n",
       "      <td>21</td>\n",
       "      <td>32101</td>\n",
       "      <td>의료용 물질 및 의약품 제조업</td>\n",
       "      <td>2018/02/09</td>\n",
       "      <td>NaN</td>\n",
       "      <td>18.34</td>\n",
       "      <td>...</td>\n",
       "      <td>84885.07</td>\n",
       "      <td>22657.19</td>\n",
       "      <td>2211.66</td>\n",
       "      <td>2218.44</td>\n",
       "      <td>82174.08</td>\n",
       "      <td>NaN</td>\n",
       "      <td>13.00</td>\n",
       "      <td>480.46</td>\n",
       "      <td>59.21</td>\n",
       "      <td>NaN</td>\n",
       "    </tr>\n",
       "    <tr>\n",
       "      <th>1448</th>\n",
       "      <td>(주)셀트리온</td>\n",
       "      <td>68270</td>\n",
       "      <td>2016/12</td>\n",
       "      <td>1</td>\n",
       "      <td>21</td>\n",
       "      <td>32101</td>\n",
       "      <td>의료용 물질 및 의약품 제조업</td>\n",
       "      <td>2018/02/09</td>\n",
       "      <td>NaN</td>\n",
       "      <td>4.93</td>\n",
       "      <td>...</td>\n",
       "      <td>101885.24</td>\n",
       "      <td>14297.96</td>\n",
       "      <td>2242.57</td>\n",
       "      <td>3546.02</td>\n",
       "      <td>84773.55</td>\n",
       "      <td>NaN</td>\n",
       "      <td>14.02</td>\n",
       "      <td>138.42</td>\n",
       "      <td>60.27</td>\n",
       "      <td>NaN</td>\n",
       "    </tr>\n",
       "    <tr>\n",
       "      <th>1449</th>\n",
       "      <td>(주)셀트리온</td>\n",
       "      <td>68270</td>\n",
       "      <td>2017/12</td>\n",
       "      <td>1</td>\n",
       "      <td>21</td>\n",
       "      <td>32101</td>\n",
       "      <td>의료용 물질 및 의약품 제조업</td>\n",
       "      <td>2018/02/09</td>\n",
       "      <td>NaN</td>\n",
       "      <td>14.23</td>\n",
       "      <td>...</td>\n",
       "      <td>129910.64</td>\n",
       "      <td>9133.63</td>\n",
       "      <td>2502.06</td>\n",
       "      <td>3881.94</td>\n",
       "      <td>97950.27</td>\n",
       "      <td>NaN</td>\n",
       "      <td>22.05</td>\n",
       "      <td>271.63</td>\n",
       "      <td>76.54</td>\n",
       "      <td>NaN</td>\n",
       "    </tr>\n",
       "    <tr>\n",
       "      <th>1450</th>\n",
       "      <td>(주)셀트리온</td>\n",
       "      <td>68270</td>\n",
       "      <td>2018/12</td>\n",
       "      <td>1</td>\n",
       "      <td>21</td>\n",
       "      <td>32101</td>\n",
       "      <td>의료용 물질 및 의약품 제조업</td>\n",
       "      <td>2018/02/09</td>\n",
       "      <td>NaN</td>\n",
       "      <td>6.35</td>\n",
       "      <td>...</td>\n",
       "      <td>165997.87</td>\n",
       "      <td>3948.96</td>\n",
       "      <td>2838.20</td>\n",
       "      <td>4763.27</td>\n",
       "      <td>124826.47</td>\n",
       "      <td>NaN</td>\n",
       "      <td>17.24</td>\n",
       "      <td>247.20</td>\n",
       "      <td>61.50</td>\n",
       "      <td>NaN</td>\n",
       "    </tr>\n",
       "    <tr>\n",
       "      <th>1451</th>\n",
       "      <td>(주)셀트리온</td>\n",
       "      <td>68270</td>\n",
       "      <td>2019/12</td>\n",
       "      <td>1</td>\n",
       "      <td>21</td>\n",
       "      <td>32101</td>\n",
       "      <td>의료용 물질 및 의약품 제조업</td>\n",
       "      <td>2018/02/09</td>\n",
       "      <td>NaN</td>\n",
       "      <td>10.18</td>\n",
       "      <td>...</td>\n",
       "      <td>209351.25</td>\n",
       "      <td>-1228.84</td>\n",
       "      <td>1101.15</td>\n",
       "      <td>5584.20</td>\n",
       "      <td>153719.62</td>\n",
       "      <td>NaN</td>\n",
       "      <td>19.45</td>\n",
       "      <td>259.78</td>\n",
       "      <td>66.51</td>\n",
       "      <td>NaN</td>\n",
       "    </tr>\n",
       "    <tr>\n",
       "      <th>1452</th>\n",
       "      <td>(주)셀트리온</td>\n",
       "      <td>68270</td>\n",
       "      <td>2020/12</td>\n",
       "      <td>1</td>\n",
       "      <td>21</td>\n",
       "      <td>32101</td>\n",
       "      <td>의료용 물질 및 의약품 제조업</td>\n",
       "      <td>2018/02/09</td>\n",
       "      <td>NaN</td>\n",
       "      <td>30.07</td>\n",
       "      <td>...</td>\n",
       "      <td>243184.58</td>\n",
       "      <td>1537.81</td>\n",
       "      <td>0.00</td>\n",
       "      <td>5846.31</td>\n",
       "      <td>173849.80</td>\n",
       "      <td>NaN</td>\n",
       "      <td>21.54</td>\n",
       "      <td>365.66</td>\n",
       "      <td>58.49</td>\n",
       "      <td>NaN</td>\n",
       "    </tr>\n",
       "    <tr>\n",
       "      <th>1453</th>\n",
       "      <td>(주)셀트리온</td>\n",
       "      <td>68270</td>\n",
       "      <td>2021/12</td>\n",
       "      <td>1</td>\n",
       "      <td>21</td>\n",
       "      <td>32101</td>\n",
       "      <td>의료용 물질 및 의약품 제조업</td>\n",
       "      <td>2018/02/09</td>\n",
       "      <td>NaN</td>\n",
       "      <td>13.03</td>\n",
       "      <td>...</td>\n",
       "      <td>252822.59</td>\n",
       "      <td>1602.49</td>\n",
       "      <td>0.00</td>\n",
       "      <td>6821.75</td>\n",
       "      <td>214159.74</td>\n",
       "      <td>NaN</td>\n",
       "      <td>21.62</td>\n",
       "      <td>407.25</td>\n",
       "      <td>64.17</td>\n",
       "      <td>NaN</td>\n",
       "    </tr>\n",
       "    <tr>\n",
       "      <th>1454</th>\n",
       "      <td>(주)셀트리온</td>\n",
       "      <td>68270</td>\n",
       "      <td>2022/12</td>\n",
       "      <td>1</td>\n",
       "      <td>21</td>\n",
       "      <td>32101</td>\n",
       "      <td>의료용 물질 및 의약품 제조업</td>\n",
       "      <td>2018/02/09</td>\n",
       "      <td>NaN</td>\n",
       "      <td>3.83</td>\n",
       "      <td>...</td>\n",
       "      <td>276427.54</td>\n",
       "      <td>-6943.42</td>\n",
       "      <td>0.00</td>\n",
       "      <td>7223.42</td>\n",
       "      <td>226390.02</td>\n",
       "      <td>NaN</td>\n",
       "      <td>19.17</td>\n",
       "      <td>425.62</td>\n",
       "      <td>49.44</td>\n",
       "      <td>NaN</td>\n",
       "    </tr>\n",
       "    <tr>\n",
       "      <th>1455</th>\n",
       "      <td>(주)셀트리온</td>\n",
       "      <td>68270</td>\n",
       "      <td>2023/12</td>\n",
       "      <td>1</td>\n",
       "      <td>21</td>\n",
       "      <td>32101</td>\n",
       "      <td>의료용 물질 및 의약품 제조업</td>\n",
       "      <td>2018/02/09</td>\n",
       "      <td>NaN</td>\n",
       "      <td>238.06</td>\n",
       "      <td>...</td>\n",
       "      <td>304339.57</td>\n",
       "      <td>-9466.72</td>\n",
       "      <td>0.00</td>\n",
       "      <td>7919.81</td>\n",
       "      <td>245827.33</td>\n",
       "      <td>NaN</td>\n",
       "      <td>6.12</td>\n",
       "      <td>521.69</td>\n",
       "      <td>56.04</td>\n",
       "      <td>NaN</td>\n",
       "    </tr>\n",
       "    <tr>\n",
       "      <th>13163</th>\n",
       "      <td>(주)셀트리온</td>\n",
       "      <td>68270</td>\n",
       "      <td>2012/12</td>\n",
       "      <td>4</td>\n",
       "      <td>21</td>\n",
       "      <td>32101</td>\n",
       "      <td>의료용 물질 및 의약품 제조업</td>\n",
       "      <td>2005/07/15</td>\n",
       "      <td>2018/02/09</td>\n",
       "      <td>0.00</td>\n",
       "      <td>...</td>\n",
       "      <td>56122.23</td>\n",
       "      <td>9244.68</td>\n",
       "      <td>1026.32</td>\n",
       "      <td>946.04</td>\n",
       "      <td>36679.19</td>\n",
       "      <td>NaN</td>\n",
       "      <td>16.82</td>\n",
       "      <td>2440.15</td>\n",
       "      <td>83.21</td>\n",
       "      <td>NaN</td>\n",
       "    </tr>\n",
       "    <tr>\n",
       "      <th>13164</th>\n",
       "      <td>(주)셀트리온</td>\n",
       "      <td>68270</td>\n",
       "      <td>2013/12</td>\n",
       "      <td>4</td>\n",
       "      <td>21</td>\n",
       "      <td>32101</td>\n",
       "      <td>의료용 물질 및 의약품 제조업</td>\n",
       "      <td>2005/07/15</td>\n",
       "      <td>2018/02/09</td>\n",
       "      <td>14.17</td>\n",
       "      <td>...</td>\n",
       "      <td>47863.33</td>\n",
       "      <td>21608.50</td>\n",
       "      <td>1044.44</td>\n",
       "      <td>1100.75</td>\n",
       "      <td>47710.47</td>\n",
       "      <td>NaN</td>\n",
       "      <td>11.87</td>\n",
       "      <td>2214.09</td>\n",
       "      <td>103.78</td>\n",
       "      <td>NaN</td>\n",
       "    </tr>\n",
       "    <tr>\n",
       "      <th>13165</th>\n",
       "      <td>(주)셀트리온</td>\n",
       "      <td>68270</td>\n",
       "      <td>2014/12</td>\n",
       "      <td>4</td>\n",
       "      <td>21</td>\n",
       "      <td>32101</td>\n",
       "      <td>의료용 물질 및 의약품 제조업</td>\n",
       "      <td>2005/07/15</td>\n",
       "      <td>2018/02/09</td>\n",
       "      <td>17.38</td>\n",
       "      <td>...</td>\n",
       "      <td>75196.20</td>\n",
       "      <td>28158.55</td>\n",
       "      <td>1898.77</td>\n",
       "      <td>2093.42</td>\n",
       "      <td>76278.81</td>\n",
       "      <td>NaN</td>\n",
       "      <td>14.33</td>\n",
       "      <td>2358.47</td>\n",
       "      <td>70.64</td>\n",
       "      <td>NaN</td>\n",
       "    </tr>\n",
       "    <tr>\n",
       "      <th>13166</th>\n",
       "      <td>(주)셀트리온</td>\n",
       "      <td>68270</td>\n",
       "      <td>2015/12</td>\n",
       "      <td>4</td>\n",
       "      <td>21</td>\n",
       "      <td>32101</td>\n",
       "      <td>의료용 물질 및 의약품 제조업</td>\n",
       "      <td>2005/07/15</td>\n",
       "      <td>2018/02/09</td>\n",
       "      <td>18.34</td>\n",
       "      <td>...</td>\n",
       "      <td>84885.07</td>\n",
       "      <td>22657.19</td>\n",
       "      <td>2211.66</td>\n",
       "      <td>2218.44</td>\n",
       "      <td>82174.08</td>\n",
       "      <td>NaN</td>\n",
       "      <td>13.00</td>\n",
       "      <td>480.46</td>\n",
       "      <td>59.21</td>\n",
       "      <td>NaN</td>\n",
       "    </tr>\n",
       "    <tr>\n",
       "      <th>13167</th>\n",
       "      <td>(주)셀트리온</td>\n",
       "      <td>68270</td>\n",
       "      <td>2016/12</td>\n",
       "      <td>4</td>\n",
       "      <td>21</td>\n",
       "      <td>32101</td>\n",
       "      <td>의료용 물질 및 의약품 제조업</td>\n",
       "      <td>2005/07/15</td>\n",
       "      <td>2018/02/09</td>\n",
       "      <td>9.96</td>\n",
       "      <td>...</td>\n",
       "      <td>99333.59</td>\n",
       "      <td>10847.19</td>\n",
       "      <td>2242.57</td>\n",
       "      <td>3546.02</td>\n",
       "      <td>88675.33</td>\n",
       "      <td>NaN</td>\n",
       "      <td>14.36</td>\n",
       "      <td>148.62</td>\n",
       "      <td>64.72</td>\n",
       "      <td>NaN</td>\n",
       "    </tr>\n",
       "  </tbody>\n",
       "</table>\n",
       "<p>17 rows × 156 columns</p>\n",
       "</div>"
      ],
      "text/plain": [
       "           회사명  거래소코드     회계년도  소속코드  통계청 한국표준산업분류 코드 10차(대분류)   산업코드  \\\n",
       "1444   (주)셀트리온  68270  2012/12     1                        21  32101   \n",
       "1445   (주)셀트리온  68270  2013/12     1                        21  32101   \n",
       "1446   (주)셀트리온  68270  2014/12     1                        21  32101   \n",
       "1447   (주)셀트리온  68270  2015/12     1                        21  32101   \n",
       "1448   (주)셀트리온  68270  2016/12     1                        21  32101   \n",
       "1449   (주)셀트리온  68270  2017/12     1                        21  32101   \n",
       "1450   (주)셀트리온  68270  2018/12     1                        21  32101   \n",
       "1451   (주)셀트리온  68270  2019/12     1                        21  32101   \n",
       "1452   (주)셀트리온  68270  2020/12     1                        21  32101   \n",
       "1453   (주)셀트리온  68270  2021/12     1                        21  32101   \n",
       "1454   (주)셀트리온  68270  2022/12     1                        21  32101   \n",
       "1455   (주)셀트리온  68270  2023/12     1                        21  32101   \n",
       "13163  (주)셀트리온  68270  2012/12     4                        21  32101   \n",
       "13164  (주)셀트리온  68270  2013/12     4                        21  32101   \n",
       "13165  (주)셀트리온  68270  2014/12     4                        21  32101   \n",
       "13166  (주)셀트리온  68270  2015/12     4                        21  32101   \n",
       "13167  (주)셀트리온  68270  2016/12     4                        21  32101   \n",
       "\n",
       "                       산업명         상장일       상장폐지일  총자본증가율(IFRS연결)  ...  \\\n",
       "1444     의료용 물질 및 의약품 제조업   2018/02/09         NaN            0.00  ...   \n",
       "1445     의료용 물질 및 의약품 제조업   2018/02/09         NaN           14.17  ...   \n",
       "1446     의료용 물질 및 의약품 제조업   2018/02/09         NaN           17.38  ...   \n",
       "1447     의료용 물질 및 의약품 제조업   2018/02/09         NaN           18.34  ...   \n",
       "1448     의료용 물질 및 의약품 제조업   2018/02/09         NaN            4.93  ...   \n",
       "1449     의료용 물질 및 의약품 제조업   2018/02/09         NaN           14.23  ...   \n",
       "1450     의료용 물질 및 의약품 제조업   2018/02/09         NaN            6.35  ...   \n",
       "1451     의료용 물질 및 의약품 제조업   2018/02/09         NaN           10.18  ...   \n",
       "1452     의료용 물질 및 의약품 제조업   2018/02/09         NaN           30.07  ...   \n",
       "1453     의료용 물질 및 의약품 제조업   2018/02/09         NaN           13.03  ...   \n",
       "1454     의료용 물질 및 의약품 제조업   2018/02/09         NaN            3.83  ...   \n",
       "1455     의료용 물질 및 의약품 제조업   2018/02/09         NaN          238.06  ...   \n",
       "13163    의료용 물질 및 의약품 제조업   2005/07/15  2018/02/09            0.00  ...   \n",
       "13164    의료용 물질 및 의약품 제조업   2005/07/15  2018/02/09           14.17  ...   \n",
       "13165    의료용 물질 및 의약품 제조업   2005/07/15  2018/02/09           17.38  ...   \n",
       "13166    의료용 물질 및 의약품 제조업   2005/07/15  2018/02/09           18.34  ...   \n",
       "13167    의료용 물질 및 의약품 제조업   2005/07/15  2018/02/09            9.96  ...   \n",
       "\n",
       "       인건비(IFRS연결)(백만원)  금융비용(IFRS연결)(백만원)  임차료(IFRS연결)(백만원)  \\\n",
       "1444           56122.23            9244.68           1026.32   \n",
       "1445           47863.33           21608.50           1044.44   \n",
       "1446           75196.20           28158.55           1898.77   \n",
       "1447           84885.07           22657.19           2211.66   \n",
       "1448          101885.24           14297.96           2242.57   \n",
       "1449          129910.64            9133.63           2502.06   \n",
       "1450          165997.87            3948.96           2838.20   \n",
       "1451          209351.25           -1228.84           1101.15   \n",
       "1452          243184.58            1537.81              0.00   \n",
       "1453          252822.59            1602.49              0.00   \n",
       "1454          276427.54           -6943.42              0.00   \n",
       "1455          304339.57           -9466.72              0.00   \n",
       "13163          56122.23            9244.68           1026.32   \n",
       "13164          47863.33           21608.50           1044.44   \n",
       "13165          75196.20           28158.55           1898.77   \n",
       "13166          84885.07           22657.19           2211.66   \n",
       "13167          99333.59           10847.19           2242.57   \n",
       "\n",
       "       세금과공과(IFRS연결)(백만원)  감가상각비(IFRS연결)(백만원)  종업원1인당 부가가치(IFRS연결)(백만원).1  \\\n",
       "1444               946.04            36679.19                         NaN   \n",
       "1445              1100.75            47710.47                         NaN   \n",
       "1446              2093.42            76278.81                         NaN   \n",
       "1447              2218.44            82174.08                         NaN   \n",
       "1448              3546.02            84773.55                         NaN   \n",
       "1449              3881.94            97950.27                         NaN   \n",
       "1450              4763.27           124826.47                         NaN   \n",
       "1451              5584.20           153719.62                         NaN   \n",
       "1452              5846.31           173849.80                         NaN   \n",
       "1453              6821.75           214159.74                         NaN   \n",
       "1454              7223.42           226390.02                         NaN   \n",
       "1455              7919.81           245827.33                         NaN   \n",
       "13163              946.04            36679.19                         NaN   \n",
       "13164             1100.75            47710.47                         NaN   \n",
       "13165             2093.42            76278.81                         NaN   \n",
       "13166             2218.44            82174.08                         NaN   \n",
       "13167             3546.02            88675.33                         NaN   \n",
       "\n",
       "       총자본투자효율(IFRS연결).1  기계투자효율(IFRS연결).1  부가가치율(IFRS연결).1  종업원수(IFRS연결)  \n",
       "1444               16.82           2440.15            83.21           NaN  \n",
       "1445               11.87           2214.09           103.78           NaN  \n",
       "1446               14.33           2358.47            70.64           NaN  \n",
       "1447               13.00            480.46            59.21           NaN  \n",
       "1448               14.02            138.42            60.27           NaN  \n",
       "1449               22.05            271.63            76.54           NaN  \n",
       "1450               17.24            247.20            61.50           NaN  \n",
       "1451               19.45            259.78            66.51           NaN  \n",
       "1452               21.54            365.66            58.49           NaN  \n",
       "1453               21.62            407.25            64.17           NaN  \n",
       "1454               19.17            425.62            49.44           NaN  \n",
       "1455                6.12            521.69            56.04           NaN  \n",
       "13163              16.82           2440.15            83.21           NaN  \n",
       "13164              11.87           2214.09           103.78           NaN  \n",
       "13165              14.33           2358.47            70.64           NaN  \n",
       "13166              13.00            480.46            59.21           NaN  \n",
       "13167              14.36            148.62            64.72           NaN  \n",
       "\n",
       "[17 rows x 156 columns]"
      ]
     },
     "execution_count": 6,
     "metadata": {},
     "output_type": "execute_result"
    }
   ],
   "source": [
    "listed[listed['거래소코드'] == 68270]"
   ]
  },
  {
   "cell_type": "code",
   "execution_count": 7,
   "metadata": {},
   "outputs": [
    {
     "data": {
      "text/plain": [
       "(27971, 156)"
      ]
     },
     "execution_count": 7,
     "metadata": {},
     "output_type": "execute_result"
    }
   ],
   "source": [
    "listed.shape"
   ]
  },
  {
   "cell_type": "code",
   "execution_count": 8,
   "metadata": {},
   "outputs": [
    {
     "data": {
      "text/plain": [
       "(2739, 156)"
      ]
     },
     "execution_count": 8,
     "metadata": {},
     "output_type": "execute_result"
    }
   ],
   "source": [
    "listed.drop_duplicates('거래소코드').shape"
   ]
  },
  {
   "cell_type": "markdown",
   "metadata": {},
   "source": [
    "# 결산월이 12월인 기업만"
   ]
  },
  {
   "cell_type": "code",
   "execution_count": 9,
   "metadata": {},
   "outputs": [],
   "source": [
    "listed['회계년도'] = pd.to_datetime(listed['회계년도'], format='%Y/%m')\n",
    "listed = listed[listed['회계년도'].dt.month == 12]"
   ]
  },
  {
   "cell_type": "code",
   "execution_count": 10,
   "metadata": {},
   "outputs": [
    {
     "data": {
      "text/plain": [
       "(27554, 156)"
      ]
     },
     "execution_count": 10,
     "metadata": {},
     "output_type": "execute_result"
    }
   ],
   "source": [
    "listed.shape"
   ]
  },
  {
   "cell_type": "code",
   "execution_count": 11,
   "metadata": {},
   "outputs": [
    {
     "data": {
      "text/plain": [
       "(2715, 156)"
      ]
     },
     "execution_count": 11,
     "metadata": {},
     "output_type": "execute_result"
    }
   ],
   "source": [
    "listed.drop_duplicates('거래소코드').shape"
   ]
  },
  {
   "cell_type": "markdown",
   "metadata": {},
   "source": [
    "# 특수 목적 회사 drop\n",
    "- 1차 통계청 한국표준산업분류(KSIC) 기준으로 제거\n",
    "    - K. 금융및보험업(64~66)\n",
    "        - 64. 금융업\n",
    "        - 65. 보험및연금업\n",
    "        - 66. 금융및보험관련서비스업\n",
    "- 2차 키워드 제거\n",
    "    - 인베스트|투자|금융|보험|캐피탈|특수목적|프로젝트|문화산업"
   ]
  },
  {
   "cell_type": "code",
   "execution_count": 12,
   "metadata": {},
   "outputs": [],
   "source": [
    "listed = listed[~listed['통계청 한국표준산업분류 코드 10차(대분류)'].isin([64, 65, 66])]\n",
    "listed = listed[~listed['회사명'].str.contains('인베스트|투자|금융|보험|캐피탈|특수목적|프로젝트|문화산업')]"
   ]
  },
  {
   "cell_type": "code",
   "execution_count": 13,
   "metadata": {},
   "outputs": [
    {
     "data": {
      "text/plain": [
       "(27388, 156)"
      ]
     },
     "execution_count": 13,
     "metadata": {},
     "output_type": "execute_result"
    }
   ],
   "source": [
    "listed.shape"
   ]
  },
  {
   "cell_type": "code",
   "execution_count": 14,
   "metadata": {},
   "outputs": [
    {
     "data": {
      "text/plain": [
       "(2700, 156)"
      ]
     },
     "execution_count": 14,
     "metadata": {},
     "output_type": "execute_result"
    }
   ],
   "source": [
    "listed.drop_duplicates('거래소코드').shape"
   ]
  },
  {
   "cell_type": "markdown",
   "metadata": {},
   "source": [
    "# 이전 상장에 따른 중복 데이터 제거"
   ]
  },
  {
   "cell_type": "code",
   "execution_count": 15,
   "metadata": {},
   "outputs": [
    {
     "data": {
      "text/plain": [
       "Index([  3670,  22100,  26960,  30190,  34230,  35510,  35720,  36420,  66970,\n",
       "        68270,  90460,  97520, 100090, 108320, 178920, 192080],\n",
       "      dtype='int64', name='거래소코드')"
      ]
     },
     "execution_count": 15,
     "metadata": {},
     "output_type": "execute_result"
    }
   ],
   "source": [
    "# Step 1: 소속코드가 4와 1을 모두 가지는 거래소코드 찾기\n",
    "# 거래소코드별로 그룹화하여 소속코드를 집합으로 만든 후, 조건을 만족하는 거래소코드를 필터링합니다.\n",
    "grouped = listed.groupby('거래소코드')['소속코드'].apply(set)\n",
    "target_codes = grouped[grouped.apply(lambda x: {1, 4}.issubset(x))].index\n",
    "target_codes"
   ]
  },
  {
   "cell_type": "code",
   "execution_count": 16,
   "metadata": {},
   "outputs": [],
   "source": [
    "# Step 2: 소속코드가 4이고 상장폐지일이 존재하는 행 제거\n",
    "listed = listed[~((listed['거래소코드'].isin(target_codes)) & (listed['소속코드'] == 4) & (~listed['상장폐지일'].isna()))]"
   ]
  },
  {
   "cell_type": "code",
   "execution_count": 17,
   "metadata": {},
   "outputs": [
    {
     "data": {
      "text/plain": [
       "(27260, 156)"
      ]
     },
     "execution_count": 17,
     "metadata": {},
     "output_type": "execute_result"
    }
   ],
   "source": [
    "listed.shape"
   ]
  },
  {
   "cell_type": "code",
   "execution_count": 18,
   "metadata": {},
   "outputs": [
    {
     "data": {
      "text/plain": [
       "(2700, 156)"
      ]
     },
     "execution_count": 18,
     "metadata": {},
     "output_type": "execute_result"
    }
   ],
   "source": [
    "listed.drop_duplicates('거래소코드').shape"
   ]
  },
  {
   "cell_type": "markdown",
   "metadata": {},
   "source": [
    "# 상장 이전 데이터 제거"
   ]
  },
  {
   "cell_type": "code",
   "execution_count": 19,
   "metadata": {},
   "outputs": [
    {
     "name": "stdout",
     "output_type": "stream",
     "text": [
      "<class 'pandas.core.frame.DataFrame'>\n",
      "Index: 27260 entries, 0 to 27970\n",
      "Data columns (total 2 columns):\n",
      " #   Column  Non-Null Count  Dtype         \n",
      "---  ------  --------------  -----         \n",
      " 0   회계년도    27260 non-null  datetime64[ns]\n",
      " 1   상장일     27260 non-null  object        \n",
      "dtypes: datetime64[ns](1), object(1)\n",
      "memory usage: 638.9+ KB\n"
     ]
    }
   ],
   "source": [
    "listed[['회계년도', '상장일']].info()"
   ]
  },
  {
   "cell_type": "code",
   "execution_count": 20,
   "metadata": {},
   "outputs": [],
   "source": [
    "listed['상장일'] = pd.to_datetime(listed['상장일'], format='%Y/%m/%d')"
   ]
  },
  {
   "cell_type": "code",
   "execution_count": 21,
   "metadata": {},
   "outputs": [
    {
     "data": {
      "text/html": [
       "<div>\n",
       "<style scoped>\n",
       "    .dataframe tbody tr th:only-of-type {\n",
       "        vertical-align: middle;\n",
       "    }\n",
       "\n",
       "    .dataframe tbody tr th {\n",
       "        vertical-align: top;\n",
       "    }\n",
       "\n",
       "    .dataframe thead th {\n",
       "        text-align: right;\n",
       "    }\n",
       "</style>\n",
       "<table border=\"1\" class=\"dataframe\">\n",
       "  <thead>\n",
       "    <tr style=\"text-align: right;\">\n",
       "      <th></th>\n",
       "      <th>회사명</th>\n",
       "      <th>거래소코드</th>\n",
       "      <th>회계년도</th>\n",
       "      <th>상장일</th>\n",
       "    </tr>\n",
       "  </thead>\n",
       "  <tbody>\n",
       "    <tr>\n",
       "      <th>140</th>\n",
       "      <td>(주)경보제약</td>\n",
       "      <td>214390</td>\n",
       "      <td>2012-12-01</td>\n",
       "      <td>2015-06-29</td>\n",
       "    </tr>\n",
       "    <tr>\n",
       "      <th>141</th>\n",
       "      <td>(주)경보제약</td>\n",
       "      <td>214390</td>\n",
       "      <td>2013-12-01</td>\n",
       "      <td>2015-06-29</td>\n",
       "    </tr>\n",
       "    <tr>\n",
       "      <th>142</th>\n",
       "      <td>(주)경보제약</td>\n",
       "      <td>214390</td>\n",
       "      <td>2014-12-01</td>\n",
       "      <td>2015-06-29</td>\n",
       "    </tr>\n",
       "    <tr>\n",
       "      <th>224</th>\n",
       "      <td>(주)금호에이치티</td>\n",
       "      <td>214330</td>\n",
       "      <td>2012-12-01</td>\n",
       "      <td>2015-11-11</td>\n",
       "    </tr>\n",
       "    <tr>\n",
       "      <th>225</th>\n",
       "      <td>(주)금호에이치티</td>\n",
       "      <td>214330</td>\n",
       "      <td>2013-12-01</td>\n",
       "      <td>2015-11-11</td>\n",
       "    </tr>\n",
       "    <tr>\n",
       "      <th>...</th>\n",
       "      <td>...</td>\n",
       "      <td>...</td>\n",
       "      <td>...</td>\n",
       "      <td>...</td>\n",
       "    </tr>\n",
       "    <tr>\n",
       "      <th>27913</th>\n",
       "      <td>휴림네트웍스(주)</td>\n",
       "      <td>192410</td>\n",
       "      <td>2012-12-01</td>\n",
       "      <td>2014-08-14</td>\n",
       "    </tr>\n",
       "    <tr>\n",
       "      <th>27914</th>\n",
       "      <td>휴림네트웍스(주)</td>\n",
       "      <td>192410</td>\n",
       "      <td>2013-12-01</td>\n",
       "      <td>2014-08-14</td>\n",
       "    </tr>\n",
       "    <tr>\n",
       "      <th>27947</th>\n",
       "      <td>휴젤(주)</td>\n",
       "      <td>145020</td>\n",
       "      <td>2012-12-01</td>\n",
       "      <td>2015-12-24</td>\n",
       "    </tr>\n",
       "    <tr>\n",
       "      <th>27948</th>\n",
       "      <td>휴젤(주)</td>\n",
       "      <td>145020</td>\n",
       "      <td>2013-12-01</td>\n",
       "      <td>2015-12-24</td>\n",
       "    </tr>\n",
       "    <tr>\n",
       "      <th>27949</th>\n",
       "      <td>휴젤(주)</td>\n",
       "      <td>145020</td>\n",
       "      <td>2014-12-01</td>\n",
       "      <td>2015-12-24</td>\n",
       "    </tr>\n",
       "  </tbody>\n",
       "</table>\n",
       "<p>3943 rows × 4 columns</p>\n",
       "</div>"
      ],
      "text/plain": [
       "             회사명   거래소코드       회계년도        상장일\n",
       "140      (주)경보제약  214390 2012-12-01 2015-06-29\n",
       "141      (주)경보제약  214390 2013-12-01 2015-06-29\n",
       "142      (주)경보제약  214390 2014-12-01 2015-06-29\n",
       "224    (주)금호에이치티  214330 2012-12-01 2015-11-11\n",
       "225    (주)금호에이치티  214330 2013-12-01 2015-11-11\n",
       "...          ...     ...        ...        ...\n",
       "27913  휴림네트웍스(주)  192410 2012-12-01 2014-08-14\n",
       "27914  휴림네트웍스(주)  192410 2013-12-01 2014-08-14\n",
       "27947      휴젤(주)  145020 2012-12-01 2015-12-24\n",
       "27948      휴젤(주)  145020 2013-12-01 2015-12-24\n",
       "27949      휴젤(주)  145020 2014-12-01 2015-12-24\n",
       "\n",
       "[3943 rows x 4 columns]"
      ]
     },
     "execution_count": 21,
     "metadata": {},
     "output_type": "execute_result"
    }
   ],
   "source": [
    "# 회계년도가 상장년도 이전(미만)인 데이터 제거\n",
    "listed[listed['회계년도'].dt.year < listed['상장일'].dt.year][['회사명', '거래소코드', '회계년도', '상장일']]"
   ]
  },
  {
   "cell_type": "code",
   "execution_count": 22,
   "metadata": {},
   "outputs": [],
   "source": [
    "# 회계년도가 상장년도 이전(미만)인 데이터 제거\n",
    "listed = listed[listed['회계년도'].dt.year >= listed['상장일'].dt.year]"
   ]
  },
  {
   "cell_type": "code",
   "execution_count": 23,
   "metadata": {},
   "outputs": [
    {
     "data": {
      "text/plain": [
       "(23317, 156)"
      ]
     },
     "execution_count": 23,
     "metadata": {},
     "output_type": "execute_result"
    }
   ],
   "source": [
    "listed.shape"
   ]
  },
  {
   "cell_type": "code",
   "execution_count": 24,
   "metadata": {},
   "outputs": [
    {
     "data": {
      "text/plain": [
       "(2641, 156)"
      ]
     },
     "execution_count": 24,
     "metadata": {},
     "output_type": "execute_result"
    }
   ],
   "source": [
    "listed.drop_duplicates('거래소코드').shape"
   ]
  },
  {
   "cell_type": "markdown",
   "metadata": {},
   "source": [
    "# merge"
   ]
  },
  {
   "cell_type": "markdown",
   "metadata": {},
   "source": [
    "### 회계 감리 지적 기업 csv 불러오기"
   ]
  },
  {
   "cell_type": "code",
   "execution_count": 55,
   "metadata": {},
   "outputs": [],
   "source": [
    "fraud = pd.read_csv('../data/raw_data/회계 감리 지적 기업.csv')"
   ]
  },
  {
   "cell_type": "code",
   "execution_count": 58,
   "metadata": {},
   "outputs": [
    {
     "data": {
      "text/html": [
       "<div>\n",
       "<style scoped>\n",
       "    .dataframe tbody tr th:only-of-type {\n",
       "        vertical-align: middle;\n",
       "    }\n",
       "\n",
       "    .dataframe tbody tr th {\n",
       "        vertical-align: top;\n",
       "    }\n",
       "\n",
       "    .dataframe thead th {\n",
       "        text-align: right;\n",
       "    }\n",
       "</style>\n",
       "<table border=\"1\" class=\"dataframe\">\n",
       "  <thead>\n",
       "    <tr style=\"text-align: right;\">\n",
       "      <th></th>\n",
       "      <th>기업명</th>\n",
       "      <th>거래소코드</th>\n",
       "      <th>기업유형</th>\n",
       "      <th>회계년도</th>\n",
       "      <th>이익 과대계상 (비용 과소계상)</th>\n",
       "    </tr>\n",
       "  </thead>\n",
       "  <tbody>\n",
       "    <tr>\n",
       "      <th>0</th>\n",
       "      <td>현대건설(주)</td>\n",
       "      <td>720</td>\n",
       "      <td>코스피</td>\n",
       "      <td>2013</td>\n",
       "      <td>1</td>\n",
       "    </tr>\n",
       "    <tr>\n",
       "      <th>1</th>\n",
       "      <td>현대건설(주)</td>\n",
       "      <td>720</td>\n",
       "      <td>코스피</td>\n",
       "      <td>2014</td>\n",
       "      <td>1</td>\n",
       "    </tr>\n",
       "    <tr>\n",
       "      <th>2</th>\n",
       "      <td>현대건설(주)</td>\n",
       "      <td>720</td>\n",
       "      <td>코스피</td>\n",
       "      <td>2015</td>\n",
       "      <td>1</td>\n",
       "    </tr>\n",
       "    <tr>\n",
       "      <th>3</th>\n",
       "      <td>현대건설(주)</td>\n",
       "      <td>720</td>\n",
       "      <td>코스피</td>\n",
       "      <td>2016</td>\n",
       "      <td>1</td>\n",
       "    </tr>\n",
       "    <tr>\n",
       "      <th>4</th>\n",
       "      <td>백광산업(주)</td>\n",
       "      <td>1340</td>\n",
       "      <td>코스피</td>\n",
       "      <td>2015</td>\n",
       "      <td>1</td>\n",
       "    </tr>\n",
       "    <tr>\n",
       "      <th>...</th>\n",
       "      <td>...</td>\n",
       "      <td>...</td>\n",
       "      <td>...</td>\n",
       "      <td>...</td>\n",
       "      <td>...</td>\n",
       "    </tr>\n",
       "    <tr>\n",
       "      <th>421</th>\n",
       "      <td>(주)에스에스알</td>\n",
       "      <td>275630</td>\n",
       "      <td>코스닥</td>\n",
       "      <td>2019</td>\n",
       "      <td>1</td>\n",
       "    </tr>\n",
       "    <tr>\n",
       "      <th>422</th>\n",
       "      <td>에어부산(주)</td>\n",
       "      <td>298690</td>\n",
       "      <td>코스피</td>\n",
       "      <td>2015</td>\n",
       "      <td>0</td>\n",
       "    </tr>\n",
       "    <tr>\n",
       "      <th>423</th>\n",
       "      <td>조선내화(주)</td>\n",
       "      <td>462520</td>\n",
       "      <td>코스피</td>\n",
       "      <td>2012</td>\n",
       "      <td>1</td>\n",
       "    </tr>\n",
       "    <tr>\n",
       "      <th>424</th>\n",
       "      <td>조선내화(주)</td>\n",
       "      <td>462520</td>\n",
       "      <td>코스피</td>\n",
       "      <td>2013</td>\n",
       "      <td>1</td>\n",
       "    </tr>\n",
       "    <tr>\n",
       "      <th>425</th>\n",
       "      <td>애머릿지코퍼레이션</td>\n",
       "      <td>900100</td>\n",
       "      <td>코스닥</td>\n",
       "      <td>2018</td>\n",
       "      <td>0</td>\n",
       "    </tr>\n",
       "  </tbody>\n",
       "</table>\n",
       "<p>426 rows × 5 columns</p>\n",
       "</div>"
      ],
      "text/plain": [
       "           기업명   거래소코드 기업유형  회계년도  이익 과대계상 (비용 과소계상)\n",
       "0      현대건설(주)     720  코스피  2013                  1\n",
       "1      현대건설(주)     720  코스피  2014                  1\n",
       "2      현대건설(주)     720  코스피  2015                  1\n",
       "3      현대건설(주)     720  코스피  2016                  1\n",
       "4      백광산업(주)    1340  코스피  2015                  1\n",
       "..         ...     ...  ...   ...                ...\n",
       "421   (주)에스에스알  275630  코스닥  2019                  1\n",
       "422    에어부산(주)  298690  코스피  2015                  0\n",
       "423    조선내화(주)  462520  코스피  2012                  1\n",
       "424    조선내화(주)  462520  코스피  2013                  1\n",
       "425  애머릿지코퍼레이션  900100  코스닥  2018                  0\n",
       "\n",
       "[426 rows x 5 columns]"
      ]
     },
     "execution_count": 58,
     "metadata": {},
     "output_type": "execute_result"
    }
   ],
   "source": [
    "fraud"
   ]
  },
  {
   "cell_type": "code",
   "execution_count": 59,
   "metadata": {},
   "outputs": [
    {
     "name": "stdout",
     "output_type": "stream",
     "text": [
      "fraud 로우 수:  (426, 5)\n",
      "fraud 기업 수:  (138, 5)\n"
     ]
    }
   ],
   "source": [
    "print('fraud 로우 수: ', fraud.shape)\n",
    "print('fraud 기업 수: ', fraud.drop_duplicates('거래소코드').shape)"
   ]
  },
  {
   "cell_type": "code",
   "execution_count": 60,
   "metadata": {},
   "outputs": [],
   "source": [
    "# 중복 행 제거 후 인덱스 리셋\n",
    "fraud = fraud.drop_duplicates().reset_index(drop=True)"
   ]
  },
  {
   "cell_type": "code",
   "execution_count": 61,
   "metadata": {},
   "outputs": [
    {
     "name": "stdout",
     "output_type": "stream",
     "text": [
      "fraud 로우 수:  (426, 5)\n",
      "fraud 기업 수:  (138, 5)\n"
     ]
    }
   ],
   "source": [
    "print('fraud 로우 수: ', fraud.shape)\n",
    "print('fraud 기업 수: ', fraud.drop_duplicates('거래소코드').shape)"
   ]
  },
  {
   "cell_type": "markdown",
   "metadata": {},
   "source": [
    "### 기준이 되는 데이터 타입 맞추기"
   ]
  },
  {
   "cell_type": "code",
   "execution_count": 62,
   "metadata": {},
   "outputs": [
    {
     "name": "stdout",
     "output_type": "stream",
     "text": [
      "<class 'pandas.core.frame.DataFrame'>\n",
      "Index: 23317 entries, 0 to 27970\n",
      "Data columns (total 2 columns):\n",
      " #   Column  Non-Null Count  Dtype         \n",
      "---  ------  --------------  -----         \n",
      " 0   거래소코드   23317 non-null  int64         \n",
      " 1   회계년도    23317 non-null  datetime64[ns]\n",
      "dtypes: datetime64[ns](1), int64(1)\n",
      "memory usage: 546.5 KB\n"
     ]
    }
   ],
   "source": [
    "listed[['거래소코드', '회계년도']].info()"
   ]
  },
  {
   "cell_type": "code",
   "execution_count": 63,
   "metadata": {},
   "outputs": [
    {
     "name": "stdout",
     "output_type": "stream",
     "text": [
      "<class 'pandas.core.frame.DataFrame'>\n",
      "RangeIndex: 426 entries, 0 to 425\n",
      "Data columns (total 2 columns):\n",
      " #   Column  Non-Null Count  Dtype\n",
      "---  ------  --------------  -----\n",
      " 0   거래소코드   426 non-null    int64\n",
      " 1   회계년도    426 non-null    int64\n",
      "dtypes: int64(2)\n",
      "memory usage: 6.8 KB\n"
     ]
    }
   ],
   "source": [
    "fraud[['거래소코드', '회계년도']].info()"
   ]
  },
  {
   "cell_type": "code",
   "execution_count": 64,
   "metadata": {},
   "outputs": [],
   "source": [
    "listed['회계년도'] = listed['회계년도'].dt.year"
   ]
  },
  {
   "cell_type": "markdown",
   "metadata": {},
   "source": [
    "### pd.merge(listed, fraud, on=['거래소코드', '회계년도'])"
   ]
  },
  {
   "cell_type": "code",
   "execution_count": 65,
   "metadata": {},
   "outputs": [],
   "source": [
    "listed = pd.merge(listed, fraud, on=['거래소코드', '회계년도'])"
   ]
  },
  {
   "cell_type": "code",
   "execution_count": 66,
   "metadata": {},
   "outputs": [
    {
     "data": {
      "text/plain": [
       "(389, 159)"
      ]
     },
     "execution_count": 66,
     "metadata": {},
     "output_type": "execute_result"
    }
   ],
   "source": [
    "listed.shape"
   ]
  },
  {
   "cell_type": "code",
   "execution_count": 67,
   "metadata": {},
   "outputs": [
    {
     "data": {
      "text/plain": [
       "(132, 159)"
      ]
     },
     "execution_count": 67,
     "metadata": {},
     "output_type": "execute_result"
    }
   ],
   "source": [
    "listed.drop_duplicates('거래소코드').shape"
   ]
  },
  {
   "cell_type": "code",
   "execution_count": 68,
   "metadata": {},
   "outputs": [
    {
     "name": "stdout",
     "output_type": "stream",
     "text": [
      "(128, 159)\n",
      "(261, 159)\n"
     ]
    }
   ],
   "source": [
    "print(listed[listed['기업유형'] == '코스피'].shape)\n",
    "print(listed[listed['기업유형'] == '코스닥'].shape)"
   ]
  },
  {
   "cell_type": "code",
   "execution_count": 69,
   "metadata": {},
   "outputs": [
    {
     "name": "stdout",
     "output_type": "stream",
     "text": [
      "(40, 159)\n",
      "(92, 159)\n"
     ]
    }
   ],
   "source": [
    "print(listed[listed['기업유형'] == '코스피'].drop_duplicates('거래소코드').shape)\n",
    "print(listed[listed['기업유형'] == '코스닥'].drop_duplicates('거래소코드').shape)"
   ]
  },
  {
   "cell_type": "markdown",
   "metadata": {},
   "source": [
    "# 정리"
   ]
  },
  {
   "cell_type": "code",
   "execution_count": 70,
   "metadata": {},
   "outputs": [
    {
     "data": {
      "text/plain": [
       "Index(['회사명', '거래소코드', '회계년도', '소속코드', '통계청 한국표준산업분류 코드 10차(대분류)', '산업코드',\n",
       "       '산업명', '상장일', '상장폐지일', '총자본증가율(IFRS연결)',\n",
       "       ...\n",
       "       '세금과공과(IFRS연결)(백만원)', '감가상각비(IFRS연결)(백만원)',\n",
       "       '종업원1인당 부가가치(IFRS연결)(백만원).1', '총자본투자효율(IFRS연결).1', '기계투자효율(IFRS연결).1',\n",
       "       '부가가치율(IFRS연결).1', '종업원수(IFRS연결)', '기업명', '기업유형', '이익 과대계상 (비용 과소계상)'],\n",
       "      dtype='object', length=159)"
      ]
     },
     "execution_count": 70,
     "metadata": {},
     "output_type": "execute_result"
    }
   ],
   "source": [
    "listed.columns"
   ]
  },
  {
   "cell_type": "code",
   "execution_count": 71,
   "metadata": {},
   "outputs": [
    {
     "data": {
      "text/plain": [
       "Index(['회사명', '거래소코드', '회계년도', '소속코드', '통계청 한국표준산업분류 코드 10차(대분류)', '산업코드',\n",
       "       '산업명', '상장일', '상장폐지일', '총자본증가율(IFRS연결)',\n",
       "       ...\n",
       "       '금융비용(IFRS연결)(백만원)', '임차료(IFRS연결)(백만원)', '세금과공과(IFRS연결)(백만원)',\n",
       "       '감가상각비(IFRS연결)(백만원)', '종업원1인당 부가가치(IFRS연결)(백만원).1', '총자본투자효율(IFRS연결).1',\n",
       "       '기계투자효율(IFRS연결).1', '부가가치율(IFRS연결).1', '종업원수(IFRS연결)',\n",
       "       '이익 과대계상 (비용 과소계상)'],\n",
       "      dtype='object', length=157)"
      ]
     },
     "execution_count": 71,
     "metadata": {},
     "output_type": "execute_result"
    }
   ],
   "source": [
    "listed = listed.drop(columns = ['기업명', '기업유형'])\n",
    "listed.columns"
   ]
  },
  {
   "cell_type": "code",
   "execution_count": 72,
   "metadata": {},
   "outputs": [
    {
     "data": {
      "text/plain": [
       "Index(['회사명', '거래소코드', '회계년도', '소속코드', '통계청 한국표준산업분류 코드 10차(대분류)', '산업코드',\n",
       "       '산업명', '상장일', '상장폐지일', '총자본증가율(IFRS연결)',\n",
       "       ...\n",
       "       '금융비용(IFRS연결)(백만원)', '임차료(IFRS연결)(백만원)', '세금과공과(IFRS연결)(백만원)',\n",
       "       '감가상각비(IFRS연결)(백만원)', '종업원1인당 부가가치(IFRS연결)(백만원).1', '총자본투자효율(IFRS연결).1',\n",
       "       '기계투자효율(IFRS연결).1', '부가가치율(IFRS연결).1', '종업원수(IFRS연결)', 'label'],\n",
       "      dtype='object', length=157)"
      ]
     },
     "execution_count": 72,
     "metadata": {},
     "output_type": "execute_result"
    }
   ],
   "source": [
    "listed = listed.rename(columns={'회사명_x': '회사명', '이익 과대계상 (비용 과소계상)': 'label'})\n",
    "listed.columns"
   ]
  },
  {
   "cell_type": "markdown",
   "metadata": {},
   "source": [
    "---\n",
    "파일 저장"
   ]
  },
  {
   "cell_type": "code",
   "execution_count": 75,
   "metadata": {},
   "outputs": [
    {
     "data": {
      "text/html": [
       "<div>\n",
       "<style scoped>\n",
       "    .dataframe tbody tr th:only-of-type {\n",
       "        vertical-align: middle;\n",
       "    }\n",
       "\n",
       "    .dataframe tbody tr th {\n",
       "        vertical-align: top;\n",
       "    }\n",
       "\n",
       "    .dataframe thead th {\n",
       "        text-align: right;\n",
       "    }\n",
       "</style>\n",
       "<table border=\"1\" class=\"dataframe\">\n",
       "  <thead>\n",
       "    <tr style=\"text-align: right;\">\n",
       "      <th></th>\n",
       "      <th>총자본증가율(IFRS연결)</th>\n",
       "      <th>유형자산증가율(IFRS연결)</th>\n",
       "      <th>비유동생물자산증가율(IFRS연결)</th>\n",
       "      <th>투자부동산증가율(IFRS연결)</th>\n",
       "      <th>비유동자산증가율(IFRS연결)</th>\n",
       "      <th>유동자산증가율(IFRS연결)</th>\n",
       "      <th>재고자산증가율(IFRS연결)</th>\n",
       "      <th>자기자본증가율(IFRS연결)</th>\n",
       "      <th>매출액증가율(IFRS연결)</th>\n",
       "      <th>정상영업이익증가율(IFRS연결)</th>\n",
       "      <th>...</th>\n",
       "      <th>인건비(IFRS연결)(백만원)</th>\n",
       "      <th>금융비용(IFRS연결)(백만원)</th>\n",
       "      <th>임차료(IFRS연결)(백만원)</th>\n",
       "      <th>세금과공과(IFRS연결)(백만원)</th>\n",
       "      <th>감가상각비(IFRS연결)(백만원)</th>\n",
       "      <th>종업원1인당 부가가치(IFRS연결)(백만원).1</th>\n",
       "      <th>총자본투자효율(IFRS연결).1</th>\n",
       "      <th>기계투자효율(IFRS연결).1</th>\n",
       "      <th>부가가치율(IFRS연결).1</th>\n",
       "      <th>종업원수(IFRS연결)</th>\n",
       "    </tr>\n",
       "  </thead>\n",
       "  <tbody>\n",
       "    <tr>\n",
       "      <th>count</th>\n",
       "      <td>300.000000</td>\n",
       "      <td>300.000000</td>\n",
       "      <td>300.0</td>\n",
       "      <td>300.000000</td>\n",
       "      <td>300.000000</td>\n",
       "      <td>300.000000</td>\n",
       "      <td>300.000000</td>\n",
       "      <td>300.000000</td>\n",
       "      <td>300.000000</td>\n",
       "      <td>300.000000</td>\n",
       "      <td>...</td>\n",
       "      <td>3.000000e+02</td>\n",
       "      <td>300.000000</td>\n",
       "      <td>300.000000</td>\n",
       "      <td>300.000000</td>\n",
       "      <td>300.000000</td>\n",
       "      <td>0.0</td>\n",
       "      <td>300.000000</td>\n",
       "      <td>3.000000e+02</td>\n",
       "      <td>300.000000</td>\n",
       "      <td>0.0</td>\n",
       "    </tr>\n",
       "    <tr>\n",
       "      <th>mean</th>\n",
       "      <td>8.425033</td>\n",
       "      <td>53.627400</td>\n",
       "      <td>0.0</td>\n",
       "      <td>19.006800</td>\n",
       "      <td>12.033467</td>\n",
       "      <td>12.507000</td>\n",
       "      <td>73.205667</td>\n",
       "      <td>7.976700</td>\n",
       "      <td>9.212067</td>\n",
       "      <td>393.885567</td>\n",
       "      <td>...</td>\n",
       "      <td>1.178775e+05</td>\n",
       "      <td>11234.410667</td>\n",
       "      <td>6982.367667</td>\n",
       "      <td>1022.728433</td>\n",
       "      <td>26831.007967</td>\n",
       "      <td>NaN</td>\n",
       "      <td>10.684367</td>\n",
       "      <td>-4.921305e+05</td>\n",
       "      <td>12.400867</td>\n",
       "      <td>NaN</td>\n",
       "    </tr>\n",
       "    <tr>\n",
       "      <th>std</th>\n",
       "      <td>58.910089</td>\n",
       "      <td>547.065984</td>\n",
       "      <td>0.0</td>\n",
       "      <td>171.877184</td>\n",
       "      <td>54.448938</td>\n",
       "      <td>98.375163</td>\n",
       "      <td>946.360898</td>\n",
       "      <td>54.865677</td>\n",
       "      <td>50.234301</td>\n",
       "      <td>6703.647359</td>\n",
       "      <td>...</td>\n",
       "      <td>3.235243e+05</td>\n",
       "      <td>52085.698117</td>\n",
       "      <td>49757.162528</td>\n",
       "      <td>5839.932267</td>\n",
       "      <td>73655.638394</td>\n",
       "      <td>NaN</td>\n",
       "      <td>18.829077</td>\n",
       "      <td>8.593250e+06</td>\n",
       "      <td>48.773831</td>\n",
       "      <td>NaN</td>\n",
       "    </tr>\n",
       "    <tr>\n",
       "      <th>min</th>\n",
       "      <td>-81.910000</td>\n",
       "      <td>-99.030000</td>\n",
       "      <td>0.0</td>\n",
       "      <td>-92.310000</td>\n",
       "      <td>-79.940000</td>\n",
       "      <td>-94.560000</td>\n",
       "      <td>-97.940000</td>\n",
       "      <td>-87.530000</td>\n",
       "      <td>-98.090000</td>\n",
       "      <td>-1542.640000</td>\n",
       "      <td>...</td>\n",
       "      <td>-2.386364e+04</td>\n",
       "      <td>-54363.000000</td>\n",
       "      <td>-194.640000</td>\n",
       "      <td>0.000000</td>\n",
       "      <td>0.000000</td>\n",
       "      <td>NaN</td>\n",
       "      <td>-95.660000</td>\n",
       "      <td>-1.488342e+08</td>\n",
       "      <td>-345.880000</td>\n",
       "      <td>NaN</td>\n",
       "    </tr>\n",
       "    <tr>\n",
       "      <th>25%</th>\n",
       "      <td>-4.490000</td>\n",
       "      <td>-6.890000</td>\n",
       "      <td>0.0</td>\n",
       "      <td>0.000000</td>\n",
       "      <td>-5.955000</td>\n",
       "      <td>-7.722500</td>\n",
       "      <td>-10.687500</td>\n",
       "      <td>-8.542500</td>\n",
       "      <td>-9.202500</td>\n",
       "      <td>0.000000</td>\n",
       "      <td>...</td>\n",
       "      <td>5.995528e+03</td>\n",
       "      <td>97.345000</td>\n",
       "      <td>0.000000</td>\n",
       "      <td>0.000000</td>\n",
       "      <td>1478.502500</td>\n",
       "      <td>NaN</td>\n",
       "      <td>3.410000</td>\n",
       "      <td>0.000000e+00</td>\n",
       "      <td>4.572500</td>\n",
       "      <td>NaN</td>\n",
       "    </tr>\n",
       "    <tr>\n",
       "      <th>50%</th>\n",
       "      <td>2.635000</td>\n",
       "      <td>0.000000</td>\n",
       "      <td>0.0</td>\n",
       "      <td>0.000000</td>\n",
       "      <td>1.360000</td>\n",
       "      <td>1.745000</td>\n",
       "      <td>0.000000</td>\n",
       "      <td>1.145000</td>\n",
       "      <td>1.170000</td>\n",
       "      <td>0.000000</td>\n",
       "      <td>...</td>\n",
       "      <td>1.538902e+04</td>\n",
       "      <td>1190.630000</td>\n",
       "      <td>0.000000</td>\n",
       "      <td>0.000000</td>\n",
       "      <td>3607.165000</td>\n",
       "      <td>NaN</td>\n",
       "      <td>12.250000</td>\n",
       "      <td>1.956550e+02</td>\n",
       "      <td>19.210000</td>\n",
       "      <td>NaN</td>\n",
       "    </tr>\n",
       "    <tr>\n",
       "      <th>75%</th>\n",
       "      <td>10.742500</td>\n",
       "      <td>9.205000</td>\n",
       "      <td>0.0</td>\n",
       "      <td>0.000000</td>\n",
       "      <td>16.930000</td>\n",
       "      <td>14.962500</td>\n",
       "      <td>16.167500</td>\n",
       "      <td>11.667500</td>\n",
       "      <td>15.020000</td>\n",
       "      <td>1.600000</td>\n",
       "      <td>...</td>\n",
       "      <td>5.856620e+04</td>\n",
       "      <td>3470.422500</td>\n",
       "      <td>174.007500</td>\n",
       "      <td>0.000000</td>\n",
       "      <td>10899.215000</td>\n",
       "      <td>NaN</td>\n",
       "      <td>22.615000</td>\n",
       "      <td>7.014225e+02</td>\n",
       "      <td>32.782500</td>\n",
       "      <td>NaN</td>\n",
       "    </tr>\n",
       "    <tr>\n",
       "      <th>max</th>\n",
       "      <td>922.640000</td>\n",
       "      <td>9039.490000</td>\n",
       "      <td>0.0</td>\n",
       "      <td>2133.950000</td>\n",
       "      <td>574.830000</td>\n",
       "      <td>1591.630000</td>\n",
       "      <td>16282.800000</td>\n",
       "      <td>499.400000</td>\n",
       "      <td>469.560000</td>\n",
       "      <td>116066.340000</td>\n",
       "      <td>...</td>\n",
       "      <td>2.055868e+06</td>\n",
       "      <td>459499.000000</td>\n",
       "      <td>602155.270000</td>\n",
       "      <td>62921.000000</td>\n",
       "      <td>550894.000000</td>\n",
       "      <td>NaN</td>\n",
       "      <td>62.640000</td>\n",
       "      <td>4.761613e+05</td>\n",
       "      <td>176.650000</td>\n",
       "      <td>NaN</td>\n",
       "    </tr>\n",
       "  </tbody>\n",
       "</table>\n",
       "<p>8 rows × 147 columns</p>\n",
       "</div>"
      ],
      "text/plain": [
       "       총자본증가율(IFRS연결)  유형자산증가율(IFRS연결)  비유동생물자산증가율(IFRS연결)  투자부동산증가율(IFRS연결)  \\\n",
       "count      300.000000       300.000000               300.0        300.000000   \n",
       "mean         8.425033        53.627400                 0.0         19.006800   \n",
       "std         58.910089       547.065984                 0.0        171.877184   \n",
       "min        -81.910000       -99.030000                 0.0        -92.310000   \n",
       "25%         -4.490000        -6.890000                 0.0          0.000000   \n",
       "50%          2.635000         0.000000                 0.0          0.000000   \n",
       "75%         10.742500         9.205000                 0.0          0.000000   \n",
       "max        922.640000      9039.490000                 0.0       2133.950000   \n",
       "\n",
       "       비유동자산증가율(IFRS연결)  유동자산증가율(IFRS연결)  재고자산증가율(IFRS연결)  자기자본증가율(IFRS연결)  \\\n",
       "count        300.000000       300.000000       300.000000       300.000000   \n",
       "mean          12.033467        12.507000        73.205667         7.976700   \n",
       "std           54.448938        98.375163       946.360898        54.865677   \n",
       "min          -79.940000       -94.560000       -97.940000       -87.530000   \n",
       "25%           -5.955000        -7.722500       -10.687500        -8.542500   \n",
       "50%            1.360000         1.745000         0.000000         1.145000   \n",
       "75%           16.930000        14.962500        16.167500        11.667500   \n",
       "max          574.830000      1591.630000     16282.800000       499.400000   \n",
       "\n",
       "       매출액증가율(IFRS연결)  정상영업이익증가율(IFRS연결)  ...  인건비(IFRS연결)(백만원)  \\\n",
       "count      300.000000         300.000000  ...      3.000000e+02   \n",
       "mean         9.212067         393.885567  ...      1.178775e+05   \n",
       "std         50.234301        6703.647359  ...      3.235243e+05   \n",
       "min        -98.090000       -1542.640000  ...     -2.386364e+04   \n",
       "25%         -9.202500           0.000000  ...      5.995528e+03   \n",
       "50%          1.170000           0.000000  ...      1.538902e+04   \n",
       "75%         15.020000           1.600000  ...      5.856620e+04   \n",
       "max        469.560000      116066.340000  ...      2.055868e+06   \n",
       "\n",
       "       금융비용(IFRS연결)(백만원)  임차료(IFRS연결)(백만원)  세금과공과(IFRS연결)(백만원)  \\\n",
       "count         300.000000        300.000000          300.000000   \n",
       "mean        11234.410667       6982.367667         1022.728433   \n",
       "std         52085.698117      49757.162528         5839.932267   \n",
       "min        -54363.000000       -194.640000            0.000000   \n",
       "25%            97.345000          0.000000            0.000000   \n",
       "50%          1190.630000          0.000000            0.000000   \n",
       "75%          3470.422500        174.007500            0.000000   \n",
       "max        459499.000000     602155.270000        62921.000000   \n",
       "\n",
       "       감가상각비(IFRS연결)(백만원)  종업원1인당 부가가치(IFRS연결)(백만원).1  총자본투자효율(IFRS연결).1  \\\n",
       "count          300.000000                         0.0         300.000000   \n",
       "mean         26831.007967                         NaN          10.684367   \n",
       "std          73655.638394                         NaN          18.829077   \n",
       "min              0.000000                         NaN         -95.660000   \n",
       "25%           1478.502500                         NaN           3.410000   \n",
       "50%           3607.165000                         NaN          12.250000   \n",
       "75%          10899.215000                         NaN          22.615000   \n",
       "max         550894.000000                         NaN          62.640000   \n",
       "\n",
       "       기계투자효율(IFRS연결).1  부가가치율(IFRS연결).1  종업원수(IFRS연결)  \n",
       "count      3.000000e+02       300.000000           0.0  \n",
       "mean      -4.921305e+05        12.400867           NaN  \n",
       "std        8.593250e+06        48.773831           NaN  \n",
       "min       -1.488342e+08      -345.880000           NaN  \n",
       "25%        0.000000e+00         4.572500           NaN  \n",
       "50%        1.956550e+02        19.210000           NaN  \n",
       "75%        7.014225e+02        32.782500           NaN  \n",
       "max        4.761613e+05       176.650000           NaN  \n",
       "\n",
       "[8 rows x 147 columns]"
      ]
     },
     "execution_count": 75,
     "metadata": {},
     "output_type": "execute_result"
    }
   ],
   "source": [
    "listed_describe = listed.iloc[:, 8:-1].describe()\n",
    "listed_describe"
   ]
  },
  {
   "cell_type": "markdown",
   "metadata": {},
   "source": [
    "# csv로 저장"
   ]
  },
  {
   "cell_type": "code",
   "execution_count": 76,
   "metadata": {},
   "outputs": [],
   "source": [
    "# listed.to_csv('../data/processed_data/재무비율.csv', index=False, encoding='UTF-8-sig')"
   ]
  },
  {
   "cell_type": "code",
   "execution_count": 77,
   "metadata": {},
   "outputs": [],
   "source": [
    "# listed_describe.to_csv('../data/processed_data/재무비율_기초통계량.csv', index=False, encoding='UTF-8-sig')"
   ]
  },
  {
   "cell_type": "code",
   "execution_count": null,
   "metadata": {},
   "outputs": [],
   "source": []
  }
 ],
 "metadata": {
  "kernelspec": {
   "display_name": "base",
   "language": "python",
   "name": "python3"
  },
  "language_info": {
   "codemirror_mode": {
    "name": "ipython",
    "version": 3
   },
   "file_extension": ".py",
   "mimetype": "text/x-python",
   "name": "python",
   "nbconvert_exporter": "python",
   "pygments_lexer": "ipython3",
   "version": "3.10.9"
  }
 },
 "nbformat": 4,
 "nbformat_minor": 2
}
